{
 "cells": [
  {
   "cell_type": "code",
   "execution_count": 2,
   "id": "ccc22b63",
   "metadata": {},
   "outputs": [],
   "source": [
    "import numpy\n",
    "import numpy as np"
   ]
  },
  {
   "cell_type": "code",
   "execution_count": 2,
   "id": "ac1999fc",
   "metadata": {},
   "outputs": [
    {
     "data": {
      "text/plain": [
       "'1.20.2'"
      ]
     },
     "execution_count": 2,
     "metadata": {},
     "output_type": "execute_result"
    }
   ],
   "source": [
    "numpy.__version__"
   ]
  },
  {
   "cell_type": "markdown",
   "id": "f7341bc3",
   "metadata": {},
   "source": [
    "<h3 style='color:black;font-weight:normal;font-family:Georgia'># You can create arrays also with arrays module. </h3>"
   ]
  },
  {
   "cell_type": "code",
   "execution_count": 3,
   "id": "7829de0c",
   "metadata": {},
   "outputs": [
    {
     "data": {
      "text/plain": [
       "array('i', [10, 20, 30, 40, 50, 60, 70, 80, 90])"
      ]
     },
     "execution_count": 3,
     "metadata": {},
     "output_type": "execute_result"
    }
   ],
   "source": [
    "# This is one way to create efficient arrays, but ndarray is much better.\n",
    "\n",
    "import array\n",
    "array.array('i', range(10, 100, 10))"
   ]
  },
  {
   "cell_type": "code",
   "execution_count": 4,
   "id": "18fcb569",
   "metadata": {},
   "outputs": [
    {
     "data": {
      "text/plain": [
       "array([1, 2, 3, 4, 5])"
      ]
     },
     "execution_count": 4,
     "metadata": {},
     "output_type": "execute_result"
    }
   ],
   "source": [
    "# Using numpy arrays\n",
    "np.array([1,2,3,4,5])"
   ]
  },
  {
   "cell_type": "markdown",
   "id": "459cf515",
   "metadata": {},
   "source": [
    "<h3 style='color:black;font-weight:normal;font-family:Georgia'># If all members of array are NOT of same type, they auto upcast</h3>"
   ]
  },
  {
   "cell_type": "code",
   "execution_count": 5,
   "id": "a45ad74e",
   "metadata": {},
   "outputs": [
    {
     "data": {
      "text/plain": [
       "array([1.5, 1. , 2. , 3. , 4. ])"
      ]
     },
     "execution_count": 5,
     "metadata": {},
     "output_type": "execute_result"
    }
   ],
   "source": [
    "np.array([1.5,1,2,3,4])"
   ]
  },
  {
   "cell_type": "code",
   "execution_count": 6,
   "id": "b2c2855e",
   "metadata": {},
   "outputs": [
    {
     "data": {
      "text/plain": [
       "array(['1', '2', '3', '4', '5'], dtype='<U21')"
      ]
     },
     "execution_count": 6,
     "metadata": {},
     "output_type": "execute_result"
    }
   ],
   "source": [
    "# In this case, since a str is present, all item will auto cast to string.\n",
    "np.array([1, 2,'3', 4, 5])"
   ]
  },
  {
   "cell_type": "markdown",
   "id": "636820c9",
   "metadata": {},
   "source": [
    "<h2 \n",
    "    style='color:black;text-shadow: 1px 1px #000000;font-weight:normal;font-family:Georgia;border-style: solid;padding:10px;'># Lets create arrays of different types</h2>"
   ]
  },
  {
   "cell_type": "code",
   "execution_count": 7,
   "id": "e81e3ab8",
   "metadata": {},
   "outputs": [
    {
     "data": {
      "text/plain": [
       "array([0, 0, 0, 0, 0, 0, 0, 0, 0, 0])"
      ]
     },
     "execution_count": 7,
     "metadata": {},
     "output_type": "execute_result"
    }
   ],
   "source": [
    "np.zeros(10, dtype=int)"
   ]
  },
  {
   "cell_type": "code",
   "execution_count": 8,
   "id": "1e504298",
   "metadata": {},
   "outputs": [
    {
     "data": {
      "text/plain": [
       "array([[0, 0],\n",
       "       [0, 0],\n",
       "       [0, 0]])"
      ]
     },
     "execution_count": 8,
     "metadata": {},
     "output_type": "execute_result"
    }
   ],
   "source": [
    "# 2d array: 3 rows 2 columns array\n",
    "np.zeros((3,2), dtype=int)"
   ]
  },
  {
   "cell_type": "code",
   "execution_count": 9,
   "id": "c30d0eba",
   "metadata": {},
   "outputs": [
    {
     "data": {
      "text/plain": [
       "array([[1, 1, 1],\n",
       "       [1, 1, 1],\n",
       "       [1, 1, 1]])"
      ]
     },
     "execution_count": 9,
     "metadata": {},
     "output_type": "execute_result"
    }
   ],
   "source": [
    "# 2d array with ones\n",
    "np.ones((3,3), dtype=int)"
   ]
  },
  {
   "cell_type": "code",
   "execution_count": 10,
   "id": "d78f3df4",
   "metadata": {},
   "outputs": [
    {
     "data": {
      "text/plain": [
       "array([[5, 5],\n",
       "       [5, 5],\n",
       "       [5, 5]])"
      ]
     },
     "execution_count": 10,
     "metadata": {},
     "output_type": "execute_result"
    }
   ],
   "source": [
    "# Array with all rows & columns full of the same object.\n",
    "np.full((3,2), 5)"
   ]
  },
  {
   "cell_type": "code",
   "execution_count": 11,
   "id": "9999cd1f",
   "metadata": {
    "scrolled": false
   },
   "outputs": [
    {
     "data": {
      "text/plain": [
       "array([['a', 'b'],\n",
       "       ['a', 'b'],\n",
       "       ['a', 'b']], dtype='<U1')"
      ]
     },
     "execution_count": 11,
     "metadata": {},
     "output_type": "execute_result"
    }
   ],
   "source": [
    "# Array with each row same as items.\n",
    "np.full((3, 2), ['a', 'b'])"
   ]
  },
  {
   "cell_type": "code",
   "execution_count": 39,
   "id": "b5c38f21",
   "metadata": {},
   "outputs": [
    {
     "data": {
      "text/plain": [
       "array([0, 1, 2, 3, 4, 5, 6, 7, 8, 9])"
      ]
     },
     "execution_count": 39,
     "metadata": {},
     "output_type": "execute_result"
    }
   ],
   "source": [
    "# Numpy also has a range similar to python range\n",
    "np.arange(10)"
   ]
  },
  {
   "cell_type": "code",
   "execution_count": 13,
   "id": "a2e4f088",
   "metadata": {},
   "outputs": [
    {
     "data": {
      "text/plain": [
       "array([0, 2, 4, 6, 8])"
      ]
     },
     "execution_count": 13,
     "metadata": {},
     "output_type": "execute_result"
    }
   ],
   "source": [
    "# Range with Step.\n",
    "np.arange(0, 10, 2)"
   ]
  },
  {
   "cell_type": "code",
   "execution_count": 14,
   "id": "09c49230",
   "metadata": {},
   "outputs": [
    {
     "data": {
      "text/plain": [
       "array([10., 15., 20., 25., 30.])"
      ]
     },
     "execution_count": 14,
     "metadata": {},
     "output_type": "execute_result"
    }
   ],
   "source": [
    "# linspace creates an array of N items distributed using a lower and upper range.\n",
    "np.linspace(10, 30, 5)"
   ]
  },
  {
   "cell_type": "code",
   "execution_count": 15,
   "id": "65a19193",
   "metadata": {},
   "outputs": [
    {
     "data": {
      "text/plain": [
       "array([[1., 0., 0.],\n",
       "       [0., 1., 0.],\n",
       "       [0., 0., 1.]])"
      ]
     },
     "execution_count": 15,
     "metadata": {},
     "output_type": "execute_result"
    }
   ],
   "source": [
    "# Create an identity matrix using \"eye\".\n",
    "np.eye(3,3)"
   ]
  },
  {
   "cell_type": "code",
   "execution_count": 16,
   "id": "22013e81",
   "metadata": {},
   "outputs": [
    {
     "data": {
      "text/plain": [
       "array([10., 15., 20., 25., 30.])"
      ]
     },
     "execution_count": 16,
     "metadata": {},
     "output_type": "execute_result"
    }
   ],
   "source": [
    "# empty\n",
    "np.empty(5)"
   ]
  },
  {
   "cell_type": "markdown",
   "id": "195ae12e",
   "metadata": {},
   "source": [
    "<h2 style=\"color:black;font-weight:normal;font-family:Georgia\">Standard Deviation is the amount of variation in a set of values</h2>\n",
    "<ul>\n",
    "    <li>Mean can be imagined as, the expected value.</li>\n",
    "    <li>The lower the standar deviation, the closer it is, to the mean.</li>\n",
    "</ul>"
   ]
  },
  {
   "cell_type": "markdown",
   "id": "ff7fda28",
   "metadata": {},
   "source": [
    "<h3 style=\"color:black;font-weight:normal;font-family:Georgia;border-style: solid;padding:10px;\">Creating matrices with random elements.</h3>"
   ]
  },
  {
   "cell_type": "code",
   "execution_count": 17,
   "id": "d9009ec1",
   "metadata": {},
   "outputs": [
    {
     "data": {
      "text/plain": [
       "array([[-0.05826978, -1.06301436, -1.29339595],\n",
       "       [-2.24043126, -0.11533835, -0.66403868],\n",
       "       [-0.38438528, -0.49967721, -2.40806047]])"
      ]
     },
     "execution_count": 17,
     "metadata": {},
     "output_type": "execute_result"
    }
   ],
   "source": [
    "np.random.normal(0, 1, (3, 3)) # Here 0 is mean and 1 is standard deviation "
   ]
  },
  {
   "cell_type": "code",
   "execution_count": 37,
   "id": "e8dc2ea7",
   "metadata": {},
   "outputs": [
    {
     "data": {
      "text/plain": [
       "array([[2, 9, 6],\n",
       "       [5, 9, 1],\n",
       "       [5, 8, 3]])"
      ]
     },
     "execution_count": 37,
     "metadata": {},
     "output_type": "execute_result"
    }
   ],
   "source": [
    "# randint(low, high, size, dtype) , high is exclusive, but low is inclusive.\n",
    "np.random.randint(1, 10, (3,3))"
   ]
  },
  {
   "cell_type": "code",
   "execution_count": 19,
   "id": "5ec29cb0",
   "metadata": {
    "scrolled": true
   },
   "outputs": [
    {
     "data": {
      "text/plain": [
       "array([[0.91958971, 0.36501128, 0.13770614],\n",
       "       [0.77538957, 0.56982112, 0.6670393 ]])"
      ]
     },
     "execution_count": 19,
     "metadata": {},
     "output_type": "execute_result"
    }
   ],
   "source": [
    "# random will create an array of r * c with items randomly picked b/w 0 and 1.\n",
    "np.random.random((2,3))"
   ]
  },
  {
   "cell_type": "code",
   "execution_count": 24,
   "id": "0429e043",
   "metadata": {},
   "outputs": [
    {
     "data": {
      "text/plain": [
       "array([58, 46, 93, 94, 72, 67, 79, 71,  9, 93])"
      ]
     },
     "execution_count": 24,
     "metadata": {},
     "output_type": "execute_result"
    }
   ],
   "source": [
    "np.random.randint(1, 100, size=10)"
   ]
  },
  {
   "cell_type": "code",
   "execution_count": 25,
   "id": "30575f87",
   "metadata": {},
   "outputs": [
    {
     "data": {
      "text/plain": [
       "47"
      ]
     },
     "execution_count": 25,
     "metadata": {},
     "output_type": "execute_result"
    }
   ],
   "source": [
    "# Give me a random integer from range 1 to 100.\n",
    "np.random.randint(1, 100)"
   ]
  },
  {
   "cell_type": "code",
   "execution_count": 38,
   "id": "5aeb6e96",
   "metadata": {},
   "outputs": [
    {
     "data": {
      "text/plain": [
       "array([1, 1, 1])"
      ]
     },
     "execution_count": 38,
     "metadata": {},
     "output_type": "execute_result"
    }
   ],
   "source": [
    "# Give me a 1d array filled with random numbers selcted from range 0 to 2 (2 being exclusive)\n",
    "np.random.randint(low=0, high=2, size=3)"
   ]
  },
  {
   "cell_type": "code",
   "execution_count": 5,
   "id": "7a4084b3",
   "metadata": {},
   "outputs": [
    {
     "data": {
      "text/plain": [
       "(10, 2)"
      ]
     },
     "execution_count": 5,
     "metadata": {},
     "output_type": "execute_result"
    }
   ],
   "source": [
    "# From 0 to 1, 10 rows with 2 columns each.\n",
    "a = np.random.rand(10, 2) # Row, Col\n",
    "a.shape"
   ]
  },
  {
   "cell_type": "markdown",
   "id": "02ec2449",
   "metadata": {},
   "source": [
    "# What if"
   ]
  },
  {
   "cell_type": "markdown",
   "id": "324f8fa1",
   "metadata": {},
   "source": [
    "- What if an array has a None, can we create one?\n",
    "- What type does it have\n",
    "- Does it auto cast? To what?"
   ]
  },
  {
   "cell_type": "code",
   "execution_count": 5,
   "id": "5a58728c",
   "metadata": {},
   "outputs": [
    {
     "data": {
      "text/plain": [
       "array([1, 'a', True, None, 2.5], dtype=object)"
      ]
     },
     "execution_count": 5,
     "metadata": {},
     "output_type": "execute_result"
    }
   ],
   "source": [
    "my_special_array = np.array([1, 'a', True, None, 2.5])\n",
    "my_special_array"
   ]
  },
  {
   "cell_type": "markdown",
   "id": "4f9f40c1",
   "metadata": {},
   "source": [
    "<blockquote class=\"lead\">Answer 1: Yes, we can have an array with None</blockquote>\n",
    "<blockquote class=\"lead\">Answer 2: It has an \"object\" type which is a general type.</blockquote>\n",
    "<blockquote class=\"lead\">Answer 3: No, it doesn't auto cast to anything.</blockquote>"
   ]
  },
  {
   "cell_type": "code",
   "execution_count": 13,
   "id": "43edb9f2",
   "metadata": {},
   "outputs": [
    {
     "name": "stdout",
     "output_type": "stream",
     "text": [
      "[1 3 4 None 5]\n"
     ]
    }
   ],
   "source": [
    "my_numbers_with_None = np.array([1, 3, 4, None, 5])\n",
    "print(my_numbers_with_None)\n",
    "try:\n",
    "    my_numbers_with_None.sum()\n",
    "except TypeError as em:\n",
    "    assert str(em) == \"unsupported operand type(s) for +: 'int' and 'NoneType'\"\n",
    "    \n",
    "# So we see, that None is a show stopper."
   ]
  },
  {
   "cell_type": "markdown",
   "id": "a9c12d84",
   "metadata": {},
   "source": [
    "<div class=\"h3 lead text-primary\">!! What if we had a different type of None that could handle such situations !!</div>"
   ]
  },
  {
   "cell_type": "code",
   "execution_count": 12,
   "id": "6221af4d",
   "metadata": {},
   "outputs": [
    {
     "data": {
      "text/plain": [
       "array([ 1.,  3.,  4., nan,  5.])"
      ]
     },
     "execution_count": 12,
     "metadata": {},
     "output_type": "execute_result"
    }
   ],
   "source": [
    "my_numbers_with_NaN = np.array([1, 3, 4, np.NaN, 5])\n",
    "my_numbers_with_NaN"
   ]
  },
  {
   "cell_type": "code",
   "execution_count": 30,
   "id": "fd97eb3e",
   "metadata": {},
   "outputs": [
    {
     "name": "stdout",
     "output_type": "stream",
     "text": [
      "nan nan nan\n",
      "Type of this array: float64\n"
     ]
    }
   ],
   "source": [
    "# What happens now if we try to find the sum or other methods?\n",
    "print(my_numbers_with_NaN.sum(), my_numbers_with_NaN.mean(), my_numbers_with_NaN.min())\n",
    "\n",
    "# Thanks heavens it does NOT crash. And we didn't had to handle it.\n",
    "print(\"Type of this array:\", my_numbers_with_NaN.dtype)\n",
    "\n",
    "# Remember: Everything NaN touches, it consumes. It's like a plague."
   ]
  },
  {
   "cell_type": "code",
   "execution_count": 33,
   "id": "dd77d083",
   "metadata": {},
   "outputs": [
    {
     "data": {
      "text/plain": [
       "13.0"
      ]
     },
     "execution_count": 33,
     "metadata": {},
     "output_type": "execute_result"
    }
   ],
   "source": [
    "# Now lets see how can we better handle this.\n",
    "\n",
    "# We can use only good values from the array with NaN\n",
    "np.nansum(my_numbers_with_NaN) \n",
    "\n",
    "# Note: This will NOT WORK work with array having None.\n",
    "\n",
    "# We also have -> nanmin, nammax, nammean\n"
   ]
  }
 ],
 "metadata": {
  "kernelspec": {
   "display_name": "venv",
   "language": "python",
   "name": "venv"
  },
  "language_info": {
   "codemirror_mode": {
    "name": "ipython",
    "version": 3
   },
   "file_extension": ".py",
   "mimetype": "text/x-python",
   "name": "python",
   "nbconvert_exporter": "python",
   "pygments_lexer": "ipython3",
   "version": "3.9.4"
  }
 },
 "nbformat": 4,
 "nbformat_minor": 5
}
