{
 "cells": [
  {
   "cell_type": "code",
   "execution_count": 1,
   "id": "ccc22b63",
   "metadata": {},
   "outputs": [],
   "source": [
    "import numpy\n",
    "import numpy as np"
   ]
  },
  {
   "cell_type": "code",
   "execution_count": 2,
   "id": "ac1999fc",
   "metadata": {},
   "outputs": [
    {
     "data": {
      "text/plain": [
       "'1.20.2'"
      ]
     },
     "execution_count": 2,
     "metadata": {},
     "output_type": "execute_result"
    }
   ],
   "source": [
    "numpy.__version__"
   ]
  },
  {
   "cell_type": "markdown",
   "id": "f7341bc3",
   "metadata": {},
   "source": [
    "<h3 style='color:black;font-weight:normal;font-family:Georgia'># You can create arrays also with arrays module. </h3>"
   ]
  },
  {
   "cell_type": "code",
   "execution_count": 3,
   "id": "7829de0c",
   "metadata": {},
   "outputs": [
    {
     "data": {
      "text/plain": [
       "array('i', [10, 20, 30, 40, 50, 60, 70, 80, 90])"
      ]
     },
     "execution_count": 3,
     "metadata": {},
     "output_type": "execute_result"
    }
   ],
   "source": [
    "# This is one way to create efficient arrays, but ndarray is much better.\n",
    "\n",
    "import array\n",
    "array.array('i', range(10, 100, 10))"
   ]
  },
  {
   "cell_type": "code",
   "execution_count": 4,
   "id": "18fcb569",
   "metadata": {},
   "outputs": [
    {
     "data": {
      "text/plain": [
       "array([1, 2, 3, 4, 5])"
      ]
     },
     "execution_count": 4,
     "metadata": {},
     "output_type": "execute_result"
    }
   ],
   "source": [
    "# Using numpy arrays\n",
    "np.array([1,2,3,4,5])"
   ]
  },
  {
   "cell_type": "markdown",
   "id": "459cf515",
   "metadata": {},
   "source": [
    "<h3 style='color:black;font-weight:normal;font-family:Georgia'># If all members of array are NOT of same type, they auto upcast</h3>"
   ]
  },
  {
   "cell_type": "code",
   "execution_count": 5,
   "id": "a45ad74e",
   "metadata": {},
   "outputs": [
    {
     "data": {
      "text/plain": [
       "array([1.5, 1. , 2. , 3. , 4. ])"
      ]
     },
     "execution_count": 5,
     "metadata": {},
     "output_type": "execute_result"
    }
   ],
   "source": [
    "np.array([1.5,1,2,3,4])"
   ]
  },
  {
   "cell_type": "code",
   "execution_count": 6,
   "id": "b2c2855e",
   "metadata": {},
   "outputs": [
    {
     "data": {
      "text/plain": [
       "array(['1', '2', '3', '4', '5'], dtype='<U21')"
      ]
     },
     "execution_count": 6,
     "metadata": {},
     "output_type": "execute_result"
    }
   ],
   "source": [
    "# In this case, since a str is present, all item will auto cast to string.\n",
    "np.array([1, 2,'3', 4, 5])"
   ]
  },
  {
   "cell_type": "markdown",
   "id": "636820c9",
   "metadata": {},
   "source": [
    "<h2 \n",
    "    style='color:black;text-shadow: 1px 1px #000000;font-weight:normal;font-family:Georgia;border-style: solid;padding:10px;'># Lets create arrays of different types</h2>"
   ]
  },
  {
   "cell_type": "code",
   "execution_count": 7,
   "id": "e81e3ab8",
   "metadata": {},
   "outputs": [
    {
     "data": {
      "text/plain": [
       "array([0, 0, 0, 0, 0, 0, 0, 0, 0, 0])"
      ]
     },
     "execution_count": 7,
     "metadata": {},
     "output_type": "execute_result"
    }
   ],
   "source": [
    "np.zeros(10, dtype=int)"
   ]
  },
  {
   "cell_type": "code",
   "execution_count": 8,
   "id": "1e504298",
   "metadata": {},
   "outputs": [
    {
     "data": {
      "text/plain": [
       "array([[0, 0],\n",
       "       [0, 0],\n",
       "       [0, 0]])"
      ]
     },
     "execution_count": 8,
     "metadata": {},
     "output_type": "execute_result"
    }
   ],
   "source": [
    "# 2d array: 3 rows 2 columns array\n",
    "np.zeros((3,2), dtype=int)"
   ]
  },
  {
   "cell_type": "code",
   "execution_count": 9,
   "id": "c30d0eba",
   "metadata": {},
   "outputs": [
    {
     "data": {
      "text/plain": [
       "array([[1, 1, 1],\n",
       "       [1, 1, 1],\n",
       "       [1, 1, 1]])"
      ]
     },
     "execution_count": 9,
     "metadata": {},
     "output_type": "execute_result"
    }
   ],
   "source": [
    "# 2d array with ones\n",
    "np.ones((3,3), dtype=int)"
   ]
  },
  {
   "cell_type": "code",
   "execution_count": 10,
   "id": "d78f3df4",
   "metadata": {},
   "outputs": [
    {
     "data": {
      "text/plain": [
       "array([[5, 5],\n",
       "       [5, 5],\n",
       "       [5, 5]])"
      ]
     },
     "execution_count": 10,
     "metadata": {},
     "output_type": "execute_result"
    }
   ],
   "source": [
    "# Array with all rows & columns full of the same object.\n",
    "np.full((3,2), 5)"
   ]
  },
  {
   "cell_type": "code",
   "execution_count": 11,
   "id": "9999cd1f",
   "metadata": {
    "scrolled": false
   },
   "outputs": [
    {
     "data": {
      "text/plain": [
       "array([['a', 'b'],\n",
       "       ['a', 'b'],\n",
       "       ['a', 'b']], dtype='<U1')"
      ]
     },
     "execution_count": 11,
     "metadata": {},
     "output_type": "execute_result"
    }
   ],
   "source": [
    "# Array with each row same as items.\n",
    "np.full((3, 2), ['a', 'b'])"
   ]
  },
  {
   "cell_type": "code",
   "execution_count": 39,
   "id": "b5c38f21",
   "metadata": {},
   "outputs": [
    {
     "data": {
      "text/plain": [
       "array([0, 1, 2, 3, 4, 5, 6, 7, 8, 9])"
      ]
     },
     "execution_count": 39,
     "metadata": {},
     "output_type": "execute_result"
    }
   ],
   "source": [
    "# Numpy also has a range similar to python range\n",
    "np.arange(10)"
   ]
  },
  {
   "cell_type": "code",
   "execution_count": 13,
   "id": "a2e4f088",
   "metadata": {},
   "outputs": [
    {
     "data": {
      "text/plain": [
       "array([0, 2, 4, 6, 8])"
      ]
     },
     "execution_count": 13,
     "metadata": {},
     "output_type": "execute_result"
    }
   ],
   "source": [
    "# Range with Step.\n",
    "np.arange(0, 10, 2)"
   ]
  },
  {
   "cell_type": "code",
   "execution_count": 14,
   "id": "09c49230",
   "metadata": {},
   "outputs": [
    {
     "data": {
      "text/plain": [
       "array([10., 15., 20., 25., 30.])"
      ]
     },
     "execution_count": 14,
     "metadata": {},
     "output_type": "execute_result"
    }
   ],
   "source": [
    "# linspace creates an array of N items distributed using a lower and upper range.\n",
    "np.linspace(10, 30, 5)"
   ]
  },
  {
   "cell_type": "code",
   "execution_count": 15,
   "id": "65a19193",
   "metadata": {},
   "outputs": [
    {
     "data": {
      "text/plain": [
       "array([[1., 0., 0.],\n",
       "       [0., 1., 0.],\n",
       "       [0., 0., 1.]])"
      ]
     },
     "execution_count": 15,
     "metadata": {},
     "output_type": "execute_result"
    }
   ],
   "source": [
    "# Create an identity matrix using \"eye\".\n",
    "np.eye(3,3)"
   ]
  },
  {
   "cell_type": "code",
   "execution_count": 16,
   "id": "22013e81",
   "metadata": {},
   "outputs": [
    {
     "data": {
      "text/plain": [
       "array([10., 15., 20., 25., 30.])"
      ]
     },
     "execution_count": 16,
     "metadata": {},
     "output_type": "execute_result"
    }
   ],
   "source": [
    "# empty\n",
    "np.empty(5)"
   ]
  },
  {
   "cell_type": "markdown",
   "id": "195ae12e",
   "metadata": {},
   "source": [
    "<h2 style=\"color:black;font-weight:normal;font-family:Georgia\">Standard Deviation is the amount of variation in a set of values</h2>\n",
    "<ul>\n",
    "    <li>Mean can be imagined as, the expected value.</li>\n",
    "    <li>The lower the standar deviation, the closer it is, to the mean.</li>\n",
    "</ul>"
   ]
  },
  {
   "cell_type": "markdown",
   "id": "ff7fda28",
   "metadata": {},
   "source": [
    "<h3 style=\"color:black;font-weight:normal;font-family:Georgia;border-style: solid;padding:10px;\">Creating matrices with random elements.</h3>"
   ]
  },
  {
   "cell_type": "code",
   "execution_count": 17,
   "id": "d9009ec1",
   "metadata": {},
   "outputs": [
    {
     "data": {
      "text/plain": [
       "array([[-0.05826978, -1.06301436, -1.29339595],\n",
       "       [-2.24043126, -0.11533835, -0.66403868],\n",
       "       [-0.38438528, -0.49967721, -2.40806047]])"
      ]
     },
     "execution_count": 17,
     "metadata": {},
     "output_type": "execute_result"
    }
   ],
   "source": [
    "np.random.normal(0, 1, (3, 3)) # Here 0 is mean and 1 is standard deviation "
   ]
  },
  {
   "cell_type": "code",
   "execution_count": 37,
   "id": "e8dc2ea7",
   "metadata": {},
   "outputs": [
    {
     "data": {
      "text/plain": [
       "array([[2, 9, 6],\n",
       "       [5, 9, 1],\n",
       "       [5, 8, 3]])"
      ]
     },
     "execution_count": 37,
     "metadata": {},
     "output_type": "execute_result"
    }
   ],
   "source": [
    "# randint(low, high, size, dtype) , high is exclusive, but low is inclusive.\n",
    "np.random.randint(1, 10, (3,3))"
   ]
  },
  {
   "cell_type": "code",
   "execution_count": 19,
   "id": "5ec29cb0",
   "metadata": {
    "scrolled": true
   },
   "outputs": [
    {
     "data": {
      "text/plain": [
       "array([[0.91958971, 0.36501128, 0.13770614],\n",
       "       [0.77538957, 0.56982112, 0.6670393 ]])"
      ]
     },
     "execution_count": 19,
     "metadata": {},
     "output_type": "execute_result"
    }
   ],
   "source": [
    "# random will create an array of r * c with items randomly picked b/w 0 and 1.\n",
    "np.random.random((2,3))"
   ]
  },
  {
   "cell_type": "code",
   "execution_count": 24,
   "id": "0429e043",
   "metadata": {},
   "outputs": [
    {
     "data": {
      "text/plain": [
       "array([58, 46, 93, 94, 72, 67, 79, 71,  9, 93])"
      ]
     },
     "execution_count": 24,
     "metadata": {},
     "output_type": "execute_result"
    }
   ],
   "source": [
    "np.random.randint(1, 100, size=10)"
   ]
  },
  {
   "cell_type": "code",
   "execution_count": 25,
   "id": "30575f87",
   "metadata": {},
   "outputs": [
    {
     "data": {
      "text/plain": [
       "47"
      ]
     },
     "execution_count": 25,
     "metadata": {},
     "output_type": "execute_result"
    }
   ],
   "source": [
    "# Give me a random integer from range 1 to 100.\n",
    "np.random.randint(1, 100)"
   ]
  },
  {
   "cell_type": "code",
   "execution_count": 38,
   "id": "5aeb6e96",
   "metadata": {},
   "outputs": [
    {
     "data": {
      "text/plain": [
       "array([1, 1, 1])"
      ]
     },
     "execution_count": 38,
     "metadata": {},
     "output_type": "execute_result"
    }
   ],
   "source": [
    "# Give me a 1d array filled with random numbers selcted from range 0 to 2 (2 being exclusive)\n",
    "np.random.randint(low=0, high=2, size=3)"
   ]
  }
 ],
 "metadata": {
  "kernelspec": {
   "display_name": "venv_3_pytrash",
   "language": "python",
   "name": "venv"
  },
  "language_info": {
   "codemirror_mode": {
    "name": "ipython",
    "version": 3
   },
   "file_extension": ".py",
   "mimetype": "text/x-python",
   "name": "python",
   "nbconvert_exporter": "python",
   "pygments_lexer": "ipython3",
   "version": "3.9.4"
  }
 },
 "nbformat": 4,
 "nbformat_minor": 5
}
