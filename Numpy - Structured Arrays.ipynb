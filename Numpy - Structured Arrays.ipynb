{
 "cells": [
  {
   "cell_type": "markdown",
   "id": "9dea7878",
   "metadata": {},
   "source": [
    "<h1>Structured arrays</h1>\n",
    "\n",
    "<p>These can be used to store multi type information in a single structure </p>"
   ]
  },
  {
   "cell_type": "markdown",
   "id": "69386bca",
   "metadata": {},
   "source": [
    "<p>Lets say, we want to store data about people. Their name, age, and weight.</p>\n",
    "<p>If we store each attribute in a list, it will be difficult to relate them with each other</p>\n",
    "<p>E.g, name = ['adam', 'joe', 'steve'], age = [32, 45, 21], weight = [67, 78, 55]</p>"
   ]
  },
  {
   "cell_type": "code",
   "execution_count": 1,
   "id": "12bff493",
   "metadata": {},
   "outputs": [],
   "source": [
    "import numpy as np"
   ]
  },
  {
   "cell_type": "code",
   "execution_count": 29,
   "id": "da03d071",
   "metadata": {},
   "outputs": [
    {
     "data": {
      "text/plain": [
       "array([('', 0, 0.), ('', 0, 0.), ('', 0, 0.), ('', 0, 0.)],\n",
       "      dtype=[('name', '<U'), ('age', '<i8'), ('weight', '<f8')])"
      ]
     },
     "execution_count": 29,
     "metadata": {},
     "output_type": "execute_result"
    }
   ],
   "source": [
    "# We can do a better job using numpy structure arrays.\n",
    "\n",
    "# Till now we have created arrays like this:\n",
    "np.zeros(4, dtype=int)\n",
    "\n",
    "# We can similarly create arrays using some custom dtypes.\n",
    "# Note: The keys are mandatorily names and formats. It CANNOT be anything else.\n",
    "\n",
    "my_dtype = {\n",
    "            'names': ('name', 'age', 'weight'),\n",
    "            'formats':(str, int, float)\n",
    "           }\n",
    "\n",
    "np.zeros(4, dtype=my_dtype)\n"
   ]
  },
  {
   "cell_type": "markdown",
   "id": "e686f898",
   "metadata": {},
   "source": [
    "\n",
    "<h2>Above we constructed a dtype of our own.</h2>\n",
    "<h3>Note: The dict keys have to be \"names\" and \"formats\".</h3>\n",
    "\n",
    "<h3>We have used some formats here. These are all build-in python formats.</h3>\n",
    "<ul>\n",
    "    <li>str</li>\n",
    "    <li>int</li>\n",
    "    <li>float</li>\n",
    "</ul>\n",
    "\n",
    "<h2>Numpy offers are few more formats</h2>\n",
    "<p>Lets use them</p>"
   ]
  },
  {
   "cell_type": "code",
   "execution_count": 21,
   "id": "e25b948f",
   "metadata": {},
   "outputs": [
    {
     "name": "stdout",
     "output_type": "stream",
     "text": [
      "['adam' 'joe' 'steve']\n",
      "('adam', 32, 67.)\n"
     ]
    }
   ],
   "source": [
    "# U10 -> Unicode - Max length 10.\n",
    "# i4 -> Integer - 4 bytes (32 bits) max.\n",
    "# f8 -> Float - 8 byte (64 bit) max.\n",
    "\n",
    "my_dtype = {\n",
    "            'names': ('name', 'age', 'weight'),\n",
    "            'formats':('U10', 'i4', 'f8')\n",
    "           }\n",
    "\n",
    "people = np.zeros(3, dtype=my_dtype)\n",
    "\n",
    "# Let create some people and fill our people array with some data.\n",
    "\n",
    "name = ['adam', 'joe', 'steve']\n",
    "age = [32, 45, 21]\n",
    "weight = [67, 78, 55]\n",
    "\n",
    "people['name'] = name\n",
    "people['age'] = age\n",
    "people['weight'] = weight\n",
    "\n",
    "people"
   ]
  },
  {
   "cell_type": "markdown",
   "id": "d0cb95ed",
   "metadata": {},
   "source": [
    "<h3>Lets try some querying and computations using our newly populated data array</h3>"
   ]
  },
  {
   "cell_type": "code",
   "execution_count": 28,
   "id": "c30a9f4b",
   "metadata": {},
   "outputs": [
    {
     "name": "stdout",
     "output_type": "stream",
     "text": [
      "['adam' 'joe' 'steve']\n",
      "('adam', 32, 67.)\n",
      "['joe']\n"
     ]
    }
   ],
   "source": [
    "# Get all names.\n",
    "print(people['name'])\n",
    "\n",
    "# Get first person (whoever that is)\n",
    "print(people[0])\n",
    "\n",
    "# Get the names of persons whose weight is more than 70kg (hope my name doesn't come up)\n",
    "print(\n",
    "    people[\n",
    "        people['weight'] >= 70 # This here is our boolean mask.\n",
    "    ]['name']\n",
    ")"
   ]
  },
  {
   "cell_type": "markdown",
   "id": "9187014f",
   "metadata": {},
   "source": [
    "<h2>Other ways to create formats</h2>"
   ]
  },
  {
   "cell_type": "code",
   "execution_count": 42,
   "id": "f37db147",
   "metadata": {},
   "outputs": [
    {
     "data": {
      "text/plain": [
       "dtype([('f0', '<U10'), ('f1', '<i4'), ('f2', '<f8')])"
      ]
     },
     "execution_count": 42,
     "metadata": {},
     "output_type": "execute_result"
    }
   ],
   "source": [
    "# Create tuples of title and type.\n",
    "my_types_as_tuple = np.dtype([('name', 'U10'), ('age', 'i4'), ('weight', 'f8')])\n",
    "\n",
    "# Using numpy types available.\n",
    "my_types_mixed = np.dtype(\n",
    "                {\n",
    "                    'names':('name', 'age', 'weight'),\n",
    "                    'formats':((np.str_, 10), np.int32, np.float32)\n",
    "                })\n",
    "\n",
    "# Probably the simplest way: String with comma separated types.\n",
    "my_types_shortest = np.dtype('U10,i4,f8')\n",
    "my_types_shortest\n",
    "\n",
    "# The < and > symbols long with the types indicate little endian or big endian respectively."
   ]
  },
  {
   "cell_type": "markdown",
   "id": "b5397afb",
   "metadata": {},
   "source": [
    "```\n",
    "Character\tDescription\t            Example\n",
    "'b'\t        Byte\t                np.dtype('b')\n",
    "'i'\t        Signed integer\t        np.dtype('i4') == np.int32\n",
    "'u'\t        Unsigned integer        np.dtype('u1') == np.uint8\n",
    "'f'\t        Floating point\t        np.dtype('f8') == np.int64\n",
    "'c'\t        Complex floating point\tnp.dtype('c16') == np.complex128\n",
    "'S','a'\t    String\t                np.dtype('S5')\n",
    "'U'\t        Unicode string\t        np.dtype('U') == np.str_\n",
    "'V'\t        Raw data (void)\t        np.dtype('V') == np.void\n",
    "```"
   ]
  },
  {
   "cell_type": "markdown",
   "id": "2b960b32",
   "metadata": {},
   "source": [
    "<h2>Advanced Compound Types</h2>\n",
    "<p>We can create other complex type of dtypes. Example, we can create a matrix type of dtype.</p>"
   ]
  },
  {
   "cell_type": "code",
   "execution_count": 44,
   "id": "877bccec",
   "metadata": {},
   "outputs": [
    {
     "name": "stdout",
     "output_type": "stream",
     "text": [
      "[(0, [[0., 0., 0.], [0., 0., 0.], [0., 0., 0.]])]\n",
      "(0, [[0., 0., 0.], [0., 0., 0.], [0., 0., 0.]])\n",
      "[[0. 0. 0.]\n",
      " [0. 0. 0.]\n",
      " [0. 0. 0.]]\n"
     ]
    }
   ],
   "source": [
    "tp = np.dtype([('id', 'i8'), ('mat', 'f8', (3, 3))])\n",
    "X = np.zeros(1, dtype=tp)\n",
    "\n",
    "print(X[0])\n",
    "print(X['mat'][0])"
   ]
  },
  {
   "cell_type": "markdown",
   "id": "d90878cd",
   "metadata": {},
   "source": [
    "<h2 style=\"color:black;font-weight:normal;font-family:Georgia\">One Last thing. We saw that arrays can access its contents with a key style access array[key].</h2>\n",
    "<h2 style=\"color:black;font-weight:normal;font-family:Georgia\">We can also go for a property style approach.</h2>\n",
    "<p>array.key</p>"
   ]
  },
  {
   "cell_type": "code",
   "execution_count": 46,
   "id": "5ec39b1a",
   "metadata": {},
   "outputs": [
    {
     "data": {
      "text/plain": [
       "array([32, 45, 21], dtype=int32)"
      ]
     },
     "execution_count": 46,
     "metadata": {},
     "output_type": "execute_result"
    }
   ],
   "source": [
    "people_as_props = people.view(np.recarray)\n",
    "people_as_props.age"
   ]
  }
 ],
 "metadata": {
  "kernelspec": {
   "display_name": "venv",
   "language": "python",
   "name": "venv"
  },
  "language_info": {
   "codemirror_mode": {
    "name": "ipython",
    "version": 3
   },
   "file_extension": ".py",
   "mimetype": "text/x-python",
   "name": "python",
   "nbconvert_exporter": "python",
   "pygments_lexer": "ipython3",
   "version": "3.9.4"
  }
 },
 "nbformat": 4,
 "nbformat_minor": 5
}
