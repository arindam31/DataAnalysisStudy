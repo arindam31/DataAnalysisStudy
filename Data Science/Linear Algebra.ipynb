{
 "cells": [
  {
   "cell_type": "code",
   "execution_count": 14,
   "id": "012bdb42",
   "metadata": {},
   "outputs": [],
   "source": [
    "from typing import List\n",
    "import numpy as np"
   ]
  },
  {
   "cell_type": "markdown",
   "id": "665aa412",
   "metadata": {},
   "source": [
    "# Vectors\n",
    "\n",
    "### Vectors are objects that can be added together to form new vectors and also multiplied with scalars to form new vectors."
   ]
  },
  {
   "cell_type": "code",
   "execution_count": 2,
   "id": "d2c4457a",
   "metadata": {},
   "outputs": [],
   "source": [
    "# Lets create our Vector type\n",
    "Vector = List[float]"
   ]
  },
  {
   "cell_type": "code",
   "execution_count": 3,
   "id": "a5aa0e55",
   "metadata": {},
   "outputs": [],
   "source": [
    "# Image there are 4 exams to be given for a subject.\n",
    "# Also we have personal data available for students.\n",
    "\n",
    "height_weight_age = [172, 70.5, 38]\n",
    "grades = [89, 78, 82, 95]"
   ]
  },
  {
   "cell_type": "code",
   "execution_count": 21,
   "id": "95869436",
   "metadata": {},
   "outputs": [],
   "source": [
    "# Lets create some function to perform Vector operations\n",
    "\n",
    "def add(a:Vector, b:Vector) -> Vector:\n",
    "    assert len(a) == len(b)\n",
    "    result = [sum(item) for item in zip(a, b)]\n",
    "    return result\n",
    "\n",
    "assert [10, 20, 30] == add([7, 6, 18], [3, 14, 12])\n",
    "\n",
    "def subtract(a:Vector, b:Vector) -> Vector:\n",
    "    assert len(a) == len(b)\n",
    "    result = [item[0] - item[1] for item in zip(a, b)]\n",
    "    return result\n",
    "\n",
    "\n",
    "\n",
    "def scalar_multiplication(v:Vector, m:int) -> Vector:\n",
    "    return [m * n for n in v]\n",
    "\n",
    "assert [10, 20, 30] == add([7, 6, 18], [3, 14, 12])\n",
    "assert [4, -8, 6] == subtract([7, 6, 18], [3, 14, 12])\n",
    "assert [10, 15, 20] == scalar_multiplication([2, 3, 4], 5)"
   ]
  },
  {
   "cell_type": "markdown",
   "id": "1daa3d15",
   "metadata": {},
   "source": [
    "## Lets try the same idea using Numpy arrays"
   ]
  },
  {
   "cell_type": "code",
   "execution_count": 18,
   "id": "1fbd0609",
   "metadata": {},
   "outputs": [
    {
     "data": {
      "text/plain": [
       "array([10, 20, 30])"
      ]
     },
     "execution_count": 18,
     "metadata": {},
     "output_type": "execute_result"
    }
   ],
   "source": [
    "np_hwa = np.array(height_weight_age, dtype='f8')\n",
    "np_grade = np.array(grades, dtype='f8')\n",
    "\n",
    "np.add(np.array([7, 6, 18]), np.array([3, 14, 12]))"
   ]
  }
 ],
 "metadata": {
  "kernelspec": {
   "display_name": "venv",
   "language": "python",
   "name": "venv"
  },
  "language_info": {
   "codemirror_mode": {
    "name": "ipython",
    "version": 3
   },
   "file_extension": ".py",
   "mimetype": "text/x-python",
   "name": "python",
   "nbconvert_exporter": "python",
   "pygments_lexer": "ipython3",
   "version": "3.9.4"
  }
 },
 "nbformat": 4,
 "nbformat_minor": 5
}
