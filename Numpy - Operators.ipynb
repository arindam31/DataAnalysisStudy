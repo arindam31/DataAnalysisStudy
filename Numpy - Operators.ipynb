{
 "cells": [
  {
   "cell_type": "markdown",
   "id": "63a503b0",
   "metadata": {},
   "source": [
    "<h1 style=\"color:black;font-weight:bold;font-family:Georgia\">Comparison, Masks, and Boolean Logic</h1>\n",
    "\n",
    "<p>Masks can be used to examine or manipulate values</p>"
   ]
  },
  {
   "cell_type": "code",
   "execution_count": 3,
   "id": "59c177ea",
   "metadata": {},
   "outputs": [],
   "source": [
    "import numpy as np\n",
    "import seaborn as sns\n",
    "%matplotlib inline\n",
    "import matplotlib.pyplot as plt"
   ]
  },
  {
   "cell_type": "code",
   "execution_count": null,
   "id": "47c3a927",
   "metadata": {},
   "outputs": [],
   "source": [
    "# Lets have an array with some random integers from 1, 100.\n",
    "\n",
    "our_array = np.random.randint(1, 100, (3,3))"
   ]
  },
  {
   "cell_type": "markdown",
   "id": "4babc65b",
   "metadata": {},
   "source": [
    "<h3 style=\"color:black;font-weight:normal;font-family:Georgia\">Aggregates computed directly on Boolean arrays</h3>"
   ]
  },
  {
   "cell_type": "code",
   "execution_count": null,
   "id": "fa347bc8",
   "metadata": {},
   "outputs": [],
   "source": [
    "# Find all items less than N\n",
    "our_array < 50"
   ]
  },
  {
   "cell_type": "code",
   "execution_count": null,
   "id": "156fcf4c",
   "metadata": {},
   "outputs": [],
   "source": [
    "# Using compound expressions.\n",
    "\n",
    "2 * our_array >= (our_array + 50)"
   ]
  },
  {
   "cell_type": "code",
   "execution_count": null,
   "id": "0b019ff4",
   "metadata": {},
   "outputs": [],
   "source": [
    "# Note: RandomState is used to create a custom range so, we don't affect the global numpy state.\n",
    "# Additional Note: You can check the global state with: `np.random.get_state() and our own created rng.get_state()`\n",
    "\n",
    "rng = np.random.RandomState(0)\n",
    "array_rand_int = rng.randint(10, size=(3, 4))\n",
    "array_rand_int"
   ]
  },
  {
   "cell_type": "code",
   "execution_count": null,
   "id": "15314f47",
   "metadata": {},
   "outputs": [],
   "source": [
    "# The result of such operations is a boolean array.\n",
    "bool_array = array_rand_int < 6\n",
    "print(bool_array)"
   ]
  },
  {
   "cell_type": "markdown",
   "id": "a4152761",
   "metadata": {},
   "source": [
    "<h2 style=\"color:black;font-weight:bold;font-family:Georgia\">There are certain things we can do with a boolean array</h2>"
   ]
  },
  {
   "cell_type": "code",
   "execution_count": null,
   "id": "2b36f3d8",
   "metadata": {},
   "outputs": [],
   "source": [
    "# Find number of True's in our result array above.\n",
    "\n",
    "np.count_nonzero(bool_array)"
   ]
  },
  {
   "cell_type": "code",
   "execution_count": null,
   "id": "80b873a2",
   "metadata": {},
   "outputs": [],
   "source": [
    "# We can use sum also on a boolean array. \n",
    "# Imagine False as Zero. And True as 1.\n",
    "# So a sum function should return us the number of True (1+1+... for every True)\n",
    "\n",
    "# So this is the ame as above ufunc \"count_nonzero\"\n",
    "\n",
    "np.sum(bool_array)"
   ]
  },
  {
   "cell_type": "code",
   "execution_count": null,
   "id": "2422c01c",
   "metadata": {},
   "outputs": [],
   "source": [
    "# Find count of number of Trues in each row (axis=1 is for 'row', axis=0 is for 'column').\n",
    "np.count_nonzero(bool_array, axis=1)"
   ]
  },
  {
   "cell_type": "code",
   "execution_count": null,
   "id": "a5b99e44",
   "metadata": {},
   "outputs": [],
   "source": [
    "# Are there any values greater than , lets say 6\n",
    "\n",
    "np.any(array_rand_int >= 6) "
   ]
  },
  {
   "cell_type": "code",
   "execution_count": null,
   "id": "88e4681f",
   "metadata": {},
   "outputs": [],
   "source": [
    "# Are all value greater than or equal to 0\n",
    "\n",
    "np.all(array_rand_int >= 0)"
   ]
  },
  {
   "cell_type": "code",
   "execution_count": null,
   "id": "4a1ed832",
   "metadata": {},
   "outputs": [],
   "source": [
    "# Lets do the same, for each row. Find row if all items of row are greater than 0. \n",
    "\n",
    "np.all(array_rand_int > 0, axis=1)"
   ]
  },
  {
   "cell_type": "markdown",
   "id": "26ef57b8",
   "metadata": {},
   "source": [
    "<h2 style=\"color:black;font-weight:bold;font-family:Georgia\">Lets try some more tricks with sum ufunc</h2>"
   ]
  },
  {
   "cell_type": "code",
   "execution_count": null,
   "id": "19758ab9",
   "metadata": {},
   "outputs": [],
   "source": [
    "np.sum(array_rand_int == 5)"
   ]
  },
  {
   "cell_type": "code",
   "execution_count": null,
   "id": "c985c795",
   "metadata": {},
   "outputs": [],
   "source": [
    "# Get me the count of numbers in between the specified range.\n",
    "# The result is: Total No of numbers that are in that range.\n",
    "np.sum((array_rand_int > 5) & (array_rand_int < 10))\n",
    "\n",
    "# NOTE: DO NOT use (and, or) here. They used on a single value to determine the truth.\n",
    "# Whereas, & | are used on binary operations. ABove MASKS are binary results and hence, can be combined with &."
   ]
  },
  {
   "cell_type": "markdown",
   "id": "48dd918e",
   "metadata": {},
   "source": [
    "<h2 style=\"color:black;font-weight:normal;font-family:Georgia\">Boolean arrays as masks</h2>"
   ]
  },
  {
   "cell_type": "code",
   "execution_count": null,
   "id": "06b27c88",
   "metadata": {},
   "outputs": [],
   "source": [
    "# We have already seen boolean operations with arrays. Example : some_array_with_numbers < 6\n",
    "\n",
    "# Now we want to see the values that resulted in a True.\n",
    "# What we do to get that, is called, MASKING (and (array_rand_int < 5) is a MASK )\n",
    "\n",
    "print(array_rand_int[array_rand_int < 5])\n",
    " \n",
    "# You should see exactly the same number of values as nonzero count (8 in this example)"
   ]
  },
  {
   "cell_type": "markdown",
   "id": "c10e828b",
   "metadata": {},
   "source": [
    "<h2 style=\"color:black;font-weight:bold;font-family:Georgia\">Indexing 2.0</h2>\n",
    "\n",
    "<p>There are a few other ways to index an array</p>"
   ]
  },
  {
   "cell_type": "code",
   "execution_count": null,
   "id": "39901d27",
   "metadata": {},
   "outputs": [],
   "source": [
    "rng = np.random.RandomState(42)\n",
    "array_nums_1d = rng.randint(1, 100, 10)\n",
    "\n",
    "# Get the 0, 2 and 4th item in the array.\n",
    "array_nums_1d[[0, 2, 4]] "
   ]
  },
  {
   "cell_type": "code",
   "execution_count": null,
   "id": "b3cf7faa",
   "metadata": {},
   "outputs": [],
   "source": [
    "# Lets try the same on a 2d array. We will create a 5 x 5 matrix.\n",
    "\n",
    "rng = np.random.RandomState(0)\n",
    "array_rand_int = rng.randint(0, 25, size=(5, 5))\n",
    "\n",
    "print(array_rand_int)\n",
    "\n",
    "# Selected row, and columns from it.\n",
    "array_rand_int[0, [0, 2, 4]] # Get me 1st row, 0th and 2nd index items.\n"
   ]
  },
  {
   "cell_type": "code",
   "execution_count": null,
   "id": "2afff43e",
   "metadata": {},
   "outputs": [],
   "source": [
    "array_rand_int[[0, 2], [0, 2]] # Get me array(0, 0) and array(2, 2) item."
   ]
  },
  {
   "cell_type": "markdown",
   "id": "49ea9c1b",
   "metadata": {},
   "source": [
    "<h3 style=\"color:black;font-weight:bold;font-family:Georgia\">We can slice an array too using the same idea.</h3>\n",
    "<hr>\n",
    "<div>\n",
    "    <p>I want to select the area highlighted in the image</p>\n",
    "<img style=\"width:200px;\" src=\"Slicing_FancyIndexing.png\"/>\n",
    "    </div>"
   ]
  },
  {
   "cell_type": "code",
   "execution_count": null,
   "id": "2756e356",
   "metadata": {},
   "outputs": [],
   "source": [
    "# Get all rows from 2nd index but only selected columns. This is a Slicing example.\n",
    "\n",
    "array_rand_int[2:, [2, 3, 4]]"
   ]
  },
  {
   "cell_type": "code",
   "execution_count": null,
   "id": "587f6786",
   "metadata": {},
   "outputs": [],
   "source": [
    "# Column selection using boolean mask: 1's are True, hence considered. 0's are False, so ignore.\n",
    "\n",
    "mask = np.array([1, 0, 1, 0, 1], dtype=bool) \n",
    "row = np.array([0, 2, 4]) # Take 1st, 3rd and 5th row.\n",
    "array_rand_int[row[:, np.newaxis], mask]"
   ]
  },
  {
   "cell_type": "markdown",
   "id": "9ac24ef8",
   "metadata": {},
   "source": [
    "<h2 style=\"color:black;font-weight:bold;font-family:Georgia\">More fancy examples with indexing</h2>"
   ]
  },
  {
   "cell_type": "code",
   "execution_count": null,
   "id": "ce33eaab",
   "metadata": {},
   "outputs": [],
   "source": [
    "# Lets select randomly some members for matrix\n",
    "# Tip: np.random.choice(high, no_of_choices_to_pick, replace=False)\n",
    "\n",
    "indices = np.random.choice(5, 3, replace=False)\n",
    "print(indices)\n",
    "print(array_rand_int)\n",
    "indices\n",
    "\n",
    "# Indices will be used to select which rows to consider.\n",
    "array_rand_int[indices]"
   ]
  },
  {
   "cell_type": "markdown",
   "id": "1b378d3d",
   "metadata": {},
   "source": [
    "<h2 style=\"color:black;font-weight:bold;font-family:Georgia\">Modifying values</h2>"
   ]
  },
  {
   "cell_type": "code",
   "execution_count": null,
   "id": "93090c20",
   "metadata": {},
   "outputs": [],
   "source": [
    "# We modified 4 numbers in our array here.\n",
    "zero_array = np.zeros(10, dtype=int)\n",
    "zero_array[[0, 2, 4, 6]] += 1 \n",
    "print(zero_array)\n",
    "\n",
    "# What if an index is repeated\n",
    "zero_array[[0, 0, 0]] = [10, 20, 30] \n",
    "print(zero_array)\n",
    "\n",
    "# As you can see, the final value of index0 is 30.\n",
    "\n",
    "zero_array[[0, 0, 0]] += 1\n",
    "print(zero_array)\n",
    "\n",
    "# The result proves that, each time time operation is done considering the original value (30)"
   ]
  },
  {
   "cell_type": "code",
   "execution_count": 17,
   "id": "f49cd756",
   "metadata": {},
   "outputs": [
    {
     "name": "stdout",
     "output_type": "stream",
     "text": [
      "[0 0 0 0 0 0 0 0 0 0]\n",
      "[3 0 0 0 0 0 0 0 0 0]\n"
     ]
    }
   ],
   "source": [
    "# If we do want to have the behaviour such as changes happen as number of times index repeats, \n",
    "# there are other ways.\n",
    "zero_again_array = np.zeros(10, dtype=int)\n",
    "print(zero_again_array)\n",
    "np.add.at(zero_again_array, [0, 0, 0], 1)\n",
    "print(zero_again_array)\n",
    "\n",
    "# This time you will see, 0th index got updated thrice."
   ]
  },
  {
   "cell_type": "markdown",
   "id": "a90f8517",
   "metadata": {},
   "source": [
    "<h2 style=\"color:black;font-weight:bold;font-family:Georgia\">Binning Data</h2>\n"
   ]
  },
  {
   "cell_type": "code",
   "execution_count": 20,
   "id": "d1dcc38e",
   "metadata": {},
   "outputs": [
    {
     "name": "stdout",
     "output_type": "stream",
     "text": [
      "Our Bins: [-3 -2 -1  0  1  2  3]\n"
     ]
    },
    {
     "data": {
      "image/png": "[encoded data removed]",
      "text/plain": [
       "<Figure size 432x288 with 1 Axes>"
      ]
     },
     "metadata": {},
     "output_type": "display_data"
    }
   ],
   "source": [
    "np.random.seed(0)\n",
    "our_rand_array = np.random.randn(100)\n",
    "\n",
    "# Lets create 5 bins for the above 100 numbers.\n",
    "bins = np.linspace(-3, 3, 7, dtype=int)\n",
    "print(\"Our Bins:\", bins)\n",
    "\n",
    "# Create a zero array with same shape and size as bins\n",
    "# This will be used to count the bin values...so initializing with 0's for each bin.\n",
    "counts = np.zeros_like(bins)\n",
    "counts\n",
    "\n",
    "# Find the appropiate bin for each number in our array of random numbers\n",
    "# The result will be bin numbers for corresponding value.\n",
    "i = np.searchsorted(bins, our_rand_array)\n",
    "\n",
    "np.add.at(counts, i, 1)\n",
    "sns.set()  # for plot styling\n",
    "plt.step(bins, counts);"
   ]
  },
  {
   "cell_type": "code",
   "execution_count": 21,
   "id": "0db07988",
   "metadata": {},
   "outputs": [
    {
     "data": {
      "image/png": "[encoded data removed]",
      "text/plain": [
       "<Figure size 432x288 with 1 Axes>"
      ]
     },
     "metadata": {},
     "output_type": "display_data"
    }
   ],
   "source": [
    "# Same graph, but smaller steps using plt.hist\n",
    "# But Note: This is slower than the above graph.\n",
    "plt.hist(our_rand_array, bins, histtype='step');"
   ]
  }
 ],
 "metadata": {
  "kernelspec": {
   "display_name": "venv",
   "language": "python",
   "name": "venv"
  },
  "language_info": {
   "codemirror_mode": {
    "name": "ipython",
    "version": 3
   },
   "file_extension": ".py",
   "mimetype": "text/x-python",
   "name": "python",
   "nbconvert_exporter": "python",
   "pygments_lexer": "ipython3",
   "version": "3.9.4"
  }
 },
 "nbformat": 4,
 "nbformat_minor": 5
}
