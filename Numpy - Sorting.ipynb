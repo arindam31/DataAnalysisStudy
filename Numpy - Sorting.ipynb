{
 "cells": [
  {
   "cell_type": "code",
   "execution_count": 1,
   "id": "9f0815f6",
   "metadata": {},
   "outputs": [],
   "source": [
    "import numpy as np"
   ]
  },
  {
   "cell_type": "markdown",
   "id": "cc741498",
   "metadata": {},
   "source": [
    "<b>Tip</b>: By default np.sort uses an NLogN"
   ]
  },
  {
   "cell_type": "code",
   "execution_count": 5,
   "id": "a5c9e6dd",
   "metadata": {},
   "outputs": [
    {
     "data": {
      "text/plain": [
       "array([1, 2, 3, 4, 5])"
      ]
     },
     "execution_count": 5,
     "metadata": {},
     "output_type": "execute_result"
    }
   ],
   "source": [
    "x = np.array([2, 1, 4, 3, 5])\n",
    "np.sort(x)\n",
    "\n",
    "# in-place sorting\n",
    "x.sort()\n",
    "x"
   ]
  },
  {
   "cell_type": "code",
   "execution_count": 13,
   "id": "9911d721",
   "metadata": {},
   "outputs": [
    {
     "data": {
      "text/plain": [
       "array([5, 4, 3, 2, 1])"
      ]
     },
     "execution_count": 13,
     "metadata": {},
     "output_type": "execute_result"
    }
   ],
   "source": [
    "# We can only only indices of the items that will be, after sorting\n",
    "\n",
    "y = np.array([5, 4, 3, 2, 1])\n",
    "i = np.argsort(y)\n",
    "\n",
    "# Now you want to sort the array, we can use Fancy Indexing with the above indices.\n",
    "y[i]\n",
    "\n",
    "# Our original array is still in the original state."
   ]
  },
  {
   "cell_type": "markdown",
   "id": "f43d47b1",
   "metadata": {},
   "source": [
    "<h2 style=\"color:black;font-weight:bold;font-family:Georgia\">Sorting along rows & columns</h2>"
   ]
  },
  {
   "cell_type": "code",
   "execution_count": 22,
   "id": "c9e2336d",
   "metadata": {},
   "outputs": [
    {
     "name": "stdout",
     "output_type": "stream",
     "text": [
      "Original Array\n",
      "[[5 9 9 2]\n",
      " [7 6 4 2]\n",
      " [2 1 5 3]]\n",
      "Sorted by row\n",
      "[[2 5 9 9]\n",
      " [2 4 6 7]\n",
      " [1 2 3 5]]\n",
      "Sorted by Column\n",
      "[[2 1 4 2]\n",
      " [5 6 5 2]\n",
      " [7 9 9 3]]\n"
     ]
    }
   ],
   "source": [
    "z = np.random.randint(1, 10, (3, 4))\n",
    "print(\"Original Array\")\n",
    "print(z)\n",
    "\n",
    "print(\"Sorted by row\")\n",
    "print(np.sort(z, axis=1)) # Sort every row.\n",
    "\n",
    "print(\"Sorted by Column\")\n",
    "print(np.sort(z, axis=0))"
   ]
  },
  {
   "cell_type": "markdown",
   "id": "c100c5ab",
   "metadata": {},
   "source": [
    "<h2 style=\"color:black;font-weight:bold;font-family:Georgia\">Partial Sorting</h2>\n",
    "<p>Sometimes we are not interesed in sorting the complete array.</p>"
   ]
  },
  {
   "cell_type": "code",
   "execution_count": 38,
   "id": "25c3d01f",
   "metadata": {},
   "outputs": [
    {
     "name": "stdout",
     "output_type": "stream",
     "text": [
      "[89 46 81 23 77 61 74 50 81 43]\n"
     ]
    },
    {
     "data": {
      "text/plain": [
       "array([43, 23, 46, 50, 61, 74, 77, 81, 81, 89])"
      ]
     },
     "execution_count": 38,
     "metadata": {},
     "output_type": "execute_result"
    }
   ],
   "source": [
    "arr_1d = np.random.randint(1, 100, 10)\n",
    "print(arr_1d)\n",
    "\n",
    "# Let's assume we want only the 1st 5 values out of 10, to be sorted.\n",
    "# We can use numpy partition which accepts an array and a K constant\n",
    "\n",
    "# Result will be, K(=3 e.g) will be the smallest 3 values in the array. So the array\n",
    "# is partitioned in two parts [:3, 3:]\n",
    "# Both the parts are still not sorted. They can be in any order.\n",
    "\n",
    "np.partition(arr_1d, 3)\n",
    "\n",
    "# The same can be done to a multi-dim array. \n",
    "# And a np.argpartiotion also exists."
   ]
  }
 ],
 "metadata": {
  "kernelspec": {
   "display_name": "venv",
   "language": "python",
   "name": "venv"
  },
  "language_info": {
   "codemirror_mode": {
    "name": "ipython",
    "version": 3
   },
   "file_extension": ".py",
   "mimetype": "text/x-python",
   "name": "python",
   "nbconvert_exporter": "python",
   "pygments_lexer": "ipython3",
   "version": "3.9.4"
  }
 },
 "nbformat": 4,
 "nbformat_minor": 5
}
