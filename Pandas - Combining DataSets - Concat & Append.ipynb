{
 "cells": [
  {
   "cell_type": "code",
   "execution_count": 1,
   "id": "190fd43d",
   "metadata": {},
   "outputs": [],
   "source": [
    "import numpy as np\n",
    "import pandas as pd"
   ]
  },
  {
   "cell_type": "code",
   "execution_count": 19,
   "id": "e8c92a5f",
   "metadata": {},
   "outputs": [
    {
     "data": {
      "text/html": [
       "<div>\n",
       "<style scoped>\n",
       "    .dataframe tbody tr th:only-of-type {\n",
       "        vertical-align: middle;\n",
       "    }\n",
       "\n",
       "    .dataframe tbody tr th {\n",
       "        vertical-align: top;\n",
       "    }\n",
       "\n",
       "    .dataframe thead th {\n",
       "        text-align: right;\n",
       "    }\n",
       "</style>\n",
       "<table border=\"1\" class=\"dataframe\">\n",
       "  <thead>\n",
       "    <tr style=\"text-align: right;\">\n",
       "      <th></th>\n",
       "      <th>s1</th>\n",
       "      <th>s2</th>\n",
       "    </tr>\n",
       "  </thead>\n",
       "  <tbody>\n",
       "    <tr>\n",
       "      <th>i0</th>\n",
       "      <td>0</td>\n",
       "      <td>83</td>\n",
       "    </tr>\n",
       "    <tr>\n",
       "      <th>i1</th>\n",
       "      <td>1</td>\n",
       "      <td>49</td>\n",
       "    </tr>\n",
       "    <tr>\n",
       "      <th>i2</th>\n",
       "      <td>2</td>\n",
       "      <td>69</td>\n",
       "    </tr>\n",
       "    <tr>\n",
       "      <th>i3</th>\n",
       "      <td>3</td>\n",
       "      <td>54</td>\n",
       "    </tr>\n",
       "    <tr>\n",
       "      <th>i4</th>\n",
       "      <td>4</td>\n",
       "      <td>69</td>\n",
       "    </tr>\n",
       "    <tr>\n",
       "      <th>i5</th>\n",
       "      <td>5</td>\n",
       "      <td>76</td>\n",
       "    </tr>\n",
       "    <tr>\n",
       "      <th>i6</th>\n",
       "      <td>6</td>\n",
       "      <td>74</td>\n",
       "    </tr>\n",
       "    <tr>\n",
       "      <th>i7</th>\n",
       "      <td>7</td>\n",
       "      <td>95</td>\n",
       "    </tr>\n",
       "    <tr>\n",
       "      <th>i8</th>\n",
       "      <td>8</td>\n",
       "      <td>74</td>\n",
       "    </tr>\n",
       "    <tr>\n",
       "      <th>i9</th>\n",
       "      <td>9</td>\n",
       "      <td>90</td>\n",
       "    </tr>\n",
       "  </tbody>\n",
       "</table>\n",
       "</div>"
      ],
      "text/plain": [
       "    s1  s2\n",
       "i0   0  83\n",
       "i1   1  49\n",
       "i2   2  69\n",
       "i3   3  54\n",
       "i4   4  69\n",
       "i5   5  76\n",
       "i6   6  74\n",
       "i7   7  95\n",
       "i8   8  74\n",
       "i9   9  90"
      ]
     },
     "execution_count": 19,
     "metadata": {},
     "output_type": "execute_result"
    }
   ],
   "source": [
    "# Lets create two series objects\n",
    "index=[f'i{ind}' for ind in range(10)]\n",
    "s1 = pd.Series(np.arange(10), index=index)\n",
    "s2 = pd.Series(np.random.randint(1,100, 10), index=index)\n",
    "\n",
    "# Also lets create a DF from them\n",
    "df1 = pd.DataFrame({'s1':s1, 's2':s2})\n",
    "\n",
    "df1"
   ]
  },
  {
   "cell_type": "code",
   "execution_count": 20,
   "id": "8c07d050",
   "metadata": {},
   "outputs": [
    {
     "data": {
      "text/plain": [
       "i0     0\n",
       "i1     1\n",
       "i2     2\n",
       "i3     3\n",
       "i4     4\n",
       "i5     5\n",
       "i6     6\n",
       "i7     7\n",
       "i8     8\n",
       "i9     9\n",
       "i0    83\n",
       "i1    49\n",
       "i2    69\n",
       "i3    54\n",
       "i4    69\n",
       "i5    76\n",
       "i6    74\n",
       "i7    95\n",
       "i8    74\n",
       "i9    90\n",
       "dtype: int64"
      ]
     },
     "execution_count": 20,
     "metadata": {},
     "output_type": "execute_result"
    }
   ],
   "source": [
    "# We can also create the DF from concatinating bot series\n",
    "\n",
    "df2 = pd.concat([s1, s2])\n",
    "df2"
   ]
  },
  {
   "cell_type": "markdown",
   "id": "71c4037c",
   "metadata": {},
   "source": [
    "<div class=\"jumbotron\">\n",
    "<p>Things to observe from above result</p>\n",
    "\n",
    "- Pandas concatenation preserves indices.\n",
    "- You can choose to ignore them with verify_integrity=True. This will raise an error\n",
    "- You can use ignore_index=True if you want to set new indexes for the common indexes.\n",
    "- You can also mention another argument, keys=['X', 'Y']. Result will be a hierarchically indexed series containing the data.\n",
    "</div>"
   ]
  },
  {
   "cell_type": "code",
   "execution_count": 21,
   "id": "969d0c45",
   "metadata": {},
   "outputs": [
    {
     "data": {
      "text/plain": [
       "0      0\n",
       "1      1\n",
       "2      2\n",
       "3      3\n",
       "4      4\n",
       "5      5\n",
       "6      6\n",
       "7      7\n",
       "8      8\n",
       "9      9\n",
       "10    83\n",
       "11    49\n",
       "12    69\n",
       "13    54\n",
       "14    69\n",
       "15    76\n",
       "16    74\n",
       "17    95\n",
       "18    74\n",
       "19    90\n",
       "dtype: int64"
      ]
     },
     "execution_count": 21,
     "metadata": {},
     "output_type": "execute_result"
    }
   ],
   "source": [
    "df3 = pd.concat([s1, s2], ignore_index=True)\n",
    "df3"
   ]
  },
  {
   "cell_type": "code",
   "execution_count": 23,
   "id": "a450f95e",
   "metadata": {
    "scrolled": false
   },
   "outputs": [
    {
     "data": {
      "text/plain": [
       "X  i0     0\n",
       "   i1     1\n",
       "   i2     2\n",
       "   i3     3\n",
       "   i4     4\n",
       "   i5     5\n",
       "   i6     6\n",
       "   i7     7\n",
       "   i8     8\n",
       "   i9     9\n",
       "Y  i0    83\n",
       "   i1    49\n",
       "   i2    69\n",
       "   i3    54\n",
       "   i4    69\n",
       "   i5    76\n",
       "   i6    74\n",
       "   i7    95\n",
       "   i8    74\n",
       "   i9    90\n",
       "dtype: int64"
      ]
     },
     "execution_count": 23,
     "metadata": {},
     "output_type": "execute_result"
    }
   ],
   "source": [
    "# Adding MultiIndex keys\n",
    "\n",
    "df4 = pd.concat([s1, s2], keys=['X', 'Y'])\n",
    "df4"
   ]
  },
  {
   "cell_type": "code",
   "execution_count": 42,
   "id": "451bbc7b",
   "metadata": {},
   "outputs": [
    {
     "data": {
      "text/html": [
       "<div>\n",
       "<style scoped>\n",
       "    .dataframe tbody tr th:only-of-type {\n",
       "        vertical-align: middle;\n",
       "    }\n",
       "\n",
       "    .dataframe tbody tr th {\n",
       "        vertical-align: top;\n",
       "    }\n",
       "\n",
       "    .dataframe thead th {\n",
       "        text-align: right;\n",
       "    }\n",
       "</style>\n",
       "<table border=\"1\" class=\"dataframe\">\n",
       "  <thead>\n",
       "    <tr style=\"text-align: right;\">\n",
       "      <th></th>\n",
       "      <th>s1</th>\n",
       "      <th>s2</th>\n",
       "      <th>s3</th>\n",
       "    </tr>\n",
       "  </thead>\n",
       "  <tbody>\n",
       "    <tr>\n",
       "      <th>i0</th>\n",
       "      <td>0.0</td>\n",
       "      <td>72</td>\n",
       "      <td>NaN</td>\n",
       "    </tr>\n",
       "    <tr>\n",
       "      <th>i1</th>\n",
       "      <td>1.0</td>\n",
       "      <td>52</td>\n",
       "      <td>NaN</td>\n",
       "    </tr>\n",
       "    <tr>\n",
       "      <th>j0</th>\n",
       "      <td>NaN</td>\n",
       "      <td>0</td>\n",
       "      <td>16.0</td>\n",
       "    </tr>\n",
       "    <tr>\n",
       "      <th>j1</th>\n",
       "      <td>NaN</td>\n",
       "      <td>1</td>\n",
       "      <td>72.0</td>\n",
       "    </tr>\n",
       "  </tbody>\n",
       "</table>\n",
       "</div>"
      ],
      "text/plain": [
       "     s1  s2    s3\n",
       "i0  0.0  72   NaN\n",
       "i1  1.0  52   NaN\n",
       "j0  NaN   0  16.0\n",
       "j1  NaN   1  72.0"
      ]
     },
     "execution_count": 42,
     "metadata": {},
     "output_type": "execute_result"
    }
   ],
   "source": [
    "# Generally, we will get data with different indexes.\n",
    "# So lets create two series with different indexes.\n",
    "\n",
    "n = 2\n",
    "# Lets create two series objects\n",
    "index_s1 = [f'i{ind}' for ind in range(n)]\n",
    "index_s2 = [f'i{ind}' for ind in range(n)]\n",
    "index_s3 = [f'j{ind}' for ind in range(n)]\n",
    "index_s4 = [f'j{ind}' for ind in range(n)]\n",
    "s1 = pd.Series(np.arange(n), index=index_s1)\n",
    "s2 = pd.Series(np.random.randint(1,100, n), index=index_s2)\n",
    "s3 = pd.Series(np.arange(n), index=index_s3)\n",
    "s4 = pd.Series(np.random.randint(1,100, n), index=index_s4)\n",
    "df4 = pd.DataFrame({'s1':s1, 's2':s2})\n",
    "df4\n",
    "\n",
    "df5 = pd.DataFrame({'s2':s3, 's3':s4})\n",
    "df5\n",
    "\n",
    "# Lets see what happens when we concantenate them.\n",
    "pd.concat([df4, df5])"
   ]
  },
  {
   "cell_type": "code",
   "execution_count": 43,
   "id": "cea6518c",
   "metadata": {},
   "outputs": [
    {
     "data": {
      "text/html": [
       "<div>\n",
       "<style scoped>\n",
       "    .dataframe tbody tr th:only-of-type {\n",
       "        vertical-align: middle;\n",
       "    }\n",
       "\n",
       "    .dataframe tbody tr th {\n",
       "        vertical-align: top;\n",
       "    }\n",
       "\n",
       "    .dataframe thead th {\n",
       "        text-align: right;\n",
       "    }\n",
       "</style>\n",
       "<table border=\"1\" class=\"dataframe\">\n",
       "  <thead>\n",
       "    <tr style=\"text-align: right;\">\n",
       "      <th></th>\n",
       "      <th>s2</th>\n",
       "    </tr>\n",
       "  </thead>\n",
       "  <tbody>\n",
       "    <tr>\n",
       "      <th>i0</th>\n",
       "      <td>72</td>\n",
       "    </tr>\n",
       "    <tr>\n",
       "      <th>i1</th>\n",
       "      <td>52</td>\n",
       "    </tr>\n",
       "    <tr>\n",
       "      <th>j0</th>\n",
       "      <td>0</td>\n",
       "    </tr>\n",
       "    <tr>\n",
       "      <th>j1</th>\n",
       "      <td>1</td>\n",
       "    </tr>\n",
       "  </tbody>\n",
       "</table>\n",
       "</div>"
      ],
      "text/plain": [
       "    s2\n",
       "i0  72\n",
       "i1  52\n",
       "j0   0\n",
       "j1   1"
      ]
     },
     "execution_count": 43,
     "metadata": {},
     "output_type": "execute_result"
    }
   ],
   "source": [
    "pd.concat([df4, df5], join='inner')"
   ]
  },
  {
   "cell_type": "code",
   "execution_count": 44,
   "id": "1988823d",
   "metadata": {},
   "outputs": [
    {
     "data": {
      "text/html": [
       "<div>\n",
       "<style scoped>\n",
       "    .dataframe tbody tr th:only-of-type {\n",
       "        vertical-align: middle;\n",
       "    }\n",
       "\n",
       "    .dataframe tbody tr th {\n",
       "        vertical-align: top;\n",
       "    }\n",
       "\n",
       "    .dataframe thead th {\n",
       "        text-align: right;\n",
       "    }\n",
       "</style>\n",
       "<table border=\"1\" class=\"dataframe\">\n",
       "  <thead>\n",
       "    <tr style=\"text-align: right;\">\n",
       "      <th></th>\n",
       "      <th>s1</th>\n",
       "      <th>s2</th>\n",
       "      <th>s3</th>\n",
       "    </tr>\n",
       "  </thead>\n",
       "  <tbody>\n",
       "    <tr>\n",
       "      <th>i0</th>\n",
       "      <td>0.0</td>\n",
       "      <td>72</td>\n",
       "      <td>NaN</td>\n",
       "    </tr>\n",
       "    <tr>\n",
       "      <th>i1</th>\n",
       "      <td>1.0</td>\n",
       "      <td>52</td>\n",
       "      <td>NaN</td>\n",
       "    </tr>\n",
       "    <tr>\n",
       "      <th>j0</th>\n",
       "      <td>NaN</td>\n",
       "      <td>0</td>\n",
       "      <td>16.0</td>\n",
       "    </tr>\n",
       "    <tr>\n",
       "      <th>j1</th>\n",
       "      <td>NaN</td>\n",
       "      <td>1</td>\n",
       "      <td>72.0</td>\n",
       "    </tr>\n",
       "  </tbody>\n",
       "</table>\n",
       "</div>"
      ],
      "text/plain": [
       "     s1  s2    s3\n",
       "i0  0.0  72   NaN\n",
       "i1  1.0  52   NaN\n",
       "j0  NaN   0  16.0\n",
       "j1  NaN   1  72.0"
      ]
     },
     "execution_count": 44,
     "metadata": {},
     "output_type": "execute_result"
    }
   ],
   "source": [
    "# There is another approach. You can append to a dataframe. Will produce the same result as concat.\n",
    "\n",
    "df4.append(df5)"
   ]
  }
 ],
 "metadata": {
  "kernelspec": {
   "display_name": "venv",
   "language": "python",
   "name": "venv"
  },
  "language_info": {
   "codemirror_mode": {
    "name": "ipython",
    "version": 3
   },
   "file_extension": ".py",
   "mimetype": "text/x-python",
   "name": "python",
   "nbconvert_exporter": "python",
   "pygments_lexer": "ipython3",
   "version": "3.9.4"
  }
 },
 "nbformat": 4,
 "nbformat_minor": 5
}
