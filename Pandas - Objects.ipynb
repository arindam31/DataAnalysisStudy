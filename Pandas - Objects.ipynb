{
 "cells": [
  {
   "cell_type": "code",
   "execution_count": 1,
   "id": "89f1f05f",
   "metadata": {},
   "outputs": [
    {
     "data": {
      "text/plain": [
       "'1.2.4'"
      ]
     },
     "execution_count": 1,
     "metadata": {},
     "output_type": "execute_result"
    }
   ],
   "source": [
    "import numpy as np\n",
    "import pandas as pd\n",
    "pd.__version__"
   ]
  },
  {
   "cell_type": "markdown",
   "id": "c55f4117",
   "metadata": {},
   "source": [
    "<p class=\"lead display-3 alert alert-info\">1. Pandas <strong>Objects</strong> can be thought of, numpy arrays with custom structured dtypes.</p>"
   ]
  },
  {
   "cell_type": "markdown",
   "id": "76ec3355",
   "metadata": {},
   "source": [
    "<h1>Three kinds of Pandas datastructures:</h1>\n",
    "\n",
    "<h3 class=\"display-4\">Series Objects</h3>\n",
    "<blockquote>A Pandas Series is a one-dimensional array of indexed data. It can be created from a list or array</blockquote>\n",
    "\n",
    "<h3 class=\"display-4\">DataFrame Objects</h3>\n",
    "<blockquote>DataFrame is an analog of a two-dimensional array with both flexible row indices and flexible column names</blockquote>\n",
    "\n",
    "<h3 class=\"display-4\">Index Objects</h3>\n",
    "<blockquote>A Pandas Series is a one-dimensional array of indexed data. It can be created from a list or array as follows:</blockquote>"
   ]
  },
  {
   "cell_type": "markdown",
   "id": "be3f9f0f",
   "metadata": {},
   "source": [
    "<h2>Series Objects</h2>"
   ]
  },
  {
   "cell_type": "code",
   "execution_count": 2,
   "id": "afcf3506",
   "metadata": {},
   "outputs": [],
   "source": [
    "# We can create a series object with pd.Series\n",
    "# We can pass a few params to it.\n",
    "\n",
    "my_series = pd.Series(data=np.linspace(1, 2, 5), name=\"Values b/w 1 to 2\")"
   ]
  },
  {
   "cell_type": "code",
   "execution_count": 3,
   "id": "8c0db734",
   "metadata": {
    "scrolled": true
   },
   "outputs": [
    {
     "name": "stdout",
     "output_type": "stream",
     "text": [
      "The series as it looks:\n",
      "\n",
      "0    1.00\n",
      "1    1.25\n",
      "2    1.50\n",
      "3    1.75\n",
      "4    2.00\n",
      "Name: Values b/w 1 to 2, dtype: float64\n",
      "\n",
      "Values property of the object: All values will be shown as a list\n",
      "[1.   1.25 1.5  1.75 2.  ]\n",
      "\n",
      "Index of this series:\n",
      "RangeIndex(start=0, stop=5, step=1)\n",
      "\n",
      "Let's get the first few values using slicing\n",
      "1    1.25\n",
      "2    1.50\n",
      "Name: Values b/w 1 to 2, dtype: float64\n"
     ]
    }
   ],
   "source": [
    "# Lets explore the above series.\n",
    "\n",
    "print(\"The series as it looks:\", end=\"\\n\\n\")\n",
    "print(my_series, end='\\n\\n')\n",
    "\n",
    "print(\"Values property of the object: All values will be shown as a list\")\n",
    "print(my_series.values, end='\\n\\n')\n",
    "\n",
    "print(\"Index of this series:\")\n",
    "print(my_series.index, end='\\n\\n')\n",
    "\n",
    "print(\"Let's get the first few values using slicing\")\n",
    "print(my_series[1:3])"
   ]
  },
  {
   "cell_type": "markdown",
   "id": "8a354ec8",
   "metadata": {},
   "source": [
    "<h3>Above we can note a few things</h3>\n",
    "<ul class=\"list-group\">\n",
    "    <li class=\"list-group-item\">If you provide a name too, it shows up. Else it's None.</li>\n",
    "    <li class=\"list-group-item\">Index by default, starts from 0.</li>\n",
    "    <li class=\"list-group-item\">We can get values only with the values property.</li>\n",
    "    <li class=\"list-group-item\">Sliced series will also show indexes</li>\n",
    "</ul>"
   ]
  },
  {
   "cell_type": "markdown",
   "id": "b5528803",
   "metadata": {},
   "source": [
    "<p class=\"lead display-3 alert alert-info\">2. We can have our own index range</p>\n",
    "\n",
    "<ul class=\"list-group\">\n",
    "    <li class=\"list-group-item\">It can start with anything like a letter, or a number</li>\n",
    "    <li class=\"list-group-item\">Unlike python indexing, you can then use these custom indexes</li>\n",
    "</ul>"
   ]
  },
  {
   "cell_type": "code",
   "execution_count": 4,
   "id": "06885bd8",
   "metadata": {},
   "outputs": [
    {
     "name": "stdout",
     "output_type": "stream",
     "text": [
      "Index(['a', 'b', 'c', 'd', 'e'], dtype='object')\n",
      "b    0.923717\n",
      "c    0.608411\n",
      "d    0.017797\n",
      "dtype: float64\n",
      "\n",
      "using explicit index\n",
      "b    0.923717\n",
      "e    0.127975\n",
      "dtype: float64\n",
      "\n",
      "Get only specific index items with explicit index\n",
      "a    0.051872\n",
      "e    0.127975\n",
      "dtype: float64\n",
      "\n",
      "using implicit python index\n",
      "b    0.923717\n",
      "c    0.608411\n",
      "dtype: float64\n",
      "\n"
     ]
    }
   ],
   "source": [
    "# Series with custom index.\n",
    "\n",
    "series_with_str_index = pd.Series(np.random.random(5), index=['a', 'b', 'c', 'd', 'e'])\n",
    "print(series_with_str_index.index)\n",
    "\n",
    "# Slicing\n",
    "print(series_with_str_index['b':'d'], end=\"\\n\\n\")\n",
    "\n",
    "# Get selected indexes using explicit index.\n",
    "\n",
    "print('using explicit index')\n",
    "print(series_with_str_index[['b', 'e']], end=\"\\n\\n\")\n",
    "\n",
    "print('Get only specific index items with explicit index')\n",
    "print(series_with_str_index[['a', 'e']], end=\"\\n\\n\")\n",
    "\n",
    "# Slice array using python implicit index\n",
    "\n",
    "print('using implicit python index')\n",
    "print(series_with_str_index[1:3], end=\"\\n\\n\")"
   ]
  },
  {
   "cell_type": "markdown",
   "id": "fce6a1e2",
   "metadata": {},
   "source": [
    "<p class=\"lead display-3 alert alert-info\">3. Series as specialized dictionary.</p>"
   ]
  },
  {
   "cell_type": "code",
   "execution_count": 5,
   "id": "01078689",
   "metadata": {},
   "outputs": [
    {
     "name": "stdout",
     "output_type": "stream",
     "text": [
      "The Series:\n",
      "\n",
      "name      Jaddu\n",
      "age          40\n",
      "weigth     68.5\n",
      "dtype: object\n",
      "\n",
      "Index of this series\n",
      "Index(['name', 'age', 'weigth'], dtype='object')\n",
      "\n",
      "Slicing:\n",
      "name    Jaddu\n",
      "age        40\n",
      "dtype: object\n",
      "\n",
      "Note: The index keys are behind-the-scene sorted and used while slicing.\n"
     ]
    }
   ],
   "source": [
    "# Let's create a panda series object out of a python dictionary.\n",
    "\n",
    "person_dict = {'name':'Jaddu', 'age':40, 'weigth': 68.5}\n",
    "\n",
    "print(\"The Series:\", end='\\n\\n')\n",
    "dict_series = pd.Series(person_dict)\n",
    "print(dict_series, end='\\n\\n')\n",
    "\n",
    "print(\"Index of this series\")\n",
    "print(dict_series.index, end='\\n\\n')\n",
    "\n",
    "print(\"Slicing:\")\n",
    "print(dict_series['name':'age'], end='\\n\\n')\n",
    "\n",
    "print(\"Note: The index keys are behind-the-scene sorted and used while slicing.\")"
   ]
  },
  {
   "cell_type": "markdown",
   "id": "8396f2d6",
   "metadata": {},
   "source": [
    "<h3>We can create Series from one value too</h3>\n",
    "<p>If we provide an index list too, value will be the same for every index</p>"
   ]
  },
  {
   "cell_type": "code",
   "execution_count": 6,
   "id": "4c18189b",
   "metadata": {},
   "outputs": [
    {
     "data": {
      "text/plain": [
       "0    a\n",
       "dtype: object"
      ]
     },
     "execution_count": 6,
     "metadata": {},
     "output_type": "execute_result"
    }
   ],
   "source": [
    "pd.Series('a')"
   ]
  },
  {
   "cell_type": "code",
   "execution_count": 7,
   "id": "6eedc3f1",
   "metadata": {},
   "outputs": [
    {
     "data": {
      "text/plain": [
       "0    a\n",
       "1    a\n",
       "2    a\n",
       "dtype: object"
      ]
     },
     "execution_count": 7,
     "metadata": {},
     "output_type": "execute_result"
    }
   ],
   "source": [
    "pd.Series('a', index=[0,1,2])"
   ]
  },
  {
   "cell_type": "markdown",
   "id": "b88196a9",
   "metadata": {},
   "source": [
    "<h3>We can get values of only selected indexes (with a dictionary as data)</h3>\n"
   ]
  },
  {
   "cell_type": "code",
   "execution_count": 8,
   "id": "25d94078",
   "metadata": {},
   "outputs": [
    {
     "data": {
      "text/plain": [
       "name    Jaddu\n",
       "age        40\n",
       "dtype: object"
      ]
     },
     "execution_count": 8,
     "metadata": {},
     "output_type": "execute_result"
    }
   ],
   "source": [
    "pd.Series(person_dict, index=['name', 'age'])"
   ]
  },
  {
   "cell_type": "code",
   "execution_count": 9,
   "id": "5f8633c9",
   "metadata": {},
   "outputs": [
    {
     "data": {
      "text/plain": [
       "3    1.75\n",
       "4    2.00\n",
       "Name: Values b/w 1 to 2, dtype: float64"
      ]
     },
     "execution_count": 9,
     "metadata": {},
     "output_type": "execute_result"
    }
   ],
   "source": [
    "my_series[(my_series>1.5)]"
   ]
  },
  {
   "cell_type": "markdown",
   "id": "65e38626",
   "metadata": {},
   "source": [
    "<h3>Indexers: loc, iloc, and ix</h3>\n",
    "\n",
    "- **loc** attribute allows indexing and slicing that always references the explicit index\n",
    "- **iloc** attribute allows indexing and slicing that always references the implicit Python-style index:"
   ]
  },
  {
   "cell_type": "code",
   "execution_count": 10,
   "id": "9bd5d8f2",
   "metadata": {},
   "outputs": [
    {
     "data": {
      "text/plain": [
       "a    0.051872\n",
       "b    0.923717\n",
       "c    0.608411\n",
       "d    0.017797\n",
       "e    0.127975\n",
       "dtype: float64"
      ]
     },
     "execution_count": 10,
     "metadata": {},
     "output_type": "execute_result"
    }
   ],
   "source": [
    "series_with_str_index.loc[:]"
   ]
  },
  {
   "cell_type": "code",
   "execution_count": 11,
   "id": "94226632",
   "metadata": {},
   "outputs": [],
   "source": [
    "# Proof that while using loc, yo can ONLY use explicit indexes (as defined while creating the series)\n",
    "\n",
    "try:\n",
    "    series_with_str_index.loc[0:2]\n",
    "except TypeError as em:\n",
    "    assert str(em) == 'cannot do slice indexing on Index with these indexers [0] of type int'"
   ]
  },
  {
   "cell_type": "code",
   "execution_count": 12,
   "id": "cccd1a28",
   "metadata": {},
   "outputs": [
    {
     "data": {
      "text/plain": [
       "b    0.923717\n",
       "c    0.608411\n",
       "d    0.017797\n",
       "e    0.127975\n",
       "dtype: float64"
      ]
     },
     "execution_count": 12,
     "metadata": {},
     "output_type": "execute_result"
    }
   ],
   "source": [
    "# So this will work with loc.\n",
    "\n",
    "series_with_str_index.loc['b':'e']"
   ]
  },
  {
   "cell_type": "code",
   "execution_count": 13,
   "id": "a141908f",
   "metadata": {},
   "outputs": [
    {
     "data": {
      "text/plain": [
       "b    0.923717\n",
       "c    0.608411\n",
       "d    0.017797\n",
       "dtype: float64"
      ]
     },
     "execution_count": 13,
     "metadata": {},
     "output_type": "execute_result"
    }
   ],
   "source": [
    "# Proof that iloc only works with python implicit indexes (0,1,2,.....)\n",
    "\n",
    "try:\n",
    "    series_with_str_index.iloc['b':'e']\n",
    "except TypeError as em:\n",
    "    assert str(em) == 'cannot do positional indexing on Index with these indexers [b] of type str'\n",
    "    \n",
    "series_with_str_index.iloc[1:4]"
   ]
  },
  {
   "cell_type": "markdown",
   "id": "88c0a1db",
   "metadata": {},
   "source": [
    "<h1 class=\"alert alert-info\">Dataframes</h1>\n",
    "\n",
    "<p> You can say that it is a collection of series with a generalised index for easy access to the data.</p>"
   ]
  },
  {
   "cell_type": "code",
   "execution_count": 14,
   "id": "6da34397",
   "metadata": {
    "scrolled": true
   },
   "outputs": [
    {
     "data": {
      "text/html": [
       "<div>\n",
       "<style scoped>\n",
       "    .dataframe tbody tr th:only-of-type {\n",
       "        vertical-align: middle;\n",
       "    }\n",
       "\n",
       "    .dataframe tbody tr th {\n",
       "        vertical-align: top;\n",
       "    }\n",
       "\n",
       "    .dataframe thead th {\n",
       "        text-align: right;\n",
       "    }\n",
       "</style>\n",
       "<table border=\"1\" class=\"dataframe\">\n",
       "  <thead>\n",
       "    <tr style=\"text-align: right;\">\n",
       "      <th></th>\n",
       "      <th>unit_price</th>\n",
       "      <th>category</th>\n",
       "      <th>stock</th>\n",
       "    </tr>\n",
       "  </thead>\n",
       "  <tbody>\n",
       "    <tr>\n",
       "      <th>coke</th>\n",
       "      <td>2.99</td>\n",
       "      <td>Beverages</td>\n",
       "      <td>50</td>\n",
       "    </tr>\n",
       "    <tr>\n",
       "      <th>eggs</th>\n",
       "      <td>5.50</td>\n",
       "      <td>Poultry</td>\n",
       "      <td>200</td>\n",
       "    </tr>\n",
       "    <tr>\n",
       "      <th>milk</th>\n",
       "      <td>3.00</td>\n",
       "      <td>Milk Product</td>\n",
       "      <td>10</td>\n",
       "    </tr>\n",
       "    <tr>\n",
       "      <th>rice</th>\n",
       "      <td>12.00</td>\n",
       "      <td>Staple</td>\n",
       "      <td>100</td>\n",
       "    </tr>\n",
       "  </tbody>\n",
       "</table>\n",
       "</div>"
      ],
      "text/plain": [
       "      unit_price      category  stock\n",
       "coke        2.99     Beverages     50\n",
       "eggs        5.50       Poultry    200\n",
       "milk        3.00  Milk Product     10\n",
       "rice       12.00        Staple    100"
      ]
     },
     "execution_count": 14,
     "metadata": {},
     "output_type": "execute_result"
    }
   ],
   "source": [
    "# How to create a DataFrame\n",
    "\n",
    "price_grocery = {'rice': 12, 'eggs':5.5, 'milk': 3, 'coke': 2.99}\n",
    "category_grocery = {'rice': 'Staple', 'eggs': 'Poultry', 'coke': 'Beverages', 'milk':'Milk Product'}\n",
    "stock_grocery = {'rice': 100, 'eggs': 200, 'coke': 50, 'milk':10}\n",
    "\n",
    "price_series = pd.Series(price_grocery)\n",
    "category_series = pd.Series(category_grocery)\n",
    "stock_series = pd.Series(stock_grocery)\n",
    "\n",
    "# Create from a dictionary of series objects.\n",
    "grocery_df = pd.DataFrame({'unit_price':price_series, 'category':category_series, 'stock':stock_series})\n",
    "grocery_df"
   ]
  },
  {
   "cell_type": "markdown",
   "id": "6acc4018",
   "metadata": {},
   "source": [
    "<blockquote>Thus DataFrame can be thought of as a generalization of a two-dimensional NumPy array, where both the rows and columns have a generalized index for accessing the data.</blockquote>"
   ]
  },
  {
   "cell_type": "code",
   "execution_count": 15,
   "id": "12bfd03d",
   "metadata": {},
   "outputs": [
    {
     "name": "stdout",
     "output_type": "stream",
     "text": [
      "Index(['coke', 'eggs', 'milk', 'rice'], dtype='object')\n",
      "Index(['unit_price', 'category', 'stock'], dtype='object')\n"
     ]
    }
   ],
   "source": [
    "# Exploring a DataFrame\n",
    "\n",
    "## Index of a DataFrame\n",
    "print(grocery_df.index)\n",
    "\n",
    "## Columns of DataFrame\n",
    "print(grocery_df.columns)"
   ]
  },
  {
   "cell_type": "markdown",
   "id": "3d70d200",
   "metadata": {},
   "source": [
    "<blockquote>TIP:</mark> We can also think of a DataFrame as a specialization of a dictionary. Where a dictionary maps a key to a value, a DataFrame maps a column name to a Series of column data</blockquote>"
   ]
  },
  {
   "cell_type": "markdown",
   "id": "d2451558",
   "metadata": {},
   "source": [
    "<h3>Accesing Data</h3>"
   ]
  },
  {
   "cell_type": "code",
   "execution_count": 16,
   "id": "acdab207",
   "metadata": {},
   "outputs": [
    {
     "data": {
      "text/plain": [
       "coke     50\n",
       "eggs    200\n",
       "milk     10\n",
       "rice    100\n",
       "Name: stock, dtype: int64"
      ]
     },
     "execution_count": 16,
     "metadata": {},
     "output_type": "execute_result"
    }
   ],
   "source": [
    "# Dictionary style: With key (your columns are the keys)\n",
    "grocery_df['stock']"
   ]
  },
  {
   "cell_type": "code",
   "execution_count": 17,
   "id": "45631fcd",
   "metadata": {},
   "outputs": [
    {
     "data": {
      "text/plain": [
       "coke     50\n",
       "eggs    200\n",
       "milk     10\n",
       "rice    100\n",
       "Name: stock, dtype: int64"
      ]
     },
     "execution_count": 17,
     "metadata": {},
     "output_type": "execute_result"
    }
   ],
   "source": [
    "# As properties\n",
    "grocery_df.stock\n",
    "\n",
    "# NOTE: For this to work, indexes should be strings. And they should not conflict with method names."
   ]
  },
  {
   "cell_type": "markdown",
   "id": "7ff4f567",
   "metadata": {},
   "source": [
    "<h2 style=\"color:darkblue\">Constructing Dataframes objects</h2>"
   ]
  },
  {
   "cell_type": "code",
   "execution_count": 18,
   "id": "ffb84d9a",
   "metadata": {},
   "outputs": [
    {
     "data": {
      "text/html": [
       "<div>\n",
       "<style scoped>\n",
       "    .dataframe tbody tr th:only-of-type {\n",
       "        vertical-align: middle;\n",
       "    }\n",
       "\n",
       "    .dataframe tbody tr th {\n",
       "        vertical-align: top;\n",
       "    }\n",
       "\n",
       "    .dataframe thead th {\n",
       "        text-align: right;\n",
       "    }\n",
       "</style>\n",
       "<table border=\"1\" class=\"dataframe\">\n",
       "  <thead>\n",
       "    <tr style=\"text-align: right;\">\n",
       "      <th></th>\n",
       "      <th>price</th>\n",
       "    </tr>\n",
       "  </thead>\n",
       "  <tbody>\n",
       "    <tr>\n",
       "      <th>rice</th>\n",
       "      <td>12.00</td>\n",
       "    </tr>\n",
       "    <tr>\n",
       "      <th>eggs</th>\n",
       "      <td>5.50</td>\n",
       "    </tr>\n",
       "    <tr>\n",
       "      <th>milk</th>\n",
       "      <td>3.00</td>\n",
       "    </tr>\n",
       "    <tr>\n",
       "      <th>coke</th>\n",
       "      <td>2.99</td>\n",
       "    </tr>\n",
       "  </tbody>\n",
       "</table>\n",
       "</div>"
      ],
      "text/plain": [
       "      price\n",
       "rice  12.00\n",
       "eggs   5.50\n",
       "milk   3.00\n",
       "coke   2.99"
      ]
     },
     "execution_count": 18,
     "metadata": {},
     "output_type": "execute_result"
    }
   ],
   "source": [
    "# We can create from a single series.\n",
    "\n",
    "pd.DataFrame(price_series, columns=['price'])"
   ]
  },
  {
   "cell_type": "code",
   "execution_count": 19,
   "id": "4506521a",
   "metadata": {},
   "outputs": [
    {
     "data": {
      "text/html": [
       "<div>\n",
       "<style scoped>\n",
       "    .dataframe tbody tr th:only-of-type {\n",
       "        vertical-align: middle;\n",
       "    }\n",
       "\n",
       "    .dataframe tbody tr th {\n",
       "        vertical-align: top;\n",
       "    }\n",
       "\n",
       "    .dataframe thead th {\n",
       "        text-align: right;\n",
       "    }\n",
       "</style>\n",
       "<table border=\"1\" class=\"dataframe\">\n",
       "  <thead>\n",
       "    <tr style=\"text-align: right;\">\n",
       "      <th></th>\n",
       "      <th>rice</th>\n",
       "      <th>eggs</th>\n",
       "      <th>milk</th>\n",
       "      <th>coke</th>\n",
       "    </tr>\n",
       "  </thead>\n",
       "  <tbody>\n",
       "    <tr>\n",
       "      <th>0</th>\n",
       "      <td>12</td>\n",
       "      <td>5.5</td>\n",
       "      <td>3</td>\n",
       "      <td>2.99</td>\n",
       "    </tr>\n",
       "    <tr>\n",
       "      <th>1</th>\n",
       "      <td>Staple</td>\n",
       "      <td>Poultry</td>\n",
       "      <td>Milk Product</td>\n",
       "      <td>Beverages</td>\n",
       "    </tr>\n",
       "    <tr>\n",
       "      <th>2</th>\n",
       "      <td>100</td>\n",
       "      <td>200</td>\n",
       "      <td>10</td>\n",
       "      <td>50</td>\n",
       "    </tr>\n",
       "  </tbody>\n",
       "</table>\n",
       "</div>"
      ],
      "text/plain": [
       "     rice     eggs          milk       coke\n",
       "0      12      5.5             3       2.99\n",
       "1  Staple  Poultry  Milk Product  Beverages\n",
       "2     100      200            10         50"
      ]
     },
     "execution_count": 19,
     "metadata": {},
     "output_type": "execute_result"
    }
   ],
   "source": [
    "# We can create fron a list of dicts\n",
    "pd.DataFrame([price_grocery, category_grocery, stock_grocery])"
   ]
  },
  {
   "cell_type": "code",
   "execution_count": 20,
   "id": "baf55844",
   "metadata": {},
   "outputs": [
    {
     "data": {
      "text/html": [
       "<div>\n",
       "<style scoped>\n",
       "    .dataframe tbody tr th:only-of-type {\n",
       "        vertical-align: middle;\n",
       "    }\n",
       "\n",
       "    .dataframe tbody tr th {\n",
       "        vertical-align: top;\n",
       "    }\n",
       "\n",
       "    .dataframe thead th {\n",
       "        text-align: right;\n",
       "    }\n",
       "</style>\n",
       "<table border=\"1\" class=\"dataframe\">\n",
       "  <thead>\n",
       "    <tr style=\"text-align: right;\">\n",
       "      <th></th>\n",
       "      <th>Home</th>\n",
       "      <th>Away</th>\n",
       "    </tr>\n",
       "  </thead>\n",
       "  <tbody>\n",
       "    <tr>\n",
       "      <th>Dev1</th>\n",
       "      <td>0.983056</td>\n",
       "      <td>0.054160</td>\n",
       "    </tr>\n",
       "    <tr>\n",
       "      <th>Dev2</th>\n",
       "      <td>0.226497</td>\n",
       "      <td>0.304428</td>\n",
       "    </tr>\n",
       "    <tr>\n",
       "      <th>Dev3</th>\n",
       "      <td>0.080709</td>\n",
       "      <td>0.969087</td>\n",
       "    </tr>\n",
       "  </tbody>\n",
       "</table>\n",
       "</div>"
      ],
      "text/plain": [
       "          Home      Away\n",
       "Dev1  0.983056  0.054160\n",
       "Dev2  0.226497  0.304428\n",
       "Dev3  0.080709  0.969087"
      ]
     },
     "execution_count": 20,
     "metadata": {},
     "output_type": "execute_result"
    }
   ],
   "source": [
    "# From a two-dimensional NumPy array\n",
    "\n",
    "pd.DataFrame(np.random.random((3, 2)), columns=['Home', 'Away'], index=['Dev1', 'Dev2', 'Dev3'])"
   ]
  },
  {
   "cell_type": "code",
   "execution_count": 21,
   "id": "743f8dcc",
   "metadata": {},
   "outputs": [
    {
     "data": {
      "text/html": [
       "<div>\n",
       "<style scoped>\n",
       "    .dataframe tbody tr th:only-of-type {\n",
       "        vertical-align: middle;\n",
       "    }\n",
       "\n",
       "    .dataframe tbody tr th {\n",
       "        vertical-align: top;\n",
       "    }\n",
       "\n",
       "    .dataframe thead th {\n",
       "        text-align: right;\n",
       "    }\n",
       "</style>\n",
       "<table border=\"1\" class=\"dataframe\">\n",
       "  <thead>\n",
       "    <tr style=\"text-align: right;\">\n",
       "      <th></th>\n",
       "      <th>height</th>\n",
       "      <th>count</th>\n",
       "    </tr>\n",
       "  </thead>\n",
       "  <tbody>\n",
       "    <tr>\n",
       "      <th>0</th>\n",
       "      <td>1.0</td>\n",
       "      <td>1</td>\n",
       "    </tr>\n",
       "    <tr>\n",
       "      <th>1</th>\n",
       "      <td>1.0</td>\n",
       "      <td>1</td>\n",
       "    </tr>\n",
       "    <tr>\n",
       "      <th>2</th>\n",
       "      <td>1.0</td>\n",
       "      <td>1</td>\n",
       "    </tr>\n",
       "  </tbody>\n",
       "</table>\n",
       "</div>"
      ],
      "text/plain": [
       "   height  count\n",
       "0     1.0      1\n",
       "1     1.0      1\n",
       "2     1.0      1"
      ]
     },
     "execution_count": 21,
     "metadata": {},
     "output_type": "execute_result"
    }
   ],
   "source": [
    "# From a Numpy Structured array (remember custom dtype)\n",
    "\n",
    "pd.DataFrame(np.ones(3, dtype=[('height','f8'), ('count', 'int8')]))"
   ]
  },
  {
   "cell_type": "markdown",
   "id": "443d1747",
   "metadata": {},
   "source": [
    "<h3>Finally, you can create an index explicity</h3>\n"
   ]
  },
  {
   "cell_type": "code",
   "execution_count": 22,
   "id": "dc5152be",
   "metadata": {},
   "outputs": [
    {
     "name": "stdout",
     "output_type": "stream",
     "text": [
      "Yup...can't do it\n"
     ]
    },
    {
     "data": {
      "text/plain": [
       "(1, (5,), dtype('int64'), 5)"
      ]
     },
     "execution_count": 22,
     "metadata": {},
     "output_type": "execute_result"
    }
   ],
   "source": [
    "my_index = pd.Index([2,5,7,9, 11])\n",
    "\n",
    "# You cannot change them..immutability\n",
    "try:\n",
    "    my_index[2] = 123\n",
    "except TypeError:\n",
    "    print(\"Yup...can't do it\")\n",
    "    \n",
    "# They have same properties as numpy array\n",
    "my_index.ndim, my_index.shape, my_index.dtype, my_index.size\n"
   ]
  },
  {
   "cell_type": "markdown",
   "id": "40f63d9f",
   "metadata": {},
   "source": [
    "<h2 style=\"color:darkgreen\">Lets see what we can do with a dataframe</h2>"
   ]
  },
  {
   "cell_type": "code",
   "execution_count": 23,
   "id": "25087812",
   "metadata": {},
   "outputs": [
    {
     "data": {
      "text/plain": [
       "unit_price      12.0\n",
       "category      Staple\n",
       "stock            200\n",
       "dtype: object"
      ]
     },
     "execution_count": 23,
     "metadata": {},
     "output_type": "execute_result"
    }
   ],
   "source": [
    "# max() method is available on df.\n",
    "grocery_df.max()"
   ]
  },
  {
   "cell_type": "code",
   "execution_count": 24,
   "id": "6eeff401",
   "metadata": {},
   "outputs": [
    {
     "data": {
      "text/plain": [
       "unit_price         2.99\n",
       "category      Beverages\n",
       "stock                10\n",
       "dtype: object"
      ]
     },
     "execution_count": 24,
     "metadata": {},
     "output_type": "execute_result"
    }
   ],
   "source": [
    "grocery_df.min()"
   ]
  },
  {
   "cell_type": "code",
   "execution_count": 25,
   "id": "0a779f4e",
   "metadata": {},
   "outputs": [
    {
     "data": {
      "text/plain": [
       "unit_price     5.8725\n",
       "stock         90.0000\n",
       "dtype: float64"
      ]
     },
     "execution_count": 25,
     "metadata": {},
     "output_type": "execute_result"
    }
   ],
   "source": [
    "grocery_df.mean()"
   ]
  },
  {
   "cell_type": "markdown",
   "id": "6e3654f9",
   "metadata": {},
   "source": [
    "<h2 style=\"color:darkred\">Dataframe as a dictionary</h2>"
   ]
  },
  {
   "cell_type": "code",
   "execution_count": 26,
   "id": "4fa681c7",
   "metadata": {},
   "outputs": [
    {
     "data": {
      "text/plain": [
       "Index(['unit_price', 'category', 'stock'], dtype='object')"
      ]
     },
     "execution_count": 26,
     "metadata": {},
     "output_type": "execute_result"
    }
   ],
   "source": [
    "grocery_df.keys()"
   ]
  },
  {
   "cell_type": "code",
   "execution_count": 27,
   "id": "db8740f6",
   "metadata": {},
   "outputs": [
    {
     "data": {
      "text/plain": [
       "[('unit_price',\n",
       "  coke     2.99\n",
       "  eggs     5.50\n",
       "  milk     3.00\n",
       "  rice    12.00\n",
       "  Name: unit_price, dtype: float64),\n",
       " ('category',\n",
       "  coke       Beverages\n",
       "  eggs         Poultry\n",
       "  milk    Milk Product\n",
       "  rice          Staple\n",
       "  Name: category, dtype: object),\n",
       " ('stock',\n",
       "  coke     50\n",
       "  eggs    200\n",
       "  milk     10\n",
       "  rice    100\n",
       "  Name: stock, dtype: int64)]"
      ]
     },
     "execution_count": 27,
     "metadata": {},
     "output_type": "execute_result"
    }
   ],
   "source": [
    "list(grocery_df.items())"
   ]
  },
  {
   "cell_type": "code",
   "execution_count": 28,
   "id": "52bd2c58",
   "metadata": {},
   "outputs": [
    {
     "data": {
      "text/plain": [
       "coke     149.5\n",
       "eggs    1100.0\n",
       "milk      30.0\n",
       "rice    1200.0\n",
       "dtype: float64"
      ]
     },
     "execution_count": 28,
     "metadata": {},
     "output_type": "execute_result"
    }
   ],
   "source": [
    "# Create a new column from some calculation\n",
    "# Example: Total stock price of every item.\n",
    "\n",
    "grocery_df['Stock_Price'] = grocery_df['stock'] * grocery_df['unit_price']\n",
    "grocery_df\n",
    "\n",
    "# Note: Two series can also be multiplied to produce results.\n",
    "price_series * stock_series\n",
    "\n",
    "# We will explore this is detail later."
   ]
  },
  {
   "cell_type": "markdown",
   "id": "9c9311d5",
   "metadata": {},
   "source": [
    "<h2 style=\"color:darkorange\">DataFrame as two-dimensional array</h2>"
   ]
  },
  {
   "cell_type": "code",
   "execution_count": 29,
   "id": "ee914117",
   "metadata": {},
   "outputs": [
    {
     "data": {
      "text/plain": [
       "array([5.5, 'Poultry', 200, 1100.0], dtype=object)"
      ]
     },
     "execution_count": 29,
     "metadata": {},
     "output_type": "execute_result"
    }
   ],
   "source": [
    "# View the Raw Data as 2d array.\n",
    "grocery_df.values\n",
    "\n",
    "# You can use indexing on values\n",
    "grocery_df.values[1]"
   ]
  },
  {
   "cell_type": "code",
   "execution_count": 30,
   "id": "30009364",
   "metadata": {},
   "outputs": [
    {
     "data": {
      "text/html": [
       "<div>\n",
       "<style scoped>\n",
       "    .dataframe tbody tr th:only-of-type {\n",
       "        vertical-align: middle;\n",
       "    }\n",
       "\n",
       "    .dataframe tbody tr th {\n",
       "        vertical-align: top;\n",
       "    }\n",
       "\n",
       "    .dataframe thead th {\n",
       "        text-align: right;\n",
       "    }\n",
       "</style>\n",
       "<table border=\"1\" class=\"dataframe\">\n",
       "  <thead>\n",
       "    <tr style=\"text-align: right;\">\n",
       "      <th></th>\n",
       "      <th>coke</th>\n",
       "      <th>eggs</th>\n",
       "      <th>milk</th>\n",
       "      <th>rice</th>\n",
       "    </tr>\n",
       "  </thead>\n",
       "  <tbody>\n",
       "    <tr>\n",
       "      <th>unit_price</th>\n",
       "      <td>2.99</td>\n",
       "      <td>5.5</td>\n",
       "      <td>3.0</td>\n",
       "      <td>12.0</td>\n",
       "    </tr>\n",
       "    <tr>\n",
       "      <th>category</th>\n",
       "      <td>Beverages</td>\n",
       "      <td>Poultry</td>\n",
       "      <td>Milk Product</td>\n",
       "      <td>Staple</td>\n",
       "    </tr>\n",
       "    <tr>\n",
       "      <th>stock</th>\n",
       "      <td>50</td>\n",
       "      <td>200</td>\n",
       "      <td>10</td>\n",
       "      <td>100</td>\n",
       "    </tr>\n",
       "    <tr>\n",
       "      <th>Stock_Price</th>\n",
       "      <td>149.5</td>\n",
       "      <td>1100.0</td>\n",
       "      <td>30.0</td>\n",
       "      <td>1200.0</td>\n",
       "    </tr>\n",
       "  </tbody>\n",
       "</table>\n",
       "</div>"
      ],
      "text/plain": [
       "                  coke     eggs          milk    rice\n",
       "unit_price        2.99      5.5           3.0    12.0\n",
       "category     Beverages  Poultry  Milk Product  Staple\n",
       "stock               50      200            10     100\n",
       "Stock_Price      149.5   1100.0          30.0  1200.0"
      ]
     },
     "execution_count": 30,
     "metadata": {},
     "output_type": "execute_result"
    }
   ],
   "source": [
    "# We can transpose it since it is a 2d matrix.\n",
    "grocery_df.T"
   ]
  },
  {
   "cell_type": "code",
   "execution_count": 31,
   "id": "49bba8f6",
   "metadata": {},
   "outputs": [
    {
     "data": {
      "text/html": [
       "<div>\n",
       "<style scoped>\n",
       "    .dataframe tbody tr th:only-of-type {\n",
       "        vertical-align: middle;\n",
       "    }\n",
       "\n",
       "    .dataframe tbody tr th {\n",
       "        vertical-align: top;\n",
       "    }\n",
       "\n",
       "    .dataframe thead th {\n",
       "        text-align: right;\n",
       "    }\n",
       "</style>\n",
       "<table border=\"1\" class=\"dataframe\">\n",
       "  <thead>\n",
       "    <tr style=\"text-align: right;\">\n",
       "      <th></th>\n",
       "      <th>unit_price</th>\n",
       "      <th>category</th>\n",
       "    </tr>\n",
       "  </thead>\n",
       "  <tbody>\n",
       "    <tr>\n",
       "      <th>coke</th>\n",
       "      <td>2.99</td>\n",
       "      <td>Beverages</td>\n",
       "    </tr>\n",
       "    <tr>\n",
       "      <th>eggs</th>\n",
       "      <td>5.50</td>\n",
       "      <td>Poultry</td>\n",
       "    </tr>\n",
       "    <tr>\n",
       "      <th>milk</th>\n",
       "      <td>3.00</td>\n",
       "      <td>Milk Product</td>\n",
       "    </tr>\n",
       "  </tbody>\n",
       "</table>\n",
       "</div>"
      ],
      "text/plain": [
       "      unit_price      category\n",
       "coke        2.99     Beverages\n",
       "eggs        5.50       Poultry\n",
       "milk        3.00  Milk Product"
      ]
     },
     "execution_count": 31,
     "metadata": {},
     "output_type": "execute_result"
    }
   ],
   "source": [
    "# For array style indexing / slicing.\n",
    "# While we can do, grocery_df[0:3], this is confusing. So once again, we will loc and iloc.\n",
    "\n",
    "grocery_df.loc[:'milk', :'category']"
   ]
  },
  {
   "cell_type": "code",
   "execution_count": 32,
   "id": "81cb6798",
   "metadata": {},
   "outputs": [
    {
     "data": {
      "text/html": [
       "<div>\n",
       "<style scoped>\n",
       "    .dataframe tbody tr th:only-of-type {\n",
       "        vertical-align: middle;\n",
       "    }\n",
       "\n",
       "    .dataframe tbody tr th {\n",
       "        vertical-align: top;\n",
       "    }\n",
       "\n",
       "    .dataframe thead th {\n",
       "        text-align: right;\n",
       "    }\n",
       "</style>\n",
       "<table border=\"1\" class=\"dataframe\">\n",
       "  <thead>\n",
       "    <tr style=\"text-align: right;\">\n",
       "      <th></th>\n",
       "      <th>unit_price</th>\n",
       "      <th>category</th>\n",
       "    </tr>\n",
       "  </thead>\n",
       "  <tbody>\n",
       "    <tr>\n",
       "      <th>coke</th>\n",
       "      <td>2.99</td>\n",
       "      <td>Beverages</td>\n",
       "    </tr>\n",
       "    <tr>\n",
       "      <th>eggs</th>\n",
       "      <td>5.50</td>\n",
       "      <td>Poultry</td>\n",
       "    </tr>\n",
       "    <tr>\n",
       "      <th>milk</th>\n",
       "      <td>3.00</td>\n",
       "      <td>Milk Product</td>\n",
       "    </tr>\n",
       "  </tbody>\n",
       "</table>\n",
       "</div>"
      ],
      "text/plain": [
       "      unit_price      category\n",
       "coke        2.99     Beverages\n",
       "eggs        5.50       Poultry\n",
       "milk        3.00  Milk Product"
      ]
     },
     "execution_count": 32,
     "metadata": {},
     "output_type": "execute_result"
    }
   ],
   "source": [
    "# Get same data using iloc.\n",
    "\n",
    "grocery_df.iloc[:3, :2]"
   ]
  },
  {
   "cell_type": "code",
   "execution_count": 33,
   "id": "3c71861c",
   "metadata": {},
   "outputs": [
    {
     "data": {
      "text/html": [
       "<div>\n",
       "<style scoped>\n",
       "    .dataframe tbody tr th:only-of-type {\n",
       "        vertical-align: middle;\n",
       "    }\n",
       "\n",
       "    .dataframe tbody tr th {\n",
       "        vertical-align: top;\n",
       "    }\n",
       "\n",
       "    .dataframe thead th {\n",
       "        text-align: right;\n",
       "    }\n",
       "</style>\n",
       "<table border=\"1\" class=\"dataframe\">\n",
       "  <thead>\n",
       "    <tr style=\"text-align: right;\">\n",
       "      <th></th>\n",
       "      <th>unit_price</th>\n",
       "      <th>category</th>\n",
       "      <th>stock</th>\n",
       "      <th>Stock_Price</th>\n",
       "    </tr>\n",
       "  </thead>\n",
       "  <tbody>\n",
       "    <tr>\n",
       "      <th>eggs</th>\n",
       "      <td>5.5</td>\n",
       "      <td>Poultry</td>\n",
       "      <td>200</td>\n",
       "      <td>1100.0</td>\n",
       "    </tr>\n",
       "    <tr>\n",
       "      <th>rice</th>\n",
       "      <td>12.0</td>\n",
       "      <td>Staple</td>\n",
       "      <td>100</td>\n",
       "      <td>1200.0</td>\n",
       "    </tr>\n",
       "  </tbody>\n",
       "</table>\n",
       "</div>"
      ],
      "text/plain": [
       "      unit_price category  stock  Stock_Price\n",
       "eggs         5.5  Poultry    200       1100.0\n",
       "rice        12.0   Staple    100       1200.0"
      ]
     },
     "execution_count": 33,
     "metadata": {},
     "output_type": "execute_result"
    }
   ],
   "source": [
    "# We can run some querys too using masks.\n",
    "\n",
    "grocery_df.loc[grocery_df.stock >= 100]"
   ]
  },
  {
   "cell_type": "code",
   "execution_count": 34,
   "id": "a79875cd",
   "metadata": {},
   "outputs": [
    {
     "data": {
      "text/html": [
       "<div>\n",
       "<style scoped>\n",
       "    .dataframe tbody tr th:only-of-type {\n",
       "        vertical-align: middle;\n",
       "    }\n",
       "\n",
       "    .dataframe tbody tr th {\n",
       "        vertical-align: top;\n",
       "    }\n",
       "\n",
       "    .dataframe thead th {\n",
       "        text-align: right;\n",
       "    }\n",
       "</style>\n",
       "<table border=\"1\" class=\"dataframe\">\n",
       "  <thead>\n",
       "    <tr style=\"text-align: right;\">\n",
       "      <th></th>\n",
       "      <th>stock</th>\n",
       "    </tr>\n",
       "  </thead>\n",
       "  <tbody>\n",
       "    <tr>\n",
       "      <th>eggs</th>\n",
       "      <td>200</td>\n",
       "    </tr>\n",
       "    <tr>\n",
       "      <th>rice</th>\n",
       "      <td>100</td>\n",
       "    </tr>\n",
       "  </tbody>\n",
       "</table>\n",
       "</div>"
      ],
      "text/plain": [
       "      stock\n",
       "eggs    200\n",
       "rice    100"
      ]
     },
     "execution_count": 34,
     "metadata": {},
     "output_type": "execute_result"
    }
   ],
   "source": [
    "# We can limit the columns we want to see too.\n",
    "\n",
    "grocery_df.loc[grocery_df.stock >= 100, ['stock']]"
   ]
  },
  {
   "cell_type": "markdown",
   "id": "97cf4109",
   "metadata": {},
   "source": [
    "<h2 style=\"color:darkorange\">Handling NaN</h2>"
   ]
  },
  {
   "cell_type": "markdown",
   "id": "ebbd181c",
   "metadata": {},
   "source": [
    "## NaN is \"Not A Number\"\n",
    "This is the equivalent of None but much useful...we will see how."
   ]
  },
  {
   "cell_type": "code",
   "execution_count": 35,
   "id": "832cf1cb",
   "metadata": {},
   "outputs": [
    {
     "data": {
      "text/plain": [
       "0    NaN\n",
       "1    5.0\n",
       "2    9.0\n",
       "3    NaN\n",
       "dtype: float64"
      ]
     },
     "execution_count": 35,
     "metadata": {},
     "output_type": "execute_result"
    }
   ],
   "source": [
    "A = pd.Series([2, 4, 6], index=[0, 1, 2])\n",
    "B = pd.Series([1, 3, 5], index=[1, 2, 3])\n",
    "A + B\n",
    "\n",
    "# As you can see, since two indexes were missing in both series, NaN were placed in thge result."
   ]
  },
  {
   "cell_type": "markdown",
   "id": "645e8c1b",
   "metadata": {},
   "source": [
    "<p class=\"h3\">NaN</p>\n",
    "<blockquote>Any item for which one or the other does not have an entry is marked with NaN, or \"Not a Number,\" which is how Pandas marks missing data</blockquote>"
   ]
  },
  {
   "cell_type": "markdown",
   "id": "6ba5f151",
   "metadata": {},
   "source": [
    "<p class=\"lead\">## If we do not want to see NaN data in our result (or handle this somehow), we can use a different tool which give additional options</p> "
   ]
  },
  {
   "cell_type": "code",
   "execution_count": 36,
   "id": "60d115db",
   "metadata": {},
   "outputs": [
    {
     "data": {
      "text/plain": [
       "0    2.0\n",
       "1    5.0\n",
       "2    9.0\n",
       "3    5.0\n",
       "dtype: float64"
      ]
     },
     "execution_count": 36,
     "metadata": {},
     "output_type": "execute_result"
    }
   ],
   "source": [
    "# We know that A.add(B) == A + B\n",
    "# BUT, we get an optional param \"fill_value\"\n",
    "\n",
    "A.add(B, fill_value=0)"
   ]
  },
  {
   "cell_type": "markdown",
   "id": "3efa622c",
   "metadata": {},
   "source": [
    "<h2 style=\"color:darkorange\">DataFrames Addition and NaN behaviour & Handling</h2>"
   ]
  },
  {
   "cell_type": "code",
   "execution_count": 37,
   "id": "da2526f5",
   "metadata": {},
   "outputs": [
    {
     "data": {
      "text/html": [
       "<div>\n",
       "<style scoped>\n",
       "    .dataframe tbody tr th:only-of-type {\n",
       "        vertical-align: middle;\n",
       "    }\n",
       "\n",
       "    .dataframe tbody tr th {\n",
       "        vertical-align: top;\n",
       "    }\n",
       "\n",
       "    .dataframe thead th {\n",
       "        text-align: right;\n",
       "    }\n",
       "</style>\n",
       "<table border=\"1\" class=\"dataframe\">\n",
       "  <thead>\n",
       "    <tr style=\"text-align: right;\">\n",
       "      <th></th>\n",
       "      <th>B</th>\n",
       "      <th>A</th>\n",
       "    </tr>\n",
       "  </thead>\n",
       "  <tbody>\n",
       "    <tr>\n",
       "      <th>a1</th>\n",
       "      <td>1</td>\n",
       "      <td>2</td>\n",
       "    </tr>\n",
       "    <tr>\n",
       "      <th>a2</th>\n",
       "      <td>3</td>\n",
       "      <td>4</td>\n",
       "    </tr>\n",
       "    <tr>\n",
       "      <th>a3</th>\n",
       "      <td>5</td>\n",
       "      <td>6</td>\n",
       "    </tr>\n",
       "  </tbody>\n",
       "</table>\n",
       "</div>"
      ],
      "text/plain": [
       "    B  A\n",
       "a1  1  2\n",
       "a2  3  4\n",
       "a3  5  6"
      ]
     },
     "execution_count": 37,
     "metadata": {},
     "output_type": "execute_result"
    }
   ],
   "source": [
    "d1 = pd.DataFrame(np.arange(1, 7).reshape(3,2), columns=['B', 'A'], index=['a1', 'a2', 'a3'])\n",
    "d1"
   ]
  },
  {
   "cell_type": "code",
   "execution_count": 38,
   "id": "91dbbb47",
   "metadata": {
    "scrolled": true
   },
   "outputs": [
    {
     "data": {
      "text/html": [
       "<div>\n",
       "<style scoped>\n",
       "    .dataframe tbody tr th:only-of-type {\n",
       "        vertical-align: middle;\n",
       "    }\n",
       "\n",
       "    .dataframe tbody tr th {\n",
       "        vertical-align: top;\n",
       "    }\n",
       "\n",
       "    .dataframe thead th {\n",
       "        text-align: right;\n",
       "    }\n",
       "</style>\n",
       "<table border=\"1\" class=\"dataframe\">\n",
       "  <thead>\n",
       "    <tr style=\"text-align: right;\">\n",
       "      <th></th>\n",
       "      <th>A</th>\n",
       "      <th>B</th>\n",
       "      <th>C</th>\n",
       "    </tr>\n",
       "  </thead>\n",
       "  <tbody>\n",
       "    <tr>\n",
       "      <th>a1</th>\n",
       "      <td>10</td>\n",
       "      <td>10</td>\n",
       "      <td>10</td>\n",
       "    </tr>\n",
       "    <tr>\n",
       "      <th>a2</th>\n",
       "      <td>10</td>\n",
       "      <td>10</td>\n",
       "      <td>10</td>\n",
       "    </tr>\n",
       "    <tr>\n",
       "      <th>a3</th>\n",
       "      <td>10</td>\n",
       "      <td>10</td>\n",
       "      <td>10</td>\n",
       "    </tr>\n",
       "  </tbody>\n",
       "</table>\n",
       "</div>"
      ],
      "text/plain": [
       "     A   B   C\n",
       "a1  10  10  10\n",
       "a2  10  10  10\n",
       "a3  10  10  10"
      ]
     },
     "execution_count": 38,
     "metadata": {},
     "output_type": "execute_result"
    }
   ],
   "source": [
    "d2 = pd.DataFrame(np.full((3,3), 10), columns=['A', 'B', 'C'], index=['a1', 'a2', 'a3'])\n",
    "d2"
   ]
  },
  {
   "cell_type": "code",
   "execution_count": 39,
   "id": "71aed116",
   "metadata": {},
   "outputs": [
    {
     "data": {
      "text/html": [
       "<div>\n",
       "<style scoped>\n",
       "    .dataframe tbody tr th:only-of-type {\n",
       "        vertical-align: middle;\n",
       "    }\n",
       "\n",
       "    .dataframe tbody tr th {\n",
       "        vertical-align: top;\n",
       "    }\n",
       "\n",
       "    .dataframe thead th {\n",
       "        text-align: right;\n",
       "    }\n",
       "</style>\n",
       "<table border=\"1\" class=\"dataframe\">\n",
       "  <thead>\n",
       "    <tr style=\"text-align: right;\">\n",
       "      <th></th>\n",
       "      <th>A</th>\n",
       "      <th>B</th>\n",
       "      <th>C</th>\n",
       "    </tr>\n",
       "  </thead>\n",
       "  <tbody>\n",
       "    <tr>\n",
       "      <th>a1</th>\n",
       "      <td>12</td>\n",
       "      <td>11</td>\n",
       "      <td>NaN</td>\n",
       "    </tr>\n",
       "    <tr>\n",
       "      <th>a2</th>\n",
       "      <td>14</td>\n",
       "      <td>13</td>\n",
       "      <td>NaN</td>\n",
       "    </tr>\n",
       "    <tr>\n",
       "      <th>a3</th>\n",
       "      <td>16</td>\n",
       "      <td>15</td>\n",
       "      <td>NaN</td>\n",
       "    </tr>\n",
       "  </tbody>\n",
       "</table>\n",
       "</div>"
      ],
      "text/plain": [
       "     A   B   C\n",
       "a1  12  11 NaN\n",
       "a2  14  13 NaN\n",
       "a3  16  15 NaN"
      ]
     },
     "execution_count": 39,
     "metadata": {},
     "output_type": "execute_result"
    }
   ],
   "source": [
    "# Now lets try to add them\n",
    "d1 + d2"
   ]
  },
  {
   "cell_type": "code",
   "execution_count": 40,
   "id": "08ff29d1",
   "metadata": {},
   "outputs": [
    {
     "data": {
      "text/plain": [
       "a1  A    10\n",
       "    B    10\n",
       "    C    10\n",
       "a2  A    10\n",
       "    B    10\n",
       "    C    10\n",
       "a3  A    10\n",
       "    B    10\n",
       "    C    10\n",
       "dtype: int64"
      ]
     },
     "execution_count": 40,
     "metadata": {},
     "output_type": "execute_result"
    }
   ],
   "source": [
    "d2.stack()"
   ]
  },
  {
   "cell_type": "code",
   "execution_count": 41,
   "id": "7995f26f",
   "metadata": {},
   "outputs": [
    {
     "data": {
      "text/html": [
       "<div>\n",
       "<style scoped>\n",
       "    .dataframe tbody tr th:only-of-type {\n",
       "        vertical-align: middle;\n",
       "    }\n",
       "\n",
       "    .dataframe tbody tr th {\n",
       "        vertical-align: top;\n",
       "    }\n",
       "\n",
       "    .dataframe thead th {\n",
       "        text-align: right;\n",
       "    }\n",
       "</style>\n",
       "<table border=\"1\" class=\"dataframe\">\n",
       "  <thead>\n",
       "    <tr style=\"text-align: right;\">\n",
       "      <th></th>\n",
       "      <th>A</th>\n",
       "      <th>B</th>\n",
       "      <th>C</th>\n",
       "    </tr>\n",
       "  </thead>\n",
       "  <tbody>\n",
       "    <tr>\n",
       "      <th>a1</th>\n",
       "      <td>12</td>\n",
       "      <td>11</td>\n",
       "      <td>13.5</td>\n",
       "    </tr>\n",
       "    <tr>\n",
       "      <th>a2</th>\n",
       "      <td>14</td>\n",
       "      <td>13</td>\n",
       "      <td>13.5</td>\n",
       "    </tr>\n",
       "    <tr>\n",
       "      <th>a3</th>\n",
       "      <td>16</td>\n",
       "      <td>15</td>\n",
       "      <td>13.5</td>\n",
       "    </tr>\n",
       "  </tbody>\n",
       "</table>\n",
       "</div>"
      ],
      "text/plain": [
       "     A   B     C\n",
       "a1  12  11  13.5\n",
       "a2  14  13  13.5\n",
       "a3  16  15  13.5"
      ]
     },
     "execution_count": 41,
     "metadata": {},
     "output_type": "execute_result"
    }
   ],
   "source": [
    "# Lets fill those NaNs\n",
    "fill = d1.stack().mean()\n",
    "d2.add(d1, fill_value=fill)\n",
    "\n",
    "# Note: If indexes of both dfs were different, this solution with produce NaNs.So just fill with a constant in \n",
    "# that case."
   ]
  },
  {
   "cell_type": "markdown",
   "id": "cd7d7a99",
   "metadata": {},
   "source": [
    "# Handling missing data"
   ]
  },
  {
   "cell_type": "code",
   "execution_count": 42,
   "id": "930cca6e",
   "metadata": {},
   "outputs": [
    {
     "data": {
      "text/plain": [
       "0       a\n",
       "1       b\n",
       "2    None\n",
       "3       d\n",
       "dtype: object"
      ]
     },
     "execution_count": 42,
     "metadata": {},
     "output_type": "execute_result"
    }
   ],
   "source": [
    "s_str = pd.Series(np.array(['a', 'b', None, 'd']))\n",
    "s_str"
   ]
  },
  {
   "cell_type": "code",
   "execution_count": 43,
   "id": "cbb6cf05",
   "metadata": {},
   "outputs": [
    {
     "data": {
      "text/plain": [
       "0    NaN\n",
       "1    2.0\n",
       "2    3.0\n",
       "dtype: float64"
      ]
     },
     "execution_count": 43,
     "metadata": {},
     "output_type": "execute_result"
    }
   ],
   "source": [
    "s_int = pd.Series(np.array([1,2,3], dtype=int))\n",
    "s_int[0] = None\n",
    "s_int\n",
    "\n",
    "# As you can see, the series got upcasted to float.\n",
    "# Also, the None, got converted to a NaN."
   ]
  },
  {
   "cell_type": "markdown",
   "id": "f7631b02",
   "metadata": {},
   "source": [
    "<p class=\"h3\">Casting Chart</p>\n",
    "<table class=\"table\">\n",
    "    <tr>\n",
    "    <th>Typeclass</th>\n",
    "    <th> Conversion When Storing NAs</th>\n",
    "    <th>NA Sentinel Value</th>\n",
    "    </tr>\n",
    "    <tr>\n",
    "        <td>floating</td>\n",
    "        <td>No change</td>\n",
    "        <td>np.nan</td>\n",
    "    </tr>\n",
    "    <tr>\n",
    "        <td>object</td>\n",
    "        <td>No change</td>\n",
    "        <td>None or np.nan</td>\n",
    "    </tr>\n",
    "    <tr>\n",
    "        <td>integer</td>\n",
    "        <td>Cast to float64</td>\n",
    "        <td>np.nan</td>\n",
    "    </tr>\n",
    "    <tr>\n",
    "        <td>boolean</td>\n",
    "        <td>Cast to object</td>\n",
    "        <td>None or np.nan</td>\n",
    "    </tr>\n"
   ]
  },
  {
   "cell_type": "code",
   "execution_count": 44,
   "id": "27dab2d2",
   "metadata": {},
   "outputs": [
    {
     "name": "stdout",
     "output_type": "stream",
     "text": [
      "0     True\n",
      "1    False\n",
      "2    False\n",
      "dtype: bool\n",
      "\n",
      "0    False\n",
      "1     True\n",
      "2     True\n",
      "dtype: bool\n",
      "\n",
      "1    2.0\n",
      "2    3.0\n",
      "dtype: float64\n"
     ]
    }
   ],
   "source": [
    "# Finding NaN values or ignoring them\n",
    "\n",
    "# I can find if there is atleast one NaN value or Not.\n",
    "print(s_int.isnull(), end=\"\\n\\n\")\n",
    "\n",
    "# We have a notnull too.\n",
    "print(s_int.notnull(), end=\"\\n\\n\")\n",
    "\n",
    "# We can use this to eliminate or see NaN values. Use above methods as Mask\n",
    "print(s_int[s_int.notnull()])"
   ]
  },
  {
   "cell_type": "code",
   "execution_count": 54,
   "id": "902a8ae0",
   "metadata": {},
   "outputs": [
    {
     "data": {
      "text/html": [
       "<div>\n",
       "<style scoped>\n",
       "    .dataframe tbody tr th:only-of-type {\n",
       "        vertical-align: middle;\n",
       "    }\n",
       "\n",
       "    .dataframe tbody tr th {\n",
       "        vertical-align: top;\n",
       "    }\n",
       "\n",
       "    .dataframe thead th {\n",
       "        text-align: right;\n",
       "    }\n",
       "</style>\n",
       "<table border=\"1\" class=\"dataframe\">\n",
       "  <thead>\n",
       "    <tr style=\"text-align: right;\">\n",
       "      <th></th>\n",
       "      <th>0</th>\n",
       "      <th>1</th>\n",
       "      <th>2</th>\n",
       "    </tr>\n",
       "  </thead>\n",
       "  <tbody>\n",
       "    <tr>\n",
       "      <th>0</th>\n",
       "      <td>1.0</td>\n",
       "      <td>NaN</td>\n",
       "      <td>2</td>\n",
       "    </tr>\n",
       "    <tr>\n",
       "      <th>1</th>\n",
       "      <td>2.0</td>\n",
       "      <td>3.0</td>\n",
       "      <td>5</td>\n",
       "    </tr>\n",
       "    <tr>\n",
       "      <th>2</th>\n",
       "      <td>NaN</td>\n",
       "      <td>4.0</td>\n",
       "      <td>6</td>\n",
       "    </tr>\n",
       "  </tbody>\n",
       "</table>\n",
       "</div>"
      ],
      "text/plain": [
       "     0    1  2\n",
       "0  1.0  NaN  2\n",
       "1  2.0  3.0  5\n",
       "2  NaN  4.0  6"
      ]
     },
     "execution_count": 54,
     "metadata": {},
     "output_type": "execute_result"
    }
   ],
   "source": [
    "# Dropping all NaN/None values.\n",
    "s_int.dropna()\n",
    "\n",
    "# dropna takes a few arguments too.\n",
    "# we can specify an axes for a DataFrame\n",
    "\n",
    "# Take the case of a DataFrame\n",
    "df4 = pd.DataFrame([\n",
    "                    [1, np.nan, 2, np.nan],\n",
    "                    [2, 3, 5, np.nan],\n",
    "                    [np.nan, 4, 6, np.nan]\n",
    "                   ])\n",
    "df4\n",
    "\n",
    "# If we dropna for this, we will loose some good data too.\n",
    "df4.dropna()\n",
    "\n",
    "# A better idea is too be specific about dropping columns or rows.\n",
    "# Here we drop entire Columns if they have a single NaN.\n",
    "df4.dropna(axis=1) # 0 for row with NaN, 1 for column with NaN.We can also write-> axis=\"columns\"\n",
    "\n",
    "# Another idea is to specify condition: Drop if ALL the values of row or column are NaN\n",
    "df4.dropna(axis='columns', how='all')"
   ]
  },
  {
   "cell_type": "code",
   "execution_count": 46,
   "id": "66df552e",
   "metadata": {},
   "outputs": [
    {
     "data": {
      "text/plain": [
       "0    0.0\n",
       "1    2.0\n",
       "2    3.0\n",
       "dtype: float64"
      ]
     },
     "execution_count": 46,
     "metadata": {},
     "output_type": "execute_result"
    }
   ],
   "source": [
    "# Fill all NaN values with some value.\n",
    "s_int.fillna(0)"
   ]
  }
 ],
 "metadata": {
  "kernelspec": {
   "display_name": "venv",
   "language": "python",
   "name": "venv"
  },
  "language_info": {
   "codemirror_mode": {
    "name": "ipython",
    "version": 3
   },
   "file_extension": ".py",
   "mimetype": "text/x-python",
   "name": "python",
   "nbconvert_exporter": "python",
   "pygments_lexer": "ipython3",
   "version": "3.9.4"
  }
 },
 "nbformat": 4,
 "nbformat_minor": 5
}
