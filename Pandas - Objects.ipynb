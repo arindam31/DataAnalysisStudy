{
 "cells": [
  {
   "cell_type": "code",
   "execution_count": null,
   "id": "89f1f05f",
   "metadata": {},
   "outputs": [],
   "source": [
    "import numpy as np\n",
    "import pandas as pd\n",
    "pd.__version__"
   ]
  },
  {
   "cell_type": "markdown",
   "id": "c55f4117",
   "metadata": {},
   "source": [
    "<p class=\"lead display-3 alert alert-info\">1. Pandas <strong>Objects</strong> can be thought of, numpy arrays with custom structured dtypes.</p>"
   ]
  },
  {
   "cell_type": "markdown",
   "id": "76ec3355",
   "metadata": {},
   "source": [
    "<h1>Three kinds of Pandas datastructures:</h1>\n",
    "\n",
    "<h3 class=\"display-4\">Series Objects</h3>\n",
    "<blockquote>A Pandas Series is a one-dimensional array of indexed data. It can be created from a list or array</blockquote>\n",
    "\n",
    "<h3 class=\"display-4\">DataFrame Objects</h3>\n",
    "<blockquote>DataFrame is an analog of a two-dimensional array with both flexible row indices and flexible column names</blockquote>\n",
    "\n",
    "<h3 class=\"display-4\">Index Objects</h3>\n",
    "<blockquote>A Pandas Series is a one-dimensional array of indexed data. It can be created from a list or array as follows:</blockquote>"
   ]
  },
  {
   "cell_type": "code",
   "execution_count": null,
   "id": "afcf3506",
   "metadata": {},
   "outputs": [],
   "source": [
    "# We can create a series object with pd.Series\n",
    "# We can pass a few params to it.\n",
    "my_series = pd.Series(data=np.linspace(1, 2, 5), name=\"Values b/w 1 to 2\")"
   ]
  },
  {
   "cell_type": "code",
   "execution_count": null,
   "id": "8c0db734",
   "metadata": {
    "scrolled": true
   },
   "outputs": [],
   "source": [
    "# Lets explore the above series.\n",
    "\n",
    "print(\"The series as it looks:\", end=\"\\n\\n\")\n",
    "print(my_series, end=\"\\n\\n\")\n",
    "\n",
    "print(\"Values property of the object: All values will be shown as a list\")\n",
    "print(my_series.values, end=\"\\n\\n\")\n",
    "\n",
    "print(\"Index of this series:\")\n",
    "print(my_series.index, end=\"\\n\\n\")\n",
    "\n",
    "print(\"Let's get the first few values using slicing\")\n",
    "print(my_series[1:3])"
   ]
  },
  {
   "cell_type": "markdown",
   "id": "8a354ec8",
   "metadata": {},
   "source": [
    "<h3>Above we can note a few things</h3>\n",
    "<ul class=\"list-group\">\n",
    "    <li class=\"list-group-item\">If you provide a name too, it shows up. Else it's None.</li>\n",
    "    <li class=\"list-group-item\">Index by default, starts from 0.</li>\n",
    "    <li class=\"list-group-item\">We can get values only with the values property.</li>\n",
    "    <li class=\"list-group-item\">Sliced series will also show indexes</li>\n",
    "</ul>"
   ]
  },
  {
   "cell_type": "markdown",
   "id": "b5528803",
   "metadata": {},
   "source": [
    "<p class=\"lead display-3 alert alert-info\">2. We can have our own index range</p>\n",
    "\n",
    "<ul class=\"list-group\">\n",
    "    <li class=\"list-group-item\">It can start with anything like a letter, or a number</li>\n",
    "    <li class=\"list-group-item\">Unlike python indexing, you can then use these custom indexes</li>\n",
    "</ul>"
   ]
  },
  {
   "cell_type": "code",
   "execution_count": null,
   "id": "06885bd8",
   "metadata": {},
   "outputs": [],
   "source": [
    "series_with_str_index = pd.Series(np.random.random(5), index=['a', 'b', 'c', 'd', 'e'])\n",
    "print(series_with_str_index.index)\n",
    "print(series_with_str_index['b':'d'])"
   ]
  },
  {
   "cell_type": "markdown",
   "id": "fce6a1e2",
   "metadata": {},
   "source": [
    "<p class=\"lead display-3 alert alert-info\">3. Series as specialized dictionary.</p>"
   ]
  },
  {
   "cell_type": "code",
   "execution_count": null,
   "id": "01078689",
   "metadata": {},
   "outputs": [],
   "source": [
    "# Let's create a panda series object out of a python dictionary.\n",
    "\n",
    "person_dict = {'name':'Jaddu', 'age':40, 'weigth': 68.5}\n",
    "\n",
    "print(\"The Series:\", end='\\n\\n')\n",
    "dict_series = pd.Series(person_dict)\n",
    "print(dict_series, end='\\n\\n')\n",
    "\n",
    "print(\"Index of this series\")\n",
    "print(dict_series.index, end='\\n\\n')\n",
    "\n",
    "print(\"Slicing:\")\n",
    "print(dict_series['name':'age'], end='\\n\\n')\n",
    "\n",
    "print(\"Note: The index keys are behind-the-scene sorted and used while slicing.\")"
   ]
  },
  {
   "cell_type": "markdown",
   "id": "8396f2d6",
   "metadata": {},
   "source": [
    "<h3>We can create Series from one value too</h3>\n",
    "<p>If we provide an index list too, value will be the same for every index</p>"
   ]
  },
  {
   "cell_type": "code",
   "execution_count": null,
   "id": "4c18189b",
   "metadata": {},
   "outputs": [],
   "source": [
    "pd.Series('a')"
   ]
  },
  {
   "cell_type": "code",
   "execution_count": null,
   "id": "6eedc3f1",
   "metadata": {},
   "outputs": [],
   "source": [
    "pd.Series('a', index=[0,1,2])"
   ]
  },
  {
   "cell_type": "markdown",
   "id": "b88196a9",
   "metadata": {},
   "source": [
    "<h3>We can can values of only selected indexes (with a dictionary as data)</h3>\n"
   ]
  },
  {
   "cell_type": "code",
   "execution_count": null,
   "id": "25d94078",
   "metadata": {},
   "outputs": [],
   "source": [
    "pd.Series(person_dict, index=['name', 'age'])"
   ]
  },
  {
   "cell_type": "markdown",
   "id": "88c0a1db",
   "metadata": {},
   "source": [
    "<h1 class=\"alert alert-info\">Dataframes</h1>\n",
    "\n",
    "<p> You can say that it is a collection of series with a generalised index for easy access to the data.</p>"
   ]
  },
  {
   "cell_type": "code",
   "execution_count": null,
   "id": "6da34397",
   "metadata": {
    "scrolled": true
   },
   "outputs": [],
   "source": [
    "# How to create a DataFrame\n",
    "\n",
    "price_grocery = {'rice': 12, 'eggs':5.5, 'milk': 3, 'coke': 2.99}\n",
    "category_grocery = {'rice': 'Staple', 'eggs': 'Poultry', 'coke': 'Beverages', 'milk':'Milk Product'}\n",
    "stock_grocery = {'rice': 100, 'eggs': 200, 'coke': 50, 'milk':10}\n",
    "\n",
    "price_series = pd.Series(price_grocery)\n",
    "category_series = pd.Series(category_grocery)\n",
    "stock_series = pd.Series(stock_grocery)\n",
    "\n",
    "# Create from a dictionary of series objects.\n",
    "grocery_df = pd.DataFrame({'unit_price':price_series, 'category':category_series, 'stock':stock_series})\n",
    "grocery_df"
   ]
  },
  {
   "cell_type": "markdown",
   "id": "6acc4018",
   "metadata": {},
   "source": [
    "<blockquote>Thus DataFrame can be thought of as a generalization of a two-dimensional NumPy array, where both the rows and columns have a generalized index for accessing the data.</blockquote>"
   ]
  },
  {
   "cell_type": "code",
   "execution_count": null,
   "id": "12bfd03d",
   "metadata": {},
   "outputs": [],
   "source": [
    "# Exploring a DataFrame\n",
    "\n",
    "## Index of a DataFrame\n",
    "print(grocery_df.index)\n",
    "\n",
    "## Columns of DataFrame\n",
    "print(grocery_df.columns)"
   ]
  },
  {
   "cell_type": "markdown",
   "id": "3d70d200",
   "metadata": {},
   "source": [
    "<blockquote>TIP:</mark> We can also think of a DataFrame as a specialization of a dictionary. Where a dictionary maps a key to a value, a DataFrame maps a column name to a Series of column data</blockquote>"
   ]
  },
  {
   "cell_type": "markdown",
   "id": "d2451558",
   "metadata": {},
   "source": [
    "<h3>Accesing Data</h3>"
   ]
  },
  {
   "cell_type": "code",
   "execution_count": null,
   "id": "acdab207",
   "metadata": {},
   "outputs": [],
   "source": [
    "grocery_df['stock']"
   ]
  },
  {
   "cell_type": "markdown",
   "id": "7ff4f567",
   "metadata": {},
   "source": [
    "<h2>Constructing Dataframes objects</h2>"
   ]
  },
  {
   "cell_type": "code",
   "execution_count": null,
   "id": "ffb84d9a",
   "metadata": {},
   "outputs": [],
   "source": [
    "# We can create from a single series.\n",
    "\n",
    "pd.DataFrame(price_series, columns=['price'])"
   ]
  },
  {
   "cell_type": "code",
   "execution_count": null,
   "id": "4506521a",
   "metadata": {},
   "outputs": [],
   "source": [
    "# We can create fron a list of dicts\n",
    "pd.DataFrame([price_grocery, category_grocery, stock_grocery])"
   ]
  },
  {
   "cell_type": "code",
   "execution_count": null,
   "id": "baf55844",
   "metadata": {},
   "outputs": [],
   "source": [
    "# From a two-dimensional NumPy array\n",
    "\n",
    "pd.DataFrame(np.random.random((3, 2)), columns=['Home', 'Away'], index=['Dev1', 'Dev2', 'Dev3'])"
   ]
  },
  {
   "cell_type": "code",
   "execution_count": null,
   "id": "743f8dcc",
   "metadata": {},
   "outputs": [],
   "source": [
    "# From a Numpy Structured array (remember custom dtype)\n",
    "\n",
    "pd.DataFrame(np.ones(3, dtype=[('height','f8'), ('count', 'int8')]))"
   ]
  },
  {
   "cell_type": "markdown",
   "id": "443d1747",
   "metadata": {},
   "source": [
    "<h3>Finally, you can create an index explicity</h3>\n"
   ]
  },
  {
   "cell_type": "code",
   "execution_count": null,
   "id": "dc5152be",
   "metadata": {},
   "outputs": [],
   "source": [
    "my_index = pd.Index([2,5,7,9, 11])\n",
    "\n",
    "# You cannot change them..immutability\n",
    "try:\n",
    "    my_index[2] = 123\n",
    "except TypeError:\n",
    "    print(\"Yup...cant do it\")\n",
    "    \n",
    "# They have same properties as numpy array\n",
    "my_index.ndim, my_index.shape, my_index.dtype, my_index.size\n"
   ]
  }
 ],
 "metadata": {
  "kernelspec": {
   "display_name": "venv",
   "language": "python",
   "name": "venv"
  },
  "language_info": {
   "codemirror_mode": {
    "name": "ipython",
    "version": 3
   },
   "file_extension": ".py",
   "mimetype": "text/x-python",
   "name": "python",
   "nbconvert_exporter": "python",
   "pygments_lexer": "ipython3",
   "version": "3.9.4"
  }
 },
 "nbformat": 4,
 "nbformat_minor": 5
}
