{
 "cells": [
  {
   "cell_type": "code",
   "execution_count": 1,
   "id": "89f1f05f",
   "metadata": {},
   "outputs": [
    {
     "data": {
      "text/plain": [
       "'1.2.4'"
      ]
     },
     "execution_count": 1,
     "metadata": {},
     "output_type": "execute_result"
    }
   ],
   "source": [
    "import numpy as np\n",
    "import pandas as pd\n",
    "pd.__version__"
   ]
  },
  {
   "cell_type": "markdown",
   "id": "c55f4117",
   "metadata": {},
   "source": [
    "<p class=\"lead display-3 alert alert-info\">1. Pandas <strong>Objects</strong> can be thought of, numpy arrays with custom structured dtypes.</p>"
   ]
  },
  {
   "cell_type": "markdown",
   "id": "76ec3355",
   "metadata": {},
   "source": [
    "<h1>Three kinds of Pandas datastructures:</h1>\n",
    "\n",
    "<h3 class=\"display-4\">Series Objects</h3>\n",
    "<blockquote>A Pandas Series is a one-dimensional array of indexed data. It can be created from a list or array</blockquote>\n",
    "\n",
    "<h3 class=\"display-4\">DataFrame Objects</h3>\n",
    "<blockquote>DataFrame is an analog of a two-dimensional array with both flexible row indices and flexible column names</blockquote>\n",
    "\n",
    "<h3 class=\"display-4\">Index Objects</h3>\n",
    "<blockquote>A Pandas Series is a one-dimensional array of indexed data. It can be created from a list or array as follows:</blockquote>"
   ]
  },
  {
   "cell_type": "markdown",
   "id": "be3f9f0f",
   "metadata": {},
   "source": [
    "<h2>Series Objects</h2>"
   ]
  },
  {
   "cell_type": "code",
   "execution_count": 2,
   "id": "afcf3506",
   "metadata": {},
   "outputs": [],
   "source": [
    "# We can create a series object with pd.Series\n",
    "# We can pass a few params to it.\n",
    "my_series = pd.Series(data=np.linspace(1, 2, 5), name=\"Values b/w 1 to 2\")"
   ]
  },
  {
   "cell_type": "code",
   "execution_count": 3,
   "id": "8c0db734",
   "metadata": {
    "scrolled": true
   },
   "outputs": [
    {
     "name": "stdout",
     "output_type": "stream",
     "text": [
      "The series as it looks:\n",
      "\n",
      "0    1.00\n",
      "1    1.25\n",
      "2    1.50\n",
      "3    1.75\n",
      "4    2.00\n",
      "Name: Values b/w 1 to 2, dtype: float64\n",
      "\n",
      "Values property of the object: All values will be shown as a list\n",
      "[1.   1.25 1.5  1.75 2.  ]\n",
      "\n",
      "Index of this series:\n",
      "RangeIndex(start=0, stop=5, step=1)\n",
      "\n",
      "Let's get the first few values using slicing\n",
      "1    1.25\n",
      "2    1.50\n",
      "Name: Values b/w 1 to 2, dtype: float64\n"
     ]
    }
   ],
   "source": [
    "# Lets explore the above series.\n",
    "\n",
    "print(\"The series as it looks:\", end=\"\\n\\n\")\n",
    "print(my_series, end=\"\\n\\n\")\n",
    "\n",
    "print(\"Values property of the object: All values will be shown as a list\")\n",
    "print(my_series.values, end=\"\\n\\n\")\n",
    "\n",
    "print(\"Index of this series:\")\n",
    "print(my_series.index, end=\"\\n\\n\")\n",
    "\n",
    "print(\"Let's get the first few values using slicing\")\n",
    "print(my_series[1:3])"
   ]
  },
  {
   "cell_type": "markdown",
   "id": "8a354ec8",
   "metadata": {},
   "source": [
    "<h3>Above we can note a few things</h3>\n",
    "<ul class=\"list-group\">\n",
    "    <li class=\"list-group-item\">If you provide a name too, it shows up. Else it's None.</li>\n",
    "    <li class=\"list-group-item\">Index by default, starts from 0.</li>\n",
    "    <li class=\"list-group-item\">We can get values only with the values property.</li>\n",
    "    <li class=\"list-group-item\">Sliced series will also show indexes</li>\n",
    "</ul>"
   ]
  },
  {
   "cell_type": "markdown",
   "id": "b5528803",
   "metadata": {},
   "source": [
    "<p class=\"lead display-3 alert alert-info\">2. We can have our own index range</p>\n",
    "\n",
    "<ul class=\"list-group\">\n",
    "    <li class=\"list-group-item\">It can start with anything like a letter, or a number</li>\n",
    "    <li class=\"list-group-item\">Unlike python indexing, you can then use these custom indexes</li>\n",
    "</ul>"
   ]
  },
  {
   "cell_type": "code",
   "execution_count": 4,
   "id": "06885bd8",
   "metadata": {},
   "outputs": [
    {
     "name": "stdout",
     "output_type": "stream",
     "text": [
      "Index(['a', 'b', 'c', 'd', 'e'], dtype='object')\n",
      "b    0.098687\n",
      "c    0.086036\n",
      "d    0.295852\n",
      "dtype: float64\n",
      "\n",
      "using explicit index\n",
      "b    0.098687\n",
      "e    0.802540\n",
      "dtype: float64\n",
      "\n",
      "Get only specific index items with explicit index\n",
      "a    0.773091\n",
      "e    0.802540\n",
      "dtype: float64\n",
      "\n",
      "using implicit python index\n",
      "b    0.098687\n",
      "c    0.086036\n",
      "dtype: float64\n",
      "\n"
     ]
    }
   ],
   "source": [
    "series_with_str_index = pd.Series(np.random.random(5), index=['a', 'b', 'c', 'd', 'e'])\n",
    "print(series_with_str_index.index)\n",
    "\n",
    "# Slicing\n",
    "print(series_with_str_index['b':'d'], end=\"\\n\\n\")\n",
    "\n",
    "# Get selected indexes using explicit index.\n",
    "print('using explicit index')\n",
    "print(series_with_str_index[['b', 'e']], end=\"\\n\\n\")\n",
    "\n",
    "print('Get only specific index items with explicit index')\n",
    "print(series_with_str_index[['a', 'e']], end=\"\\n\\n\")\n",
    "\n",
    "# Slice array using python implicit index\n",
    "print('using implicit python index')\n",
    "print(series_with_str_index[1:3], end=\"\\n\\n\")"
   ]
  },
  {
   "cell_type": "markdown",
   "id": "fce6a1e2",
   "metadata": {},
   "source": [
    "<p class=\"lead display-3 alert alert-info\">3. Series as specialized dictionary.</p>"
   ]
  },
  {
   "cell_type": "code",
   "execution_count": 5,
   "id": "01078689",
   "metadata": {},
   "outputs": [
    {
     "name": "stdout",
     "output_type": "stream",
     "text": [
      "The Series:\n",
      "\n",
      "name      Jaddu\n",
      "age          40\n",
      "weigth     68.5\n",
      "dtype: object\n",
      "\n",
      "Index of this series\n",
      "Index(['name', 'age', 'weigth'], dtype='object')\n",
      "\n",
      "Slicing:\n",
      "name    Jaddu\n",
      "age        40\n",
      "dtype: object\n",
      "\n",
      "Note: The index keys are behind-the-scene sorted and used while slicing.\n"
     ]
    }
   ],
   "source": [
    "# Let's create a panda series object out of a python dictionary.\n",
    "\n",
    "person_dict = {'name':'Jaddu', 'age':40, 'weigth': 68.5}\n",
    "\n",
    "print(\"The Series:\", end='\\n\\n')\n",
    "dict_series = pd.Series(person_dict)\n",
    "print(dict_series, end='\\n\\n')\n",
    "\n",
    "print(\"Index of this series\")\n",
    "print(dict_series.index, end='\\n\\n')\n",
    "\n",
    "print(\"Slicing:\")\n",
    "print(dict_series['name':'age'], end='\\n\\n')\n",
    "\n",
    "print(\"Note: The index keys are behind-the-scene sorted and used while slicing.\")"
   ]
  },
  {
   "cell_type": "markdown",
   "id": "8396f2d6",
   "metadata": {},
   "source": [
    "<h3>We can create Series from one value too</h3>\n",
    "<p>If we provide an index list too, value will be the same for every index</p>"
   ]
  },
  {
   "cell_type": "code",
   "execution_count": 6,
   "id": "4c18189b",
   "metadata": {},
   "outputs": [
    {
     "data": {
      "text/plain": [
       "0    a\n",
       "dtype: object"
      ]
     },
     "execution_count": 6,
     "metadata": {},
     "output_type": "execute_result"
    }
   ],
   "source": [
    "pd.Series('a')"
   ]
  },
  {
   "cell_type": "code",
   "execution_count": 7,
   "id": "6eedc3f1",
   "metadata": {},
   "outputs": [
    {
     "data": {
      "text/plain": [
       "0    a\n",
       "1    a\n",
       "2    a\n",
       "dtype: object"
      ]
     },
     "execution_count": 7,
     "metadata": {},
     "output_type": "execute_result"
    }
   ],
   "source": [
    "pd.Series('a', index=[0,1,2])"
   ]
  },
  {
   "cell_type": "markdown",
   "id": "b88196a9",
   "metadata": {},
   "source": [
    "<h3>We can get values of only selected indexes (with a dictionary as data)</h3>\n"
   ]
  },
  {
   "cell_type": "code",
   "execution_count": 8,
   "id": "25d94078",
   "metadata": {},
   "outputs": [
    {
     "data": {
      "text/plain": [
       "name    Jaddu\n",
       "age        40\n",
       "dtype: object"
      ]
     },
     "execution_count": 8,
     "metadata": {},
     "output_type": "execute_result"
    }
   ],
   "source": [
    "pd.Series(person_dict, index=['name', 'age'])"
   ]
  },
  {
   "cell_type": "code",
   "execution_count": 9,
   "id": "5f8633c9",
   "metadata": {},
   "outputs": [
    {
     "data": {
      "text/plain": [
       "3    1.75\n",
       "4    2.00\n",
       "Name: Values b/w 1 to 2, dtype: float64"
      ]
     },
     "execution_count": 9,
     "metadata": {},
     "output_type": "execute_result"
    }
   ],
   "source": [
    "my_series[(my_series>1.5)]"
   ]
  },
  {
   "cell_type": "markdown",
   "id": "65e38626",
   "metadata": {},
   "source": [
    "<h3>Indexers: loc, iloc, and ix</h3>\n",
    "\n",
    "- **loc** attribute allows indexing and slicing that always references the explicit index\n",
    "- **iloc** attribute allows indexing and slicing that always references the implicit Python-style index:"
   ]
  },
  {
   "cell_type": "code",
   "execution_count": 10,
   "id": "9bd5d8f2",
   "metadata": {},
   "outputs": [
    {
     "data": {
      "text/plain": [
       "a    0.773091\n",
       "b    0.098687\n",
       "c    0.086036\n",
       "d    0.295852\n",
       "e    0.802540\n",
       "dtype: float64"
      ]
     },
     "execution_count": 10,
     "metadata": {},
     "output_type": "execute_result"
    }
   ],
   "source": [
    "series_with_str_index.loc[:]"
   ]
  },
  {
   "cell_type": "code",
   "execution_count": 11,
   "id": "94226632",
   "metadata": {},
   "outputs": [],
   "source": [
    "# Proof that while using loc, yo can ONLY use explicit indexes (as defined while creating the series)\n",
    "try:\n",
    "    series_with_str_index.loc[0:2]\n",
    "except TypeError as em:\n",
    "    assert str(em) == 'cannot do slice indexing on Index with these indexers [0] of type int'"
   ]
  },
  {
   "cell_type": "code",
   "execution_count": 12,
   "id": "cccd1a28",
   "metadata": {},
   "outputs": [
    {
     "data": {
      "text/plain": [
       "b    0.098687\n",
       "c    0.086036\n",
       "d    0.295852\n",
       "e    0.802540\n",
       "dtype: float64"
      ]
     },
     "execution_count": 12,
     "metadata": {},
     "output_type": "execute_result"
    }
   ],
   "source": [
    "# So this will work.\n",
    "series_with_str_index.loc['b':'e']"
   ]
  },
  {
   "cell_type": "code",
   "execution_count": 13,
   "id": "a141908f",
   "metadata": {},
   "outputs": [
    {
     "data": {
      "text/plain": [
       "b    0.098687\n",
       "c    0.086036\n",
       "d    0.295852\n",
       "dtype: float64"
      ]
     },
     "execution_count": 13,
     "metadata": {},
     "output_type": "execute_result"
    }
   ],
   "source": [
    "# Proof that iloc only works with python implicit indexes (0,1,2,.....)\n",
    "try:\n",
    "    series_with_str_index.iloc['b':'e']\n",
    "except TypeError as em:\n",
    "    assert str(em) == 'cannot do positional indexing on Index with these indexers [b] of type str'\n",
    "    \n",
    "series_with_str_index.iloc[1:4]"
   ]
  },
  {
   "cell_type": "markdown",
   "id": "88c0a1db",
   "metadata": {},
   "source": [
    "<h1 class=\"alert alert-info\">Dataframes</h1>\n",
    "\n",
    "<p> You can say that it is a collection of series with a generalised index for easy access to the data.</p>"
   ]
  },
  {
   "cell_type": "code",
   "execution_count": 14,
   "id": "6da34397",
   "metadata": {
    "scrolled": true
   },
   "outputs": [
    {
     "data": {
      "text/html": [
       "<div>\n",
       "<style scoped>\n",
       "    .dataframe tbody tr th:only-of-type {\n",
       "        vertical-align: middle;\n",
       "    }\n",
       "\n",
       "    .dataframe tbody tr th {\n",
       "        vertical-align: top;\n",
       "    }\n",
       "\n",
       "    .dataframe thead th {\n",
       "        text-align: right;\n",
       "    }\n",
       "</style>\n",
       "<table border=\"1\" class=\"dataframe\">\n",
       "  <thead>\n",
       "    <tr style=\"text-align: right;\">\n",
       "      <th></th>\n",
       "      <th>unit_price</th>\n",
       "      <th>category</th>\n",
       "      <th>stock</th>\n",
       "    </tr>\n",
       "  </thead>\n",
       "  <tbody>\n",
       "    <tr>\n",
       "      <th>coke</th>\n",
       "      <td>2.99</td>\n",
       "      <td>Beverages</td>\n",
       "      <td>50</td>\n",
       "    </tr>\n",
       "    <tr>\n",
       "      <th>eggs</th>\n",
       "      <td>5.50</td>\n",
       "      <td>Poultry</td>\n",
       "      <td>200</td>\n",
       "    </tr>\n",
       "    <tr>\n",
       "      <th>milk</th>\n",
       "      <td>3.00</td>\n",
       "      <td>Milk Product</td>\n",
       "      <td>10</td>\n",
       "    </tr>\n",
       "    <tr>\n",
       "      <th>rice</th>\n",
       "      <td>12.00</td>\n",
       "      <td>Staple</td>\n",
       "      <td>100</td>\n",
       "    </tr>\n",
       "  </tbody>\n",
       "</table>\n",
       "</div>"
      ],
      "text/plain": [
       "      unit_price      category  stock\n",
       "coke        2.99     Beverages     50\n",
       "eggs        5.50       Poultry    200\n",
       "milk        3.00  Milk Product     10\n",
       "rice       12.00        Staple    100"
      ]
     },
     "execution_count": 14,
     "metadata": {},
     "output_type": "execute_result"
    }
   ],
   "source": [
    "# How to create a DataFrame\n",
    "\n",
    "price_grocery = {'rice': 12, 'eggs':5.5, 'milk': 3, 'coke': 2.99}\n",
    "category_grocery = {'rice': 'Staple', 'eggs': 'Poultry', 'coke': 'Beverages', 'milk':'Milk Product'}\n",
    "stock_grocery = {'rice': 100, 'eggs': 200, 'coke': 50, 'milk':10}\n",
    "\n",
    "price_series = pd.Series(price_grocery)\n",
    "category_series = pd.Series(category_grocery)\n",
    "stock_series = pd.Series(stock_grocery)\n",
    "\n",
    "# Create from a dictionary of series objects.\n",
    "grocery_df = pd.DataFrame({'unit_price':price_series, 'category':category_series, 'stock':stock_series})\n",
    "grocery_df"
   ]
  },
  {
   "cell_type": "markdown",
   "id": "6acc4018",
   "metadata": {},
   "source": [
    "<blockquote>Thus DataFrame can be thought of as a generalization of a two-dimensional NumPy array, where both the rows and columns have a generalized index for accessing the data.</blockquote>"
   ]
  },
  {
   "cell_type": "code",
   "execution_count": 15,
   "id": "12bfd03d",
   "metadata": {},
   "outputs": [
    {
     "name": "stdout",
     "output_type": "stream",
     "text": [
      "Index(['coke', 'eggs', 'milk', 'rice'], dtype='object')\n",
      "Index(['unit_price', 'category', 'stock'], dtype='object')\n"
     ]
    }
   ],
   "source": [
    "# Exploring a DataFrame\n",
    "\n",
    "## Index of a DataFrame\n",
    "print(grocery_df.index)\n",
    "\n",
    "## Columns of DataFrame\n",
    "print(grocery_df.columns)"
   ]
  },
  {
   "cell_type": "markdown",
   "id": "3d70d200",
   "metadata": {},
   "source": [
    "<blockquote>TIP:</mark> We can also think of a DataFrame as a specialization of a dictionary. Where a dictionary maps a key to a value, a DataFrame maps a column name to a Series of column data</blockquote>"
   ]
  },
  {
   "cell_type": "markdown",
   "id": "d2451558",
   "metadata": {},
   "source": [
    "<h3>Accesing Data</h3>"
   ]
  },
  {
   "cell_type": "code",
   "execution_count": 16,
   "id": "acdab207",
   "metadata": {},
   "outputs": [
    {
     "data": {
      "text/plain": [
       "coke     50\n",
       "eggs    200\n",
       "milk     10\n",
       "rice    100\n",
       "Name: stock, dtype: int64"
      ]
     },
     "execution_count": 16,
     "metadata": {},
     "output_type": "execute_result"
    }
   ],
   "source": [
    "# Dictionary style: With key (your columns are the keys)\n",
    "grocery_df['stock']"
   ]
  },
  {
   "cell_type": "code",
   "execution_count": 28,
   "id": "45631fcd",
   "metadata": {},
   "outputs": [
    {
     "data": {
      "text/plain": [
       "coke     50\n",
       "eggs    200\n",
       "milk     10\n",
       "rice    100\n",
       "Name: stock, dtype: int64"
      ]
     },
     "execution_count": 28,
     "metadata": {},
     "output_type": "execute_result"
    }
   ],
   "source": [
    "# As properties\n",
    "grocery_df.stock\n",
    "\n",
    "# NOTE: For this to work, indexes should be strings. And they should not conflict with method names."
   ]
  },
  {
   "cell_type": "markdown",
   "id": "7ff4f567",
   "metadata": {},
   "source": [
    "<h2 style=\"color:darkblue\">Constructing Dataframes objects</h2>"
   ]
  },
  {
   "cell_type": "code",
   "execution_count": 17,
   "id": "ffb84d9a",
   "metadata": {},
   "outputs": [
    {
     "data": {
      "text/html": [
       "<div>\n",
       "<style scoped>\n",
       "    .dataframe tbody tr th:only-of-type {\n",
       "        vertical-align: middle;\n",
       "    }\n",
       "\n",
       "    .dataframe tbody tr th {\n",
       "        vertical-align: top;\n",
       "    }\n",
       "\n",
       "    .dataframe thead th {\n",
       "        text-align: right;\n",
       "    }\n",
       "</style>\n",
       "<table border=\"1\" class=\"dataframe\">\n",
       "  <thead>\n",
       "    <tr style=\"text-align: right;\">\n",
       "      <th></th>\n",
       "      <th>price</th>\n",
       "    </tr>\n",
       "  </thead>\n",
       "  <tbody>\n",
       "    <tr>\n",
       "      <th>rice</th>\n",
       "      <td>12.00</td>\n",
       "    </tr>\n",
       "    <tr>\n",
       "      <th>eggs</th>\n",
       "      <td>5.50</td>\n",
       "    </tr>\n",
       "    <tr>\n",
       "      <th>milk</th>\n",
       "      <td>3.00</td>\n",
       "    </tr>\n",
       "    <tr>\n",
       "      <th>coke</th>\n",
       "      <td>2.99</td>\n",
       "    </tr>\n",
       "  </tbody>\n",
       "</table>\n",
       "</div>"
      ],
      "text/plain": [
       "      price\n",
       "rice  12.00\n",
       "eggs   5.50\n",
       "milk   3.00\n",
       "coke   2.99"
      ]
     },
     "execution_count": 17,
     "metadata": {},
     "output_type": "execute_result"
    }
   ],
   "source": [
    "# We can create from a single series.\n",
    "\n",
    "pd.DataFrame(price_series, columns=['price'])"
   ]
  },
  {
   "cell_type": "code",
   "execution_count": 18,
   "id": "4506521a",
   "metadata": {},
   "outputs": [
    {
     "data": {
      "text/html": [
       "<div>\n",
       "<style scoped>\n",
       "    .dataframe tbody tr th:only-of-type {\n",
       "        vertical-align: middle;\n",
       "    }\n",
       "\n",
       "    .dataframe tbody tr th {\n",
       "        vertical-align: top;\n",
       "    }\n",
       "\n",
       "    .dataframe thead th {\n",
       "        text-align: right;\n",
       "    }\n",
       "</style>\n",
       "<table border=\"1\" class=\"dataframe\">\n",
       "  <thead>\n",
       "    <tr style=\"text-align: right;\">\n",
       "      <th></th>\n",
       "      <th>rice</th>\n",
       "      <th>eggs</th>\n",
       "      <th>milk</th>\n",
       "      <th>coke</th>\n",
       "    </tr>\n",
       "  </thead>\n",
       "  <tbody>\n",
       "    <tr>\n",
       "      <th>0</th>\n",
       "      <td>12</td>\n",
       "      <td>5.5</td>\n",
       "      <td>3</td>\n",
       "      <td>2.99</td>\n",
       "    </tr>\n",
       "    <tr>\n",
       "      <th>1</th>\n",
       "      <td>Staple</td>\n",
       "      <td>Poultry</td>\n",
       "      <td>Milk Product</td>\n",
       "      <td>Beverages</td>\n",
       "    </tr>\n",
       "    <tr>\n",
       "      <th>2</th>\n",
       "      <td>100</td>\n",
       "      <td>200</td>\n",
       "      <td>10</td>\n",
       "      <td>50</td>\n",
       "    </tr>\n",
       "  </tbody>\n",
       "</table>\n",
       "</div>"
      ],
      "text/plain": [
       "     rice     eggs          milk       coke\n",
       "0      12      5.5             3       2.99\n",
       "1  Staple  Poultry  Milk Product  Beverages\n",
       "2     100      200            10         50"
      ]
     },
     "execution_count": 18,
     "metadata": {},
     "output_type": "execute_result"
    }
   ],
   "source": [
    "# We can create fron a list of dicts\n",
    "pd.DataFrame([price_grocery, category_grocery, stock_grocery])"
   ]
  },
  {
   "cell_type": "code",
   "execution_count": 19,
   "id": "baf55844",
   "metadata": {},
   "outputs": [
    {
     "data": {
      "text/html": [
       "<div>\n",
       "<style scoped>\n",
       "    .dataframe tbody tr th:only-of-type {\n",
       "        vertical-align: middle;\n",
       "    }\n",
       "\n",
       "    .dataframe tbody tr th {\n",
       "        vertical-align: top;\n",
       "    }\n",
       "\n",
       "    .dataframe thead th {\n",
       "        text-align: right;\n",
       "    }\n",
       "</style>\n",
       "<table border=\"1\" class=\"dataframe\">\n",
       "  <thead>\n",
       "    <tr style=\"text-align: right;\">\n",
       "      <th></th>\n",
       "      <th>Home</th>\n",
       "      <th>Away</th>\n",
       "    </tr>\n",
       "  </thead>\n",
       "  <tbody>\n",
       "    <tr>\n",
       "      <th>Dev1</th>\n",
       "      <td>0.672154</td>\n",
       "      <td>0.020464</td>\n",
       "    </tr>\n",
       "    <tr>\n",
       "      <th>Dev2</th>\n",
       "      <td>0.294023</td>\n",
       "      <td>0.979542</td>\n",
       "    </tr>\n",
       "    <tr>\n",
       "      <th>Dev3</th>\n",
       "      <td>0.489253</td>\n",
       "      <td>0.534273</td>\n",
       "    </tr>\n",
       "  </tbody>\n",
       "</table>\n",
       "</div>"
      ],
      "text/plain": [
       "          Home      Away\n",
       "Dev1  0.672154  0.020464\n",
       "Dev2  0.294023  0.979542\n",
       "Dev3  0.489253  0.534273"
      ]
     },
     "execution_count": 19,
     "metadata": {},
     "output_type": "execute_result"
    }
   ],
   "source": [
    "# From a two-dimensional NumPy array\n",
    "\n",
    "pd.DataFrame(np.random.random((3, 2)), columns=['Home', 'Away'], index=['Dev1', 'Dev2', 'Dev3'])"
   ]
  },
  {
   "cell_type": "code",
   "execution_count": 20,
   "id": "743f8dcc",
   "metadata": {},
   "outputs": [
    {
     "data": {
      "text/html": [
       "<div>\n",
       "<style scoped>\n",
       "    .dataframe tbody tr th:only-of-type {\n",
       "        vertical-align: middle;\n",
       "    }\n",
       "\n",
       "    .dataframe tbody tr th {\n",
       "        vertical-align: top;\n",
       "    }\n",
       "\n",
       "    .dataframe thead th {\n",
       "        text-align: right;\n",
       "    }\n",
       "</style>\n",
       "<table border=\"1\" class=\"dataframe\">\n",
       "  <thead>\n",
       "    <tr style=\"text-align: right;\">\n",
       "      <th></th>\n",
       "      <th>height</th>\n",
       "      <th>count</th>\n",
       "    </tr>\n",
       "  </thead>\n",
       "  <tbody>\n",
       "    <tr>\n",
       "      <th>0</th>\n",
       "      <td>1.0</td>\n",
       "      <td>1</td>\n",
       "    </tr>\n",
       "    <tr>\n",
       "      <th>1</th>\n",
       "      <td>1.0</td>\n",
       "      <td>1</td>\n",
       "    </tr>\n",
       "    <tr>\n",
       "      <th>2</th>\n",
       "      <td>1.0</td>\n",
       "      <td>1</td>\n",
       "    </tr>\n",
       "  </tbody>\n",
       "</table>\n",
       "</div>"
      ],
      "text/plain": [
       "   height  count\n",
       "0     1.0      1\n",
       "1     1.0      1\n",
       "2     1.0      1"
      ]
     },
     "execution_count": 20,
     "metadata": {},
     "output_type": "execute_result"
    }
   ],
   "source": [
    "# From a Numpy Structured array (remember custom dtype)\n",
    "\n",
    "pd.DataFrame(np.ones(3, dtype=[('height','f8'), ('count', 'int8')]))"
   ]
  },
  {
   "cell_type": "markdown",
   "id": "443d1747",
   "metadata": {},
   "source": [
    "<h3>Finally, you can create an index explicity</h3>\n"
   ]
  },
  {
   "cell_type": "code",
   "execution_count": 21,
   "id": "dc5152be",
   "metadata": {},
   "outputs": [
    {
     "name": "stdout",
     "output_type": "stream",
     "text": [
      "Yup...cant do it\n"
     ]
    },
    {
     "data": {
      "text/plain": [
       "(1, (5,), dtype('int64'), 5)"
      ]
     },
     "execution_count": 21,
     "metadata": {},
     "output_type": "execute_result"
    }
   ],
   "source": [
    "my_index = pd.Index([2,5,7,9, 11])\n",
    "\n",
    "# You cannot change them..immutability\n",
    "try:\n",
    "    my_index[2] = 123\n",
    "except TypeError:\n",
    "    print(\"Yup...cant do it\")\n",
    "    \n",
    "# They have same properties as numpy array\n",
    "my_index.ndim, my_index.shape, my_index.dtype, my_index.size\n"
   ]
  },
  {
   "cell_type": "markdown",
   "id": "40f63d9f",
   "metadata": {},
   "source": [
    "<h2 style=\"color:darkgreen\">Lets see what we can do with a dataframe</h2>"
   ]
  },
  {
   "cell_type": "code",
   "execution_count": 22,
   "id": "25087812",
   "metadata": {},
   "outputs": [
    {
     "data": {
      "text/plain": [
       "unit_price      12.0\n",
       "category      Staple\n",
       "stock            200\n",
       "dtype: object"
      ]
     },
     "execution_count": 22,
     "metadata": {},
     "output_type": "execute_result"
    }
   ],
   "source": [
    "# max() method is available on df.\n",
    "grocery_df.max()"
   ]
  },
  {
   "cell_type": "code",
   "execution_count": 23,
   "id": "6eeff401",
   "metadata": {},
   "outputs": [
    {
     "data": {
      "text/plain": [
       "unit_price         2.99\n",
       "category      Beverages\n",
       "stock                10\n",
       "dtype: object"
      ]
     },
     "execution_count": 23,
     "metadata": {},
     "output_type": "execute_result"
    }
   ],
   "source": [
    "grocery_df.min()"
   ]
  },
  {
   "cell_type": "code",
   "execution_count": 24,
   "id": "0a779f4e",
   "metadata": {},
   "outputs": [
    {
     "data": {
      "text/plain": [
       "unit_price     5.8725\n",
       "stock         90.0000\n",
       "dtype: float64"
      ]
     },
     "execution_count": 24,
     "metadata": {},
     "output_type": "execute_result"
    }
   ],
   "source": [
    "grocery_df.mean()"
   ]
  },
  {
   "cell_type": "markdown",
   "id": "6e3654f9",
   "metadata": {},
   "source": [
    "<h2 style=\"color:darkred\">Dataframe as a dictionary</h2>"
   ]
  },
  {
   "cell_type": "code",
   "execution_count": 25,
   "id": "4fa681c7",
   "metadata": {},
   "outputs": [
    {
     "data": {
      "text/plain": [
       "Index(['unit_price', 'category', 'stock'], dtype='object')"
      ]
     },
     "execution_count": 25,
     "metadata": {},
     "output_type": "execute_result"
    }
   ],
   "source": [
    "grocery_df.keys()"
   ]
  },
  {
   "cell_type": "code",
   "execution_count": 26,
   "id": "db8740f6",
   "metadata": {},
   "outputs": [
    {
     "data": {
      "text/plain": [
       "[('unit_price',\n",
       "  coke     2.99\n",
       "  eggs     5.50\n",
       "  milk     3.00\n",
       "  rice    12.00\n",
       "  Name: unit_price, dtype: float64),\n",
       " ('category',\n",
       "  coke       Beverages\n",
       "  eggs         Poultry\n",
       "  milk    Milk Product\n",
       "  rice          Staple\n",
       "  Name: category, dtype: object),\n",
       " ('stock',\n",
       "  coke     50\n",
       "  eggs    200\n",
       "  milk     10\n",
       "  rice    100\n",
       "  Name: stock, dtype: int64)]"
      ]
     },
     "execution_count": 26,
     "metadata": {},
     "output_type": "execute_result"
    }
   ],
   "source": [
    "list(grocery_df.items())"
   ]
  },
  {
   "cell_type": "code",
   "execution_count": 31,
   "id": "52bd2c58",
   "metadata": {},
   "outputs": [
    {
     "data": {
      "text/html": [
       "<div>\n",
       "<style scoped>\n",
       "    .dataframe tbody tr th:only-of-type {\n",
       "        vertical-align: middle;\n",
       "    }\n",
       "\n",
       "    .dataframe tbody tr th {\n",
       "        vertical-align: top;\n",
       "    }\n",
       "\n",
       "    .dataframe thead th {\n",
       "        text-align: right;\n",
       "    }\n",
       "</style>\n",
       "<table border=\"1\" class=\"dataframe\">\n",
       "  <thead>\n",
       "    <tr style=\"text-align: right;\">\n",
       "      <th></th>\n",
       "      <th>unit_price</th>\n",
       "      <th>category</th>\n",
       "      <th>stock</th>\n",
       "      <th>Stock_Price</th>\n",
       "    </tr>\n",
       "  </thead>\n",
       "  <tbody>\n",
       "    <tr>\n",
       "      <th>coke</th>\n",
       "      <td>2.99</td>\n",
       "      <td>Beverages</td>\n",
       "      <td>50</td>\n",
       "      <td>149.5</td>\n",
       "    </tr>\n",
       "    <tr>\n",
       "      <th>eggs</th>\n",
       "      <td>5.50</td>\n",
       "      <td>Poultry</td>\n",
       "      <td>200</td>\n",
       "      <td>1100.0</td>\n",
       "    </tr>\n",
       "    <tr>\n",
       "      <th>milk</th>\n",
       "      <td>3.00</td>\n",
       "      <td>Milk Product</td>\n",
       "      <td>10</td>\n",
       "      <td>30.0</td>\n",
       "    </tr>\n",
       "    <tr>\n",
       "      <th>rice</th>\n",
       "      <td>12.00</td>\n",
       "      <td>Staple</td>\n",
       "      <td>100</td>\n",
       "      <td>1200.0</td>\n",
       "    </tr>\n",
       "  </tbody>\n",
       "</table>\n",
       "</div>"
      ],
      "text/plain": [
       "      unit_price      category  stock  Stock_Price\n",
       "coke        2.99     Beverages     50        149.5\n",
       "eggs        5.50       Poultry    200       1100.0\n",
       "milk        3.00  Milk Product     10         30.0\n",
       "rice       12.00        Staple    100       1200.0"
      ]
     },
     "execution_count": 31,
     "metadata": {},
     "output_type": "execute_result"
    }
   ],
   "source": [
    "# Create a new column from some calculation\n",
    "# Example: Total stock price of every item.\n",
    "\n",
    "grocery_df['Stock_Price'] = grocery_df['stock'] * grocery_df['unit_price']\n",
    "grocery_df\n",
    "\n",
    "# We will explore this is detail later."
   ]
  },
  {
   "cell_type": "markdown",
   "id": "9c9311d5",
   "metadata": {},
   "source": [
    "<h2 style=\"color:darkorange\">DataFrame as two-dimensional array</h2>"
   ]
  },
  {
   "cell_type": "code",
   "execution_count": 34,
   "id": "ee914117",
   "metadata": {},
   "outputs": [
    {
     "data": {
      "text/plain": [
       "array([5.5, 'Poultry', 200, 1100.0], dtype=object)"
      ]
     },
     "execution_count": 34,
     "metadata": {},
     "output_type": "execute_result"
    }
   ],
   "source": [
    "# View the Raw Data as 2d array.\n",
    "grocery_df.values\n",
    "\n",
    "# You can use indexing on values\n",
    "grocery_df.values[1]"
   ]
  },
  {
   "cell_type": "code",
   "execution_count": 35,
   "id": "30009364",
   "metadata": {},
   "outputs": [
    {
     "data": {
      "text/html": [
       "<div>\n",
       "<style scoped>\n",
       "    .dataframe tbody tr th:only-of-type {\n",
       "        vertical-align: middle;\n",
       "    }\n",
       "\n",
       "    .dataframe tbody tr th {\n",
       "        vertical-align: top;\n",
       "    }\n",
       "\n",
       "    .dataframe thead th {\n",
       "        text-align: right;\n",
       "    }\n",
       "</style>\n",
       "<table border=\"1\" class=\"dataframe\">\n",
       "  <thead>\n",
       "    <tr style=\"text-align: right;\">\n",
       "      <th></th>\n",
       "      <th>coke</th>\n",
       "      <th>eggs</th>\n",
       "      <th>milk</th>\n",
       "      <th>rice</th>\n",
       "    </tr>\n",
       "  </thead>\n",
       "  <tbody>\n",
       "    <tr>\n",
       "      <th>unit_price</th>\n",
       "      <td>2.99</td>\n",
       "      <td>5.5</td>\n",
       "      <td>3.0</td>\n",
       "      <td>12.0</td>\n",
       "    </tr>\n",
       "    <tr>\n",
       "      <th>category</th>\n",
       "      <td>Beverages</td>\n",
       "      <td>Poultry</td>\n",
       "      <td>Milk Product</td>\n",
       "      <td>Staple</td>\n",
       "    </tr>\n",
       "    <tr>\n",
       "      <th>stock</th>\n",
       "      <td>50</td>\n",
       "      <td>200</td>\n",
       "      <td>10</td>\n",
       "      <td>100</td>\n",
       "    </tr>\n",
       "    <tr>\n",
       "      <th>Stock_Price</th>\n",
       "      <td>149.5</td>\n",
       "      <td>1100.0</td>\n",
       "      <td>30.0</td>\n",
       "      <td>1200.0</td>\n",
       "    </tr>\n",
       "  </tbody>\n",
       "</table>\n",
       "</div>"
      ],
      "text/plain": [
       "                  coke     eggs          milk    rice\n",
       "unit_price        2.99      5.5           3.0    12.0\n",
       "category     Beverages  Poultry  Milk Product  Staple\n",
       "stock               50      200            10     100\n",
       "Stock_Price      149.5   1100.0          30.0  1200.0"
      ]
     },
     "execution_count": 35,
     "metadata": {},
     "output_type": "execute_result"
    }
   ],
   "source": [
    "# We can transpose it since it is a 2d matrix.\n",
    "grocery_df.T"
   ]
  },
  {
   "cell_type": "code",
   "execution_count": 44,
   "id": "49bba8f6",
   "metadata": {},
   "outputs": [
    {
     "data": {
      "text/html": [
       "<div>\n",
       "<style scoped>\n",
       "    .dataframe tbody tr th:only-of-type {\n",
       "        vertical-align: middle;\n",
       "    }\n",
       "\n",
       "    .dataframe tbody tr th {\n",
       "        vertical-align: top;\n",
       "    }\n",
       "\n",
       "    .dataframe thead th {\n",
       "        text-align: right;\n",
       "    }\n",
       "</style>\n",
       "<table border=\"1\" class=\"dataframe\">\n",
       "  <thead>\n",
       "    <tr style=\"text-align: right;\">\n",
       "      <th></th>\n",
       "      <th>unit_price</th>\n",
       "      <th>category</th>\n",
       "    </tr>\n",
       "  </thead>\n",
       "  <tbody>\n",
       "    <tr>\n",
       "      <th>coke</th>\n",
       "      <td>2.99</td>\n",
       "      <td>Beverages</td>\n",
       "    </tr>\n",
       "    <tr>\n",
       "      <th>eggs</th>\n",
       "      <td>5.50</td>\n",
       "      <td>Poultry</td>\n",
       "    </tr>\n",
       "    <tr>\n",
       "      <th>milk</th>\n",
       "      <td>3.00</td>\n",
       "      <td>Milk Product</td>\n",
       "    </tr>\n",
       "  </tbody>\n",
       "</table>\n",
       "</div>"
      ],
      "text/plain": [
       "      unit_price      category\n",
       "coke        2.99     Beverages\n",
       "eggs        5.50       Poultry\n",
       "milk        3.00  Milk Product"
      ]
     },
     "execution_count": 44,
     "metadata": {},
     "output_type": "execute_result"
    }
   ],
   "source": [
    "# For array style indexing / slicing.\n",
    "# While can do, grocery_df[0:3], this is confusing. So once again, we will loc and iloc.\n",
    "\n",
    "grocery_df.loc[:'milk', :'category']"
   ]
  },
  {
   "cell_type": "code",
   "execution_count": 47,
   "id": "81cb6798",
   "metadata": {},
   "outputs": [
    {
     "data": {
      "text/html": [
       "<div>\n",
       "<style scoped>\n",
       "    .dataframe tbody tr th:only-of-type {\n",
       "        vertical-align: middle;\n",
       "    }\n",
       "\n",
       "    .dataframe tbody tr th {\n",
       "        vertical-align: top;\n",
       "    }\n",
       "\n",
       "    .dataframe thead th {\n",
       "        text-align: right;\n",
       "    }\n",
       "</style>\n",
       "<table border=\"1\" class=\"dataframe\">\n",
       "  <thead>\n",
       "    <tr style=\"text-align: right;\">\n",
       "      <th></th>\n",
       "      <th>unit_price</th>\n",
       "      <th>category</th>\n",
       "    </tr>\n",
       "  </thead>\n",
       "  <tbody>\n",
       "    <tr>\n",
       "      <th>coke</th>\n",
       "      <td>2.99</td>\n",
       "      <td>Beverages</td>\n",
       "    </tr>\n",
       "    <tr>\n",
       "      <th>eggs</th>\n",
       "      <td>5.50</td>\n",
       "      <td>Poultry</td>\n",
       "    </tr>\n",
       "    <tr>\n",
       "      <th>milk</th>\n",
       "      <td>3.00</td>\n",
       "      <td>Milk Product</td>\n",
       "    </tr>\n",
       "  </tbody>\n",
       "</table>\n",
       "</div>"
      ],
      "text/plain": [
       "      unit_price      category\n",
       "coke        2.99     Beverages\n",
       "eggs        5.50       Poultry\n",
       "milk        3.00  Milk Product"
      ]
     },
     "execution_count": 47,
     "metadata": {},
     "output_type": "execute_result"
    }
   ],
   "source": [
    "# Same data using iloc.\n",
    "\n",
    "grocery_df.iloc[:3, :2]"
   ]
  },
  {
   "cell_type": "code",
   "execution_count": 58,
   "id": "3c71861c",
   "metadata": {},
   "outputs": [
    {
     "data": {
      "text/html": [
       "<div>\n",
       "<style scoped>\n",
       "    .dataframe tbody tr th:only-of-type {\n",
       "        vertical-align: middle;\n",
       "    }\n",
       "\n",
       "    .dataframe tbody tr th {\n",
       "        vertical-align: top;\n",
       "    }\n",
       "\n",
       "    .dataframe thead th {\n",
       "        text-align: right;\n",
       "    }\n",
       "</style>\n",
       "<table border=\"1\" class=\"dataframe\">\n",
       "  <thead>\n",
       "    <tr style=\"text-align: right;\">\n",
       "      <th></th>\n",
       "      <th>unit_price</th>\n",
       "      <th>category</th>\n",
       "      <th>stock</th>\n",
       "      <th>Stock_Price</th>\n",
       "    </tr>\n",
       "  </thead>\n",
       "  <tbody>\n",
       "    <tr>\n",
       "      <th>eggs</th>\n",
       "      <td>5.5</td>\n",
       "      <td>Poultry</td>\n",
       "      <td>200</td>\n",
       "      <td>1100.0</td>\n",
       "    </tr>\n",
       "    <tr>\n",
       "      <th>rice</th>\n",
       "      <td>12.0</td>\n",
       "      <td>Staple</td>\n",
       "      <td>100</td>\n",
       "      <td>1200.0</td>\n",
       "    </tr>\n",
       "  </tbody>\n",
       "</table>\n",
       "</div>"
      ],
      "text/plain": [
       "      unit_price category  stock  Stock_Price\n",
       "eggs         5.5  Poultry    200       1100.0\n",
       "rice        12.0   Staple    100       1200.0"
      ]
     },
     "execution_count": 58,
     "metadata": {},
     "output_type": "execute_result"
    }
   ],
   "source": [
    "# We can run some querys too using masks.\n",
    "grocery_df.loc[grocery_df.stock >= 100]"
   ]
  },
  {
   "cell_type": "code",
   "execution_count": 57,
   "id": "a79875cd",
   "metadata": {},
   "outputs": [
    {
     "data": {
      "text/html": [
       "<div>\n",
       "<style scoped>\n",
       "    .dataframe tbody tr th:only-of-type {\n",
       "        vertical-align: middle;\n",
       "    }\n",
       "\n",
       "    .dataframe tbody tr th {\n",
       "        vertical-align: top;\n",
       "    }\n",
       "\n",
       "    .dataframe thead th {\n",
       "        text-align: right;\n",
       "    }\n",
       "</style>\n",
       "<table border=\"1\" class=\"dataframe\">\n",
       "  <thead>\n",
       "    <tr style=\"text-align: right;\">\n",
       "      <th></th>\n",
       "      <th>stock</th>\n",
       "    </tr>\n",
       "  </thead>\n",
       "  <tbody>\n",
       "    <tr>\n",
       "      <th>eggs</th>\n",
       "      <td>200</td>\n",
       "    </tr>\n",
       "    <tr>\n",
       "      <th>rice</th>\n",
       "      <td>100</td>\n",
       "    </tr>\n",
       "  </tbody>\n",
       "</table>\n",
       "</div>"
      ],
      "text/plain": [
       "      stock\n",
       "eggs    200\n",
       "rice    100"
      ]
     },
     "execution_count": 57,
     "metadata": {},
     "output_type": "execute_result"
    }
   ],
   "source": [
    "# We can limit the columns we want to see too.\n",
    "grocery_df.loc[grocery_df.stock >= 100, ['stock']]"
   ]
  }
 ],
 "metadata": {
  "kernelspec": {
   "display_name": "venv",
   "language": "python",
   "name": "venv"
  },
  "language_info": {
   "codemirror_mode": {
    "name": "ipython",
    "version": 3
   },
   "file_extension": ".py",
   "mimetype": "text/x-python",
   "name": "python",
   "nbconvert_exporter": "python",
   "pygments_lexer": "ipython3",
   "version": "3.9.4"
  }
 },
 "nbformat": 4,
 "nbformat_minor": 5
}
