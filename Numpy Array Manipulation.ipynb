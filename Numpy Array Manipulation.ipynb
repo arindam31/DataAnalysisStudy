{
 "cells": [
  {
   "cell_type": "markdown",
   "id": "de55f01b",
   "metadata": {},
   "source": [
    "<h1 style=\"color:black;font-weight:normal;font-family:Georgia;\"><u>This notebook is to try python methods, evalute outcomes over numpy arrays</u></h1>"
   ]
  },
  {
   "cell_type": "code",
   "execution_count": 1,
   "id": "3f6fea9d",
   "metadata": {},
   "outputs": [],
   "source": [
    "import numpy as np\n",
    "import IPython as IP"
   ]
  },
  {
   "cell_type": "markdown",
   "id": "1e643b17",
   "metadata": {},
   "source": [
    "<h1 style=\"color:black;font-weight:normal;font-family:Georgia;\">Properties associated with a np array</h1>"
   ]
  },
  {
   "cell_type": "code",
   "execution_count": 23,
   "id": "e361c51d",
   "metadata": {},
   "outputs": [],
   "source": [
    "narr_rand = np.random.randint(1,10, (3,3))"
   ]
  },
  {
   "cell_type": "code",
   "execution_count": 34,
   "id": "54e0d45b",
   "metadata": {},
   "outputs": [
    {
     "name": "stdout",
     "output_type": "stream",
     "text": [
      "Dimension of array:  2\n",
      "Shape of array:  (3, 3)\n",
      "Data Type of array:  int64\n",
      "\n",
      "Size of array (as in how many elements):  9\n",
      "Size(in bytes) of one array element 8\n",
      "\n",
      "Total size(in bytes) of array:  72\n"
     ]
    }
   ],
   "source": [
    "print('Dimension of array: ', narr_rand.ndim)\n",
    "print('Shape of array: ', narr_rand.shape)\n",
    "print('Data Type of array: ', narr_rand.dtype, end='\\n\\n')\n",
    "print('Size of array (as in how many elements): ', narr_rand.size)\n",
    "print('Size(in bytes) of one array element', narr_rand.itemsize, end='\\n\\n')\n",
    "print('Total size(in bytes) of array: ', narr_rand.nbytes)"
   ]
  },
  {
   "cell_type": "markdown",
   "id": "f58f0e6a",
   "metadata": {},
   "source": [
    "<h3 style=\"color:black;font-weight:normal;font-family:Georgia;\"><span style=\"font-weight:bold\">Goal:</span> Try in-build standard methods available in python</h3>\n",
    "<p><span style=\"font-weight:bold\">Note: </span> List Methods like pop, index, insert are not available in np type array.</p>"
   ]
  },
  {
   "cell_type": "code",
   "execution_count": 35,
   "id": "a9a78710",
   "metadata": {},
   "outputs": [],
   "source": [
    "narr_nums = np.array(range(1,11))\n",
    "narr_chr = np.array(['a', 'b', 'c', 'xyz'])\n",
    "narr_matrix = np.random.randint(1,10, (3,3))"
   ]
  },
  {
   "cell_type": "code",
   "execution_count": 4,
   "id": "a869a10d",
   "metadata": {},
   "outputs": [
    {
     "name": "stdout",
     "output_type": "stream",
     "text": [
      "10\n",
      "9\n",
      "8\n",
      "7\n",
      "6\n",
      "5\n",
      "4\n",
      "3\n",
      "2\n",
      "1\n"
     ]
    }
   ],
   "source": [
    "# Reversed method\n",
    "rev_arr = reversed(narr_nums)\n",
    "for item in rev_arr:print(item)"
   ]
  },
  {
   "cell_type": "code",
   "execution_count": 3,
   "id": "e1aac0c3",
   "metadata": {
    "scrolled": true
   },
   "outputs": [
    {
     "data": {
      "text/plain": [
       "55"
      ]
     },
     "execution_count": 3,
     "metadata": {},
     "output_type": "execute_result"
    }
   ],
   "source": [
    "# Python sum method\n",
    "sum(narr_nums)"
   ]
  },
  {
   "cell_type": "code",
   "execution_count": 5,
   "id": "6e9a93cb",
   "metadata": {},
   "outputs": [
    {
     "data": {
      "text/plain": [
       "array(['xyz', 'c', 'b', 'a'], dtype='<U3')"
      ]
     },
     "execution_count": 5,
     "metadata": {},
     "output_type": "execute_result"
    }
   ],
   "source": [
    "# Slicing an array\n",
    "narr_chr[::-1]"
   ]
  },
  {
   "cell_type": "code",
   "execution_count": 6,
   "id": "70ad84f9",
   "metadata": {},
   "outputs": [
    {
     "data": {
      "text/plain": [
       "'xyz'"
      ]
     },
     "execution_count": 6,
     "metadata": {},
     "output_type": "execute_result"
    }
   ],
   "source": [
    "# Indexing.\n",
    "narr_chr[-1]"
   ]
  },
  {
   "cell_type": "code",
   "execution_count": 7,
   "id": "d59bbde0",
   "metadata": {
    "scrolled": true
   },
   "outputs": [
    {
     "name": "stdout",
     "output_type": "stream",
     "text": [
      "All arrays should have the same dtype\n"
     ]
    }
   ],
   "source": [
    "# Try to merge two np arrays(having diff type of members) using Python idealogies.\n",
    "try:\n",
    "    narr_chr + narr_nums\n",
    "except np.core._exceptions.UFuncTypeError:\n",
    "    print('All arrays should have the same dtype')"
   ]
  },
  {
   "cell_type": "code",
   "execution_count": 60,
   "id": "c05165dd",
   "metadata": {},
   "outputs": [
    {
     "name": "stdout",
     "output_type": "stream",
     "text": [
      "['a', 'b', 'c', 'xyz']\n",
      "<class 'list'>\n"
     ]
    }
   ],
   "source": [
    "# Lets see what happens if we use list() on an np array.\n",
    "our_list = list(narr_chr)\n",
    "print(our_list)\n",
    "print(type(our_list))"
   ]
  },
  {
   "cell_type": "markdown",
   "id": "1d73cea1",
   "metadata": {},
   "source": [
    "<h1>Array Manipulation</h1>"
   ]
  },
  {
   "cell_type": "markdown",
   "id": "8b6468d3",
   "metadata": {},
   "source": [
    "<h3>Changing an array element in a 2d array</h3>"
   ]
  },
  {
   "cell_type": "code",
   "execution_count": 37,
   "id": "93ae6bbd",
   "metadata": {},
   "outputs": [
    {
     "name": "stdout",
     "output_type": "stream",
     "text": [
      "9\n"
     ]
    }
   ],
   "source": [
    "print(narr_rand[0, 0])"
   ]
  },
  {
   "cell_type": "code",
   "execution_count": 40,
   "id": "974a7e90",
   "metadata": {},
   "outputs": [
    {
     "name": "stdout",
     "output_type": "stream",
     "text": [
      "[[99  8  9]\n",
      " [ 9  6  3]\n",
      " [ 5  7  3]]\n"
     ]
    }
   ],
   "source": [
    "narr_rand[0, 0] = 99\n",
    "print(narr_rand)"
   ]
  },
  {
   "cell_type": "markdown",
   "id": "b3c1a9c4",
   "metadata": {},
   "source": [
    "<h2>Slicing of multi-dimension array</h2>"
   ]
  },
  {
   "cell_type": "code",
   "execution_count": 41,
   "id": "1f03c803",
   "metadata": {},
   "outputs": [
    {
     "data": {
      "text/plain": [
       "array([[99,  8],\n",
       "       [ 9,  6]])"
      ]
     },
     "execution_count": 41,
     "metadata": {},
     "output_type": "execute_result"
    }
   ],
   "source": [
    "# Two rows two column\n",
    "narr_rand[:2, :2]"
   ]
  },
  {
   "cell_type": "code",
   "execution_count": 42,
   "id": "2f4d4a32",
   "metadata": {},
   "outputs": [
    {
     "data": {
      "text/plain": [
       "array([[99,  8],\n",
       "       [ 9,  6],\n",
       "       [ 5,  7]])"
      ]
     },
     "execution_count": 42,
     "metadata": {},
     "output_type": "execute_result"
    }
   ],
   "source": [
    "# All rows, two columns\n",
    "narr_rand[:, :2]"
   ]
  },
  {
   "cell_type": "markdown",
   "id": "710e7fc9",
   "metadata": {},
   "source": [
    "<h2>Accessing array elements</h2>"
   ]
  },
  {
   "cell_type": "code",
   "execution_count": 46,
   "id": "153a386a",
   "metadata": {},
   "outputs": [
    {
     "data": {
      "text/plain": [
       "array([99,  9,  5])"
      ]
     },
     "execution_count": 46,
     "metadata": {},
     "output_type": "execute_result"
    }
   ],
   "source": [
    "# All rows, first column\n",
    "narr_rand[:, 0]"
   ]
  },
  {
   "cell_type": "code",
   "execution_count": 45,
   "id": "90f81e43",
   "metadata": {},
   "outputs": [
    {
     "data": {
      "text/plain": [
       "array([99,  8,  9])"
      ]
     },
     "execution_count": 45,
     "metadata": {},
     "output_type": "execute_result"
    }
   ],
   "source": [
    "# All columns, first row\n",
    "narr_rand[0, :]"
   ]
  },
  {
   "cell_type": "markdown",
   "id": "670f26ec",
   "metadata": {},
   "source": [
    "<h2>Reshaping Arrays</h2>\n",
    "<p>You can create another dimension array from one type using reshape() method."
   ]
  },
  {
   "cell_type": "code",
   "execution_count": 54,
   "id": "6504bbc0",
   "metadata": {},
   "outputs": [
    {
     "name": "stdout",
     "output_type": "stream",
     "text": [
      "Dimension: 1\n",
      "Shape: (9,)\n"
     ]
    }
   ],
   "source": [
    "# We create a One Dim array on int type\n",
    "narr_my_fav_numbers = np.array([20, 25, 40, 50, 80, 99, 111, 555, 600], dtype=int)\n",
    "print('Dimension:', narr_my_fav_numbers.ndim)\n",
    "print('Shape:', narr_my_fav_numbers.shape)"
   ]
  },
  {
   "cell_type": "code",
   "execution_count": 55,
   "id": "79f8ed44",
   "metadata": {},
   "outputs": [
    {
     "data": {
      "text/plain": [
       "array([[ 20,  25,  40],\n",
       "       [ 50,  80,  99],\n",
       "       [111, 555, 600]])"
      ]
     },
     "execution_count": 55,
     "metadata": {},
     "output_type": "execute_result"
    }
   ],
   "source": [
    "# Lets reshape it to a 3 * 3 matrix from this array.\n",
    "narr_my_fav_numbers.reshape(3,3)"
   ]
  },
  {
   "cell_type": "markdown",
   "id": "d0e03d64",
   "metadata": {},
   "source": [
    "<h2>Array Concatenation</h2>\n",
    "<p>Different ways to merge two arrays.</p>"
   ]
  },
  {
   "cell_type": "code",
   "execution_count": 58,
   "id": "d809005e",
   "metadata": {},
   "outputs": [
    {
     "data": {
      "text/plain": [
       "array([1, 2, 3, 4, 5, 6, 7, 8, 9])"
      ]
     },
     "execution_count": 58,
     "metadata": {},
     "output_type": "execute_result"
    }
   ],
   "source": [
    "mer_x = np.arange(1,4)\n",
    "mer_y = np.arange(4,7)\n",
    "mer_z = np.arange(7,10)\n",
    "np.concatenate([mer_x, mer_y, mer_z])"
   ]
  },
  {
   "cell_type": "markdown",
   "id": "7958480d",
   "metadata": {},
   "source": [
    "<h2>Splitting an array</h2>"
   ]
  },
  {
   "cell_type": "code",
   "execution_count": 72,
   "id": "05ac0eea",
   "metadata": {},
   "outputs": [
    {
     "name": "stdout",
     "output_type": "stream",
     "text": [
      "[ 20  25  40  50  80  99 111 555 600]\n"
     ]
    },
    {
     "data": {
      "text/plain": [
       "[array([[0, 1, 2, 3],\n",
       "        [4, 5, 6, 7]]),\n",
       " array([[ 8,  9, 10, 11],\n",
       "        [12, 13, 14, 15]])]"
      ]
     },
     "execution_count": 72,
     "metadata": {},
     "output_type": "execute_result"
    }
   ],
   "source": [
    "# Split an array in N parts.\n",
    "\n",
    "print(narr_my_fav_numbers)\n",
    "np.split(narr_my_fav_numbers, 3)"
   ]
  },
  {
   "cell_type": "code",
   "execution_count": 78,
   "id": "f0724064",
   "metadata": {},
   "outputs": [
    {
     "name": "stdout",
     "output_type": "stream",
     "text": [
      "[[0 1 2 3]\n",
      " [4 5 6 7]]\n",
      "[[ 8  9 10 11]\n",
      " [12 13 14 15]]\n",
      "[[ 0  1]\n",
      " [ 4  5]\n",
      " [ 8  9]\n",
      " [12 13]]\n",
      "[[ 2  3]\n",
      " [ 6  7]\n",
      " [10 11]\n",
      " [14 15]]\n"
     ]
    }
   ],
   "source": [
    "# Split vertically, a 2d array in two parts.\n",
    "top, bottom = np.vsplit(np.arange(16).reshape((4, 4)), [2])\n",
    "left, right = np.hsplit(np.arange(16).reshape((4, 4)), [2])\n",
    "print(top)\n",
    "print(bottom)\n",
    "print(left)\n",
    "print(right)"
   ]
  }
 ],
 "metadata": {
  "kernelspec": {
   "display_name": "venv_3_pytrash",
   "language": "python",
   "name": "venv"
  },
  "language_info": {
   "codemirror_mode": {
    "name": "ipython",
    "version": 3
   },
   "file_extension": ".py",
   "mimetype": "text/x-python",
   "name": "python",
   "nbconvert_exporter": "python",
   "pygments_lexer": "ipython3",
   "version": "3.9.4"
  }
 },
 "nbformat": 4,
 "nbformat_minor": 5
}
