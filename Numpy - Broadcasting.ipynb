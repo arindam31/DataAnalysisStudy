{
 "cells": [
  {
   "cell_type": "markdown",
   "id": "1925f84f",
   "metadata": {},
   "source": [
    "<h1 style=\"color:black;font-weight:normal;font-family:Georgia\"><span style=\"color:orange;\">Broadcasting</span> is a set of rules for applying binary ufuncs (e.g., addition, subtraction, multiplication, etc.) on arrays of different sizes.</h1>"
   ]
  },
  {
   "cell_type": "code",
   "execution_count": 2,
   "id": "8a73059b",
   "metadata": {},
   "outputs": [],
   "source": [
    "import numpy as np"
   ]
  },
  {
   "cell_type": "code",
   "execution_count": 2,
   "id": "a70760ae",
   "metadata": {},
   "outputs": [],
   "source": [
    "num_array = np.random.randint(1, 100, 10)"
   ]
  },
  {
   "cell_type": "code",
   "execution_count": 5,
   "id": "17eca13d",
   "metadata": {},
   "outputs": [
    {
     "data": {
      "text/plain": [
       "array([79, 94, 92, 87, 45, 89, 78, 28, 57, 68])"
      ]
     },
     "execution_count": 5,
     "metadata": {},
     "output_type": "execute_result"
    }
   ],
   "source": [
    "num_array + np.ones(10, dtype=int)"
   ]
  },
  {
   "cell_type": "code",
   "execution_count": 6,
   "id": "e7dd69d5",
   "metadata": {},
   "outputs": [
    {
     "data": {
      "text/plain": [
       "array([[79, 94, 92, 87, 45, 89, 78, 28, 57, 68],\n",
       "       [79, 94, 92, 87, 45, 89, 78, 28, 57, 68],\n",
       "       [79, 94, 92, 87, 45, 89, 78, 28, 57, 68]])"
      ]
     },
     "execution_count": 6,
     "metadata": {},
     "output_type": "execute_result"
    }
   ],
   "source": [
    "# Note: In the 1st array, there are only 1 row, and 10 columns. \n",
    "# Whereas, there are 3 rows and 10 columns in our ones array.\n",
    "\n",
    "num_array + np.ones((3,10), dtype=int)"
   ]
  },
  {
   "cell_type": "markdown",
   "id": "18f467a7",
   "metadata": {},
   "source": [
    "\n",
    "<h3>Tip:\n",
    "    <i><span style=\"color:orange;\">numpy.newaxis</span></i> is used to increase the dimension of the existing array by one more dimension, when used once.\n",
    "     </h3>\n",
    "<ul>\n",
    "    <li>1D array will become 2D array</li>\n",
    "    <li>2D array will become 3D array</li>\n",
    "    <li>3D array will become 4D array</li>\n",
    "    <li>4D array will become 5D array</li>\n",
    "</ul>\n",
    "   "
   ]
  },
  {
   "cell_type": "code",
   "execution_count": 17,
   "id": "1e0f76db",
   "metadata": {},
   "outputs": [
    {
     "name": "stdout",
     "output_type": "stream",
     "text": [
      "Shape of a: (3,)\n",
      "a [0 1 2]\n",
      "b [[0]\n",
      " [1]\n",
      " [2]]\n",
      "b shape (3, 1)\n",
      "[[0 1 2]\n",
      " [1 2 3]\n",
      " [2 3 4]]\n"
     ]
    }
   ],
   "source": [
    "# Adding a column\n",
    "\n",
    "a = np.arange(3)\n",
    "print(\"Shape of a:\", a.shape)\n",
    "b = a[:, np.newaxis]\n",
    "print(\"a\", a)\n",
    "print(\"b\", b)\n",
    "print(\"b shape\", b.shape)\n",
    "print(a + b)"
   ]
  },
  {
   "cell_type": "code",
   "execution_count": 16,
   "id": "eff69efc",
   "metadata": {},
   "outputs": [
    {
     "name": "stdout",
     "output_type": "stream",
     "text": [
      "a [3 5 6]\n",
      "b [[3 5 6]]\n",
      "Shape of a (3,)\n",
      "Shape of b (1, 3)\n",
      "[[ 6 10 12]]\n"
     ]
    }
   ],
   "source": [
    "# Adding a row\n",
    "\n",
    "a = np.random.randint(1, 10, (3, ))\n",
    "b = a[np.newaxis, :]\n",
    "print('a', a)\n",
    "print('b', b)\n",
    "print(\"Shape of a\", a.shape)\n",
    "print(\"Shape of b\", b.shape)\n",
    "print(a + b)"
   ]
  },
  {
   "cell_type": "code",
   "execution_count": 18,
   "id": "51fb7c0a",
   "metadata": {},
   "outputs": [
    {
     "name": "stdout",
     "output_type": "stream",
     "text": [
      "M [[1 1 1]\n",
      " [1 1 1]]\n",
      "b [0 1 2]\n",
      "Shape of M:  (2, 3)\n",
      "Shape of b:  (3,)\n",
      "Result: M+b\n",
      "[[1 2 3]\n",
      " [1 2 3]]\n",
      "Shape of result matrix: (2, 3)\n"
     ]
    }
   ],
   "source": [
    "# Adding a 2d array to a 1d array\n",
    "M = np.ones((2, 3), dtype=int)\n",
    "b = np.arange(3) # Its imp to note, that its a 1d array with shape(3, ). \n",
    "print('M', M)\n",
    "print('b', b)\n",
    "print(\"Shape of M: \", M.shape)\n",
    "print(\"Shape of b: \", b.shape)\n",
    "print('Result: M+b')\n",
    "result = M + b\n",
    "print(result)\n",
    "print(\"Shape of result matrix:\", result.shape)"
   ]
  },
  {
   "cell_type": "code",
   "execution_count": 35,
   "id": "400d8a26",
   "metadata": {},
   "outputs": [
    {
     "name": "stdout",
     "output_type": "stream",
     "text": [
      "[[1 1]\n",
      " [1 1]\n",
      " [1 1]]\n",
      "[0 1 2]\n"
     ]
    },
    {
     "ename": "ValueError",
     "evalue": "operands could not be broadcast together with shapes (3,2) (3,) ",
     "output_type": "error",
     "traceback": [
      "\u001b[0;31m---------------------------------------------------------------------------\u001b[0m",
      "\u001b[0;31mValueError\u001b[0m                                Traceback (most recent call last)",
      "\u001b[0;32m<ipython-input-35-bfa4a0308c8f>\u001b[0m in \u001b[0;36m<module>\u001b[0;34m\u001b[0m\n\u001b[1;32m      3\u001b[0m \u001b[0mprint\u001b[0m\u001b[0;34m(\u001b[0m\u001b[0mM\u001b[0m\u001b[0;34m)\u001b[0m\u001b[0;34m\u001b[0m\u001b[0;34m\u001b[0m\u001b[0m\n\u001b[1;32m      4\u001b[0m \u001b[0mprint\u001b[0m\u001b[0;34m(\u001b[0m\u001b[0mb\u001b[0m\u001b[0;34m)\u001b[0m\u001b[0;34m\u001b[0m\u001b[0;34m\u001b[0m\u001b[0m\n\u001b[0;32m----> 5\u001b[0;31m \u001b[0mprint\u001b[0m\u001b[0;34m(\u001b[0m\u001b[0mM\u001b[0m \u001b[0;34m+\u001b[0m \u001b[0mb\u001b[0m\u001b[0;34m)\u001b[0m\u001b[0;34m\u001b[0m\u001b[0;34m\u001b[0m\u001b[0m\n\u001b[0m",
      "\u001b[0;31mValueError\u001b[0m: operands could not be broadcast together with shapes (3,2) (3,) "
     ]
    }
   ],
   "source": [
    "# This example shows that some combinations cannot be broadcasted\n",
    "M = np.ones((3, 2), dtype=int)\n",
    "b = np.arange(3)\n",
    "print(M)\n",
    "print(b)\n",
    "print(M + b)"
   ]
  },
  {
   "cell_type": "code",
   "execution_count": 36,
   "id": "467e6318",
   "metadata": {},
   "outputs": [
    {
     "name": "stdout",
     "output_type": "stream",
     "text": [
      "Original array shape: (3, 3)\n",
      "[[1 1 1]\n",
      " [1 1 1]\n",
      " [1 1 1]]\n",
      "(3, 3, 1)\n",
      "(3, 1, 3)\n"
     ]
    },
    {
     "data": {
      "text/plain": [
       "array([[[1, 1, 1]],\n",
       "\n",
       "       [[1, 1, 1]],\n",
       "\n",
       "       [[1, 1, 1]]])"
      ]
     },
     "execution_count": 36,
     "metadata": {},
     "output_type": "execute_result"
    }
   ],
   "source": [
    "# Add new axis to multi dim array at the tail or head part.\n",
    "\n",
    "arr_ = np.ones((3,3), dtype=int)\n",
    "print(\"Original array shape:\", arr_.shape)\n",
    "print(arr_)\n",
    "new_arr_tail_new_axis = arr_[:, :, np.newaxis]\n",
    "print(new_arr_tail_new_axis.shape)\n",
    "\n",
    "new_arr_middle_new_axis = arr_[:, np.newaxis, :]\n",
    "print(new_arr_middle_new_axis.shape)\n",
    "\n",
    "# How does it look...i wonder\n",
    "new_arr_middle_new_axis"
   ]
  },
  {
   "cell_type": "markdown",
   "id": "f47e6c8a",
   "metadata": {},
   "source": [
    "<h2>Centering an array</h2>"
   ]
  },
  {
   "cell_type": "code",
   "execution_count": 41,
   "id": "117c6906",
   "metadata": {},
   "outputs": [
    {
     "name": "stdout",
     "output_type": "stream",
     "text": [
      "[[0.70810257 0.47468196 0.89472081]\n",
      " [0.43480909 0.60806041 0.04785814]\n",
      " [0.17186137 0.5980448  0.62340053]\n",
      " [0.53558108 0.63660992 0.6204429 ]\n",
      " [0.13212538 0.73788342 0.501214  ]\n",
      " [0.0090892  0.95444231 0.68661845]\n",
      " [0.77726015 0.97551613 0.38994021]\n",
      " [0.53306278 0.52894761 0.69599472]\n",
      " [0.45626956 0.39454839 0.28496175]\n",
      " [0.72650756 0.26200436 0.36437504]]\n",
      "[[ 0.25963569 -0.14239197  0.38376815]\n",
      " [-0.01365779 -0.00901352 -0.46309452]\n",
      " [-0.2766055  -0.01902913  0.11244788]\n",
      " [ 0.08711421  0.01953599  0.10949024]\n",
      " [-0.31634149  0.12080949 -0.00973865]\n",
      " [-0.43937767  0.33736838  0.17566579]\n",
      " [ 0.32879328  0.3584422  -0.12101244]\n",
      " [ 0.08459591 -0.08812632  0.18504207]\n",
      " [ 0.00780268 -0.22252554 -0.2259909 ]\n",
      " [ 0.27804068 -0.35506958 -0.14657762]]\n",
      "[ 1.11022302e-17 -3.33066907e-17  3.33066907e-17]\n"
     ]
    }
   ],
   "source": [
    "X = np.random.random((10, 3))\n",
    "print(X)\n",
    "Xmean = X.mean(0)\n",
    "X_centered = X - Xmean\n",
    "print(X_centered)\n",
    "print(X_centered.mean(0))"
   ]
  },
  {
   "cell_type": "code",
   "execution_count": 42,
   "id": "8c18590b",
   "metadata": {},
   "outputs": [
    {
     "data": {
      "image/png": "[encoded data removed]",
      "text/plain": [
       "<Figure size 432x288 with 2 Axes>"
      ]
     },
     "metadata": {
      "needs_background": "light"
     },
     "output_type": "display_data"
    }
   ],
   "source": [
    "%matplotlib inline\n",
    "import matplotlib.pyplot as plt\n",
    "\n",
    "plt.imshow(X_centered, origin='lower', extent=[0, 1, 0, 1],\n",
    "           cmap='viridis')\n",
    "plt.colorbar();"
   ]
  }
 ],
 "metadata": {
  "kernelspec": {
   "display_name": "venv",
   "language": "python",
   "name": "venv"
  },
  "language_info": {
   "codemirror_mode": {
    "name": "ipython",
    "version": 3
   },
   "file_extension": ".py",
   "mimetype": "text/x-python",
   "name": "python",
   "nbconvert_exporter": "python",
   "pygments_lexer": "ipython3",
   "version": "3.9.4"
  }
 },
 "nbformat": 4,
 "nbformat_minor": 5
}
