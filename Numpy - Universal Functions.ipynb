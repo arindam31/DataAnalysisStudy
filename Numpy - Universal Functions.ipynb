{
 "cells": [
  {
   "cell_type": "code",
   "execution_count": 1,
   "id": "205e356e",
   "metadata": {},
   "outputs": [],
   "source": [
    "import numpy as np\n",
    "import matplotlib.pyplot as plt\n",
    "np.random.seed(0)"
   ]
  },
  {
   "cell_type": "code",
   "execution_count": 2,
   "id": "47d19820",
   "metadata": {},
   "outputs": [],
   "source": [
    "test_array_2d = np.arange(9).reshape(3, 3)"
   ]
  },
  {
   "cell_type": "markdown",
   "id": "d57453c4",
   "metadata": {},
   "source": [
    "<h2>Array Arithmatics</h2>"
   ]
  },
  {
   "cell_type": "code",
   "execution_count": 3,
   "id": "33358972",
   "metadata": {},
   "outputs": [
    {
     "name": "stdout",
     "output_type": "stream",
     "text": [
      "Multiply N to array [[ 0  2  4]\n",
      " [ 6  8 10]\n",
      " [12 14 16]]\n",
      "Divide by N [[0 0 1]\n",
      " [1 2 2]\n",
      " [3 3 4]]\n",
      "Adding a number to array: [[100 101 102]\n",
      " [103 104 105]\n",
      " [106 107 108]]\n",
      "Adding a number to array: [[-100  -99  -98]\n",
      " [ -97  -96  -95]\n",
      " [ -94  -93  -92]]\n",
      "Negate array: [[ 0 -1 -2]\n",
      " [-3 -4 -5]\n",
      " [-6 -7 -8]]\n",
      "Mixing operations: [[120 122 124]\n",
      " [126 128 130]\n",
      " [132 134 136]]\n"
     ]
    }
   ],
   "source": [
    "print(\"Multiply N to array\", 2 * test_array_2d)\n",
    "print(\"Divide by N\", test_array_2d // 2)\n",
    "print(\"Adding a number to array:\", 100 + test_array_2d)\n",
    "print(\"Adding a number to array:\", test_array_2d - 100)\n",
    "print(\"Negate array:\", -test_array_2d)\n",
    "print(\"Mixing operations:\", (2 * (test_array_2d + 10) + 100))"
   ]
  },
  {
   "cell_type": "code",
   "execution_count": 4,
   "id": "c4de0261",
   "metadata": {},
   "outputs": [
    {
     "name": "stdout",
     "output_type": "stream",
     "text": [
      "Multiply N to array [[ 0  2  4]\n",
      " [ 6  8 10]\n",
      " [12 14 16]]\n",
      "Divide by N [[0.  0.5 1. ]\n",
      " [1.5 2.  2.5]\n",
      " [3.  3.5 4. ]]\n",
      "Adding a number to array: [[100 101 102]\n",
      " [103 104 105]\n",
      " [106 107 108]]\n",
      "Adding a number to array: [[-100  -99  -98]\n",
      " [ -97  -96  -95]\n",
      " [ -94  -93  -92]]\n",
      "Negate array: [[ 0 -1 -2]\n",
      " [-3 -4 -5]\n",
      " [-6 -7 -8]]\n"
     ]
    }
   ],
   "source": [
    "# All the above operations are actually methods called behind the scene.\n",
    "\n",
    "print(\"Multiply N to array\", np.multiply(test_array_2d, 2))\n",
    "print(\"Divide by N\", np.divide(test_array_2d, 2))\n",
    "print(\"Adding a number to array:\", np.add(test_array_2d, 100))\n",
    "print(\"Adding a number to array:\", np.subtract(test_array_2d, 100))\n",
    "print(\"Negate array:\", np.negative(test_array_2d, ))\n"
   ]
  },
  {
   "cell_type": "code",
   "execution_count": 5,
   "id": "b7de2717",
   "metadata": {},
   "outputs": [
    {
     "name": "stdout",
     "output_type": "stream",
     "text": [
      "[1 2 1 2]\n",
      "[5. 5. 2. 1.]\n"
     ]
    }
   ],
   "source": [
    "# Absolute of an array.\n",
    "print(np.abs(np.array([1,2,-1,-2])))\n",
    "print(np.abs(np.array([3 - 4j, 4 - 3j, 2 + 0j, 0 + 1j])))"
   ]
  },
  {
   "cell_type": "code",
   "execution_count": 6,
   "id": "dca69d62",
   "metadata": {},
   "outputs": [
    {
     "data": {
      "text/plain": [
       "array([ 1,  2,  4,  8, 16])"
      ]
     },
     "execution_count": 6,
     "metadata": {},
     "output_type": "execute_result"
    }
   ],
   "source": [
    "# Power of N\n",
    "np.power(2, np.arange(5)) "
   ]
  },
  {
   "cell_type": "markdown",
   "id": "357bf37c",
   "metadata": {},
   "source": [
    "<h2>Triginometric Functions</h2>"
   ]
  },
  {
   "cell_type": "code",
   "execution_count": 7,
   "id": "a0a0911f",
   "metadata": {},
   "outputs": [
    {
     "data": {
      "text/plain": [
       "1.0"
      ]
     },
     "execution_count": 7,
     "metadata": {},
     "output_type": "execute_result"
    }
   ],
   "source": [
    "np.sin(90 * np.pi/180)"
   ]
  },
  {
   "cell_type": "code",
   "execution_count": 8,
   "id": "2b22379c",
   "metadata": {},
   "outputs": [
    {
     "data": {
      "text/plain": [
       "0.5000000000000001"
      ]
     },
     "execution_count": 8,
     "metadata": {},
     "output_type": "execute_result"
    }
   ],
   "source": [
    "np.cos(60 * np.pi / 180)"
   ]
  },
  {
   "cell_type": "code",
   "execution_count": 9,
   "id": "3013f290",
   "metadata": {},
   "outputs": [
    {
     "data": {
      "text/plain": [
       "1.5707963267948966"
      ]
     },
     "execution_count": 9,
     "metadata": {},
     "output_type": "execute_result"
    }
   ],
   "source": [
    "np.arcsin(1) "
   ]
  },
  {
   "cell_type": "markdown",
   "id": "e793f29f",
   "metadata": {},
   "source": [
    "<h2>Exponents and Logs</h2>"
   ]
  },
  {
   "cell_type": "code",
   "execution_count": 10,
   "id": "233211db",
   "metadata": {},
   "outputs": [
    {
     "name": "stdout",
     "output_type": "stream",
     "text": [
      "[0.0024787521766663585, 0.006737946999085467, 0.01831563888873418, 0.049787068367863944, 0.1353352832366127, 0.36787944117144233, 1.0, 2.718281828459045, 7.38905609893065, 20.085536923187668, 54.598150033144236, 148.4131591025766, 403.4287934927351]\n"
     ]
    },
    {
     "data": {
      "text/plain": [
       "[<matplotlib.lines.Line2D at 0x7fda121788e0>]"
      ]
     },
     "execution_count": 10,
     "metadata": {},
     "output_type": "execute_result"
    },
    {
     "data": {
      "image/png": "[encoded data removed]",
      "text/plain": [
       "<Figure size 432x288 with 1 Axes>"
      ]
     },
     "metadata": {
      "needs_background": "light"
     },
     "output_type": "display_data"
    }
   ],
   "source": [
    "# exp: Exponential (2.718) known as 'e'. np.exp(x) = e^x \n",
    "fig = plt.figure()\n",
    "ax = fig.add_subplot(1, 1, 1)\n",
    "ax.spines['right'].set_color('none')\n",
    "ax.spines['top'].set_color('none')\n",
    "ax.spines['left'].set_position('center')\n",
    "exps_calc = [np.exp(value) for value in np.arange(-6, 7)]\n",
    "print(exps_calc)\n",
    "plt.plot(range(-6, 7), exps_calc)"
   ]
  },
  {
   "cell_type": "code",
   "execution_count": 11,
   "id": "4958bec7",
   "metadata": {},
   "outputs": [
    {
     "name": "stdout",
     "output_type": "stream",
     "text": [
      "[1.0, 2.0, 3.0, 4.0, 5.0]\n"
     ]
    },
    {
     "data": {
      "text/plain": [
       "[<matplotlib.lines.Line2D at 0x7fda12328340>]"
      ]
     },
     "execution_count": 11,
     "metadata": {},
     "output_type": "execute_result"
    },
    {
     "data": {
      "image/png": "[encoded data removed]",
      "text/plain": [
       "<Figure size 432x288 with 1 Axes>"
      ]
     },
     "metadata": {
      "needs_background": "light"
     },
     "output_type": "display_data"
    }
   ],
   "source": [
    "# np has log, log2, log10 for logarithmic operations.\n",
    "logs_calc = [np.log2(value) for value in np.array([2,4,8,16,32])]\n",
    "print(logs_calc)\n",
    "plt.plot(range(2, 11, 2), logs_calc)"
   ]
  },
  {
   "cell_type": "markdown",
   "id": "cffe1e37",
   "metadata": {},
   "source": [
    "<h2>Specifying Output</h2>\n",
    "\n",
    "<p>You can specify where the output will be stored (for all unary functions). </p>"
   ]
  },
  {
   "cell_type": "code",
   "execution_count": 12,
   "id": "9b22c017",
   "metadata": {},
   "outputs": [
    {
     "data": {
      "text/plain": [
       "array([[12,  2,  8],\n",
       "       [ 8, 16,  8],\n",
       "       [12,  6, 10]])"
      ]
     },
     "execution_count": 12,
     "metadata": {},
     "output_type": "execute_result"
    }
   ],
   "source": [
    "out_np = np.empty((3,3), dtype=int)\n",
    "rand_array = np.random.randint(1, 10, (3,3))\n",
    "np.multiply(rand_array, 2, out=out_np)"
   ]
  },
  {
   "cell_type": "markdown",
   "id": "aeed6726",
   "metadata": {},
   "source": [
    "<h2>Aggregators</h2>\n",
    "<hr/>\n",
    "<p>You can call some interesting methods over unary functions</p>\n",
    "<ul>\n",
    "    <li>reduce</li>\n",
    "    <li>sum</li>\n",
    "    <li>min</li>\n",
    "    <li>max</li>\n",
    "</ul>"
   ]
  },
  {
   "cell_type": "code",
   "execution_count": 13,
   "id": "330424ef",
   "metadata": {},
   "outputs": [
    {
     "data": {
      "text/plain": [
       "45"
      ]
     },
     "execution_count": 13,
     "metadata": {},
     "output_type": "execute_result"
    }
   ],
   "source": [
    "np.add.reduce(np.arange(10))"
   ]
  },
  {
   "cell_type": "code",
   "execution_count": 14,
   "id": "b9d55713",
   "metadata": {},
   "outputs": [
    {
     "data": {
      "text/plain": [
       "120"
      ]
     },
     "execution_count": 14,
     "metadata": {},
     "output_type": "execute_result"
    }
   ],
   "source": [
    "np.multiply.reduce(np.arange(1, 6))"
   ]
  },
  {
   "cell_type": "code",
   "execution_count": 15,
   "id": "fb158cee",
   "metadata": {},
   "outputs": [
    {
     "data": {
      "text/plain": [
       "array([ 0,  1,  3,  6, 10, 15, 21, 28, 36, 45])"
      ]
     },
     "execution_count": 15,
     "metadata": {},
     "output_type": "execute_result"
    }
   ],
   "source": [
    "# If you want to see each value that was calculated, use \"accumulate\".\n",
    "np.add.accumulate(np.arange(10))"
   ]
  },
  {
   "cell_type": "code",
   "execution_count": 16,
   "id": "381292d4",
   "metadata": {},
   "outputs": [
    {
     "data": {
      "text/plain": [
       "55"
      ]
     },
     "execution_count": 16,
     "metadata": {},
     "output_type": "execute_result"
    }
   ],
   "source": [
    "np.sum(np.arange(1, 11))"
   ]
  },
  {
   "cell_type": "code",
   "execution_count": 17,
   "id": "56f32922",
   "metadata": {},
   "outputs": [
    {
     "data": {
      "text/plain": [
       "2"
      ]
     },
     "execution_count": 17,
     "metadata": {},
     "output_type": "execute_result"
    }
   ],
   "source": [
    "np.min(np.array([8,3,6,9,2]))"
   ]
  },
  {
   "cell_type": "code",
   "execution_count": 18,
   "id": "9c2909cf",
   "metadata": {},
   "outputs": [
    {
     "data": {
      "text/plain": [
       "9"
      ]
     },
     "execution_count": 18,
     "metadata": {},
     "output_type": "execute_result"
    }
   ],
   "source": [
    "np.max(np.array([2,3,1,5,8,9,3,2,7]))"
   ]
  },
  {
   "cell_type": "code",
   "execution_count": 28,
   "id": "8a2cc722",
   "metadata": {},
   "outputs": [
    {
     "name": "stdout",
     "output_type": "stream",
     "text": [
      "5 4\n"
     ]
    }
   ],
   "source": [
    "# Bonus. Only get the index of min/max value, not the actual value.\n",
    "# So in the example array, 9 is the max number, but its index, is 5.\n",
    "\n",
    "ind_max = np.argmax(np.array([2,3,1,5,8,9,3,2,7]))\n",
    "ind_min = np.argmin(np.array([8,3,6,9,2]))\n",
    "print (ind_max, ind_min)"
   ]
  },
  {
   "cell_type": "markdown",
   "id": "067f7677",
   "metadata": {},
   "source": [
    "<h2>Array themselves have few methods available to them for min, max etc.</h2>\n",
    "<ul>\n",
    "    <li>min</li>\n",
    "    <li>max</li>\n",
    "    <li>sum</li>\n",
    "    <li>mean</li>\n",
    "    <li>...</li>\n",
    " </ul>\n",
    " \n",
    " <p> The list is long....</p>"
   ]
  },
  {
   "cell_type": "code",
   "execution_count": 20,
   "id": "9069b9b5",
   "metadata": {},
   "outputs": [
    {
     "name": "stdout",
     "output_type": "stream",
     "text": [
      "Smallest number: 23 , Largest number: 67 , Sum of all: 268\n"
     ]
    }
   ],
   "source": [
    "# Array themselves have few methods available to them for min, max etc.\n",
    "\n",
    "arr = np.array([65,34,23,34,45,67])\n",
    "print(\"Smallest number:\", arr.min(), \", Largest number:\", arr.max(), \", Sum of all:\", arr.sum())"
   ]
  },
  {
   "cell_type": "markdown",
   "id": "5a1805fd",
   "metadata": {},
   "source": [
    "<h3>These aggregator methods generally work on the whole array, but some arguments are available to control that.</h3>"
   ]
  },
  {
   "cell_type": "code",
   "execution_count": 21,
   "id": "db50ff67",
   "metadata": {},
   "outputs": [
    {
     "name": "stdout",
     "output_type": "stream",
     "text": [
      "[[7 6 8]\n",
      " [8 1 6]\n",
      " [7 7 8]]\n"
     ]
    }
   ],
   "source": [
    "# Lets create a 2d array and try some other ideas.\n",
    "arr_2d = np.random.randint(0, 10, (3, 3))\n",
    "print(arr_2d)"
   ]
  },
  {
   "cell_type": "code",
   "execution_count": 22,
   "id": "9a29f647",
   "metadata": {},
   "outputs": [
    {
     "name": "stdout",
     "output_type": "stream",
     "text": [
      "Sum of all:  58\n",
      "Sum of every column:  [22 14 22]\n",
      "Sum of every row:  [21 15 22]\n"
     ]
    }
   ],
   "source": [
    "# Sum \n",
    "\n",
    "print(\"Sum of all: \", np.sum(arr_2d))\n",
    "print(\"Sum of every column: \", np.sum(arr_2d, axis=0))\n",
    "print(\"Sum of every row: \", np.sum(arr_2d, axis=1))"
   ]
  },
  {
   "cell_type": "code",
   "execution_count": 23,
   "id": "75eda445",
   "metadata": {},
   "outputs": [
    {
     "name": "stdout",
     "output_type": "stream",
     "text": [
      "Min/Max of all:  1 8\n",
      "Min/Max of every column:  [7 1 6] [8 7 8]\n",
      "Sum of every row:  [6 1 7] [8 8 8]\n"
     ]
    }
   ],
   "source": [
    "# Min / Max\n",
    "\n",
    "print(\"Min/Max of all: \", np.min(arr_2d), np.max(arr_2d))\n",
    "print(\"Min/Max of every column: \", np.min(arr_2d, axis=0), np.max(arr_2d, axis=0))\n",
    "print(\"Sum of every row: \", np.min(arr_2d, axis=1), np.max(arr_2d, axis=1))"
   ]
  },
  {
   "cell_type": "markdown",
   "id": "2a5334e7",
   "metadata": {},
   "source": [
    "<h2>Lets use these aggregator methods on some statistics</h2>"
   ]
  },
  {
   "cell_type": "code",
   "execution_count": 24,
   "id": "353bee77",
   "metadata": {},
   "outputs": [
    {
     "name": "stdout",
     "output_type": "stream",
     "text": [
      "[189 170 189 163 183 171 185 168 173 183 173 173 175 178 183 193 178 173\n",
      " 174 183 183 168 170 178 182 180 183 178 182 188 175 179 183 193 182 183\n",
      " 177 185 188 188 182 185]\n"
     ]
    }
   ],
   "source": [
    "# Load a csv file that has the heights of all presidents.\n",
    "\n",
    "import pandas as pd\n",
    "data = pd.read_csv('presidents.csv')\n",
    "heights = np.array(data['height(cm)'])\n",
    "print(heights)"
   ]
  },
  {
   "cell_type": "code",
   "execution_count": 25,
   "id": "32384468",
   "metadata": {},
   "outputs": [
    {
     "name": "stdout",
     "output_type": "stream",
     "text": [
      "Mean height:        179.73809523809524\n",
      "Standard deviation: 6.931843442745892\n",
      "Minimum height:     163\n",
      "Maximum height:     193\n"
     ]
    }
   ],
   "source": [
    "print(\"Mean height:       \", heights.mean())\n",
    "print(\"Standard deviation:\", heights.std())\n",
    "print(\"Minimum height:    \", heights.min())\n",
    "print(\"Maximum height:    \", heights.max())"
   ]
  }
 ],
 "metadata": {
  "kernelspec": {
   "display_name": "venv",
   "language": "python",
   "name": "venv"
  },
  "language_info": {
   "codemirror_mode": {
    "name": "ipython",
    "version": 3
   },
   "file_extension": ".py",
   "mimetype": "text/x-python",
   "name": "python",
   "nbconvert_exporter": "python",
   "pygments_lexer": "ipython3",
   "version": "3.9.4"
  }
 },
 "nbformat": 4,
 "nbformat_minor": 5
}
